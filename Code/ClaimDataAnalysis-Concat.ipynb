{
 "cells": [
  {
   "cell_type": "markdown",
   "metadata": {},
   "source": [
    "# Carpet Claim Data Analysis\n",
    "Investigate the defects in the delamination testing data using one monthe data (Aug 2017) at various intervals"
   ]
  },
  {
   "cell_type": "code",
   "execution_count": 1,
   "metadata": {
    "collapsed": true
   },
   "outputs": [],
   "source": [
    "# Load necessary libraries\n",
    "import numpy as np\n",
    "import pandas as pd\n",
    "import os, inspect\n",
    "import csv\n",
    "%matplotlib inline \n",
    "import pylab\n",
    "import matplotlib.pylab as plt\n",
    "import matplotlib.image as img\n",
    "import scipy.stats as stats\n",
    "import seaborn as sns\n",
    "from IPython.core.display import HTML \n",
    "from sklearn.preprocessing import scale\n",
    "from bokeh.io import show, output_file\n",
    "from bokeh.plotting import figure\n",
    "#from bokeh.charts import Bar, BoxPlot\n",
    "from sklearn.model_selection import train_test_split\n",
    "from sklearn import preprocessing\n",
    "from sklearn.metrics import classification_report\n",
    "from sklearn.model_selection import StratifiedKFold, cross_val_score"
   ]
  },
  {
   "cell_type": "markdown",
   "metadata": {},
   "source": [
    "# Define functions"
   ]
  },
  {
   "cell_type": "code",
   "execution_count": 2,
   "metadata": {
    "collapsed": true
   },
   "outputs": [],
   "source": [
    "#define a function to visualize results\n",
    "def _plot_value_series(self, dt, factor, yName, iplot, varDefect=None):\n",
    "    #self is data array\n",
    "    nrow = len(self)\n",
    "    #Feature\n",
    "    self_max = np.max(self)\n",
    "    self_min = np.min(self)\n",
    "    self_mu = np.mean(self)\n",
    "    self_std = np.std(self)\n",
    "    upper_limit = self_mu + factor * self_std;\n",
    "    lower_limit = self_mu - factor * self_std;\n",
    "    \n",
    "    #create a vector\n",
    "    ts = range(nrow)\n",
    " \n",
    "    #check timepoints\n",
    "    len_time = len(dt)\n",
    "    if len_time > nrow or len_time < nrow:\n",
    "        dt = ts\n",
    "        \n",
    "    fig = plt.figure(figsize=(11,4))    \n",
    "    ax = plt.subplot(111)  \n",
    "    \n",
    "     #plt.plot(dt,X,'k-')\n",
    "    s1 = np.random.rand(*dt.shape) * 80 + 50\n",
    "    plt.scatter(dt,self, s1, c=\"k\", alpha = 0.8)  \n",
    "    #plt.plot(dt,self,'k-')\n",
    "    \n",
    "    #####horizontal line\n",
    "    upper_limit_data = np.array([upper_limit for i in range(len(dt))])\n",
    "    plt.plot(dt, upper_limit_data, 'r--', label='Upper Limit') \n",
    "\n",
    "    lower_limit_data = np.array([lower_limit for i in range(len(dt))])\n",
    "    plt.plot(dt, lower_limit_data, 'g--', label='Lower Limit') \n",
    "    \n",
    "    #ax.axhline(y=upper_limit, xmin=dt[0], xmax = dt[len(dt)-1],color = 'b', label='Upper limit')\n",
    "    #ax.axhline(y=lower_limit, xmin=dt[0], xmax = dt[len(dt)-1],color='g', label='Lower limit')\n",
    "    plt.ylabel(yName)\n",
    "    plt.xlabel('Time')\n",
    "    \n",
    "    # retrieving the indices where \"sng > max\" using np.where    \n",
    "    upperIndex = []\n",
    "    upperCnt = 0.0\n",
    "    lowerIndex = []\n",
    "    lowerCnt = 0.0\n",
    "    for index, item in enumerate(self):        \n",
    "        if item > upper_limit:\n",
    "            upperCnt += 1.0\n",
    "            upperIndex.append(index)\n",
    "            plt.plot(dt[index],item, 'bs') \n",
    "        else:\n",
    "            if item < lower_limit:\n",
    "                lowerCnt += 1.0\n",
    "                lowerIndex.append(index)\n",
    "                plt.plot(dt[index],item, 'ms')           \n",
    "            \n",
    "        if varDefect is not None and varDefect[index] > 0:\n",
    "            s = np.pi * varDefect[index]**2 #np.random.rand(*dt.shape) * 80 + 50\n",
    "            plt.scatter(dt[index],item,s, c=\"r\", alpha = 0.5)         \n",
    "            \n",
    "    # Now add the legend with some customizations.\n",
    "    legend = ax.legend(loc='best', shadow=True)\n",
    "\n",
    "    # The frame is matplotlib.patches.Rectangle instance surrounding the legend.\n",
    "    frame = legend.get_frame()\n",
    "    frame.set_facecolor('0.90')\n",
    "\n",
    "    # Set the fontsize\n",
    "    for label in legend.get_texts():\n",
    "        label.set_fontsize('large')\n",
    "\n",
    "    for label in legend.get_lines():\n",
    "        label.set_linewidth(1.0)  # the legend line width\n",
    "    \n",
    "    plt.show()\n",
    "    \n",
    "    # display the failure data points\n",
    "    if (iplot == 1) and (upperCnt > 0.0):\n",
    "        print('Number of above upper limit points = ', upperCnt)\n",
    "        print('Above upperlimit points:', upperIndex)        \n",
    "    \n",
    "    if (iplot == 1) and (lowerCnt > 0.0):\n",
    "        print('Number of below lowerlimit points = ', lowerCnt)\n",
    "        print('Below lowerlimit points:', lowerIndex)    "
   ]
  },
  {
   "cell_type": "code",
   "execution_count": 3,
   "metadata": {
    "collapsed": true
   },
   "outputs": [],
   "source": [
    "#Visualizing Interrelationships between Attributes - scatter\n",
    "def _plot_multivariate(self):\n",
    "    plt.figure(figsize=(14,14))\n",
    "    pd.plotting.scatter_matrix(self, diagonal=\"kde\") \n",
    "    plt.tight_layout()\n",
    "    plt.show()"
   ]
  },
  {
   "cell_type": "code",
   "execution_count": 4,
   "metadata": {
    "collapsed": true
   },
   "outputs": [],
   "source": [
    "#Visualizing Attribute and Label Correlations Using a Heat Map\n",
    "#calculate correlations between real-valued attributes\n",
    "def _plot_heatmap(self):\n",
    "    xcorMat = pd.DataFrame(self.corr())\n",
    "    #visualize correlations using heatmap\n",
    "    plt.pcolor(xcorMat)\n",
    "    plt.show() "
   ]
  },
  {
   "cell_type": "code",
   "execution_count": 5,
   "metadata": {
    "collapsed": true
   },
   "outputs": [],
   "source": [
    "# plot quantile-quantile of data   \n",
    "def _plot_QQ(self):    \n",
    "    #plot quantile-quantile of a timeseries\n",
    "    stats.probplot(self, dist=\"norm\", plot=plt)\n",
    "    plt.show() "
   ]
  },
  {
   "cell_type": "code",
   "execution_count": 6,
   "metadata": {
    "collapsed": true
   },
   "outputs": [],
   "source": [
    "def _plot_boxplot(self):\n",
    "    #plot box plot of one variable or matrix\n",
    "    plt.figure(figsize=(11,11)) \n",
    "    plt.boxplot(self, 0, 'rD', 0, 0.75)    \n",
    "    plt.show()"
   ]
  },
  {
   "cell_type": "code",
   "execution_count": 7,
   "metadata": {
    "collapsed": true
   },
   "outputs": [],
   "source": [
    "def _timeseries_plot(self):\n",
    "    #plot time series of univaraite or multivariable\n",
    "    plt.figure(figsize=(15,4))\n",
    "    ax = self.plot()\n",
    "    ax.legend(loc='center left', bbox_to_anchor=(1, 0.5));\n",
    "    plt.show()\n",
    "    plt.show()"
   ]
  },
  {
   "cell_type": "code",
   "execution_count": 8,
   "metadata": {
    "collapsed": true
   },
   "outputs": [],
   "source": [
    "# clean latex type\n",
    "def _read_tagData(dataModel, tag, thred):    \n",
    "    dataModel_output = dataModel.loc[lambda dataModel: dataModel[tag] == thred, :]\n",
    "    #print(dataModel.loc[:,['GFROLL', 'GFLTYP','delamIndex', 'delamMin']], len(dataModel_output.GFROLL))\n",
    "    return dataModel_output"
   ]
  },
  {
   "cell_type": "code",
   "execution_count": 9,
   "metadata": {
    "collapsed": true
   },
   "outputs": [],
   "source": [
    "def _read_upper(dataModel, tag, upperThred):    \n",
    "    dataModel_output = dataModel.loc[lambda dataModel: dataModel[tag] <= upperThred,:]\n",
    "    return dataModel_output\n",
    "        \n",
    "def _read_lower(dataModel, tag, lowerThred):    \n",
    "    dataModel_output = dataModel.loc[lambda dataModel: dataModel[tag] >= lowerThred,:]\n",
    "    return dataModel_output\n",
    "\n",
    "def _drop_rows(dataModel, tag, thred):\n",
    "    #drop other GFTYPE\n",
    "    # thred can be a numerical or string   \n",
    "    \n",
    "    dataModel_rem = dataModel[dataModel[tag] != thred]\n",
    "    return dataModel_rem"
   ]
  },
  {
   "cell_type": "code",
   "execution_count": 10,
   "metadata": {
    "collapsed": true
   },
   "outputs": [],
   "source": [
    "from collections import Counter\n",
    "def class_info(classes):\n",
    "    counts = Counter(classes)\n",
    "    total = sum(list(counts.values()))\n",
    "  \n",
    "    for cls in counts.keys():\n",
    "        print(\"%6s: % 7d  =  % 5.1f%%\" % (cls, counts[cls], counts[cls]/total*100))\n"
   ]
  },
  {
   "cell_type": "code",
   "execution_count": 11,
   "metadata": {
    "collapsed": true
   },
   "outputs": [],
   "source": [
    " def _create_filename(path, fname, affix = '.csv'):\n",
    "        # create new file name\n",
    "                    \n",
    "        output_name = fname + affix        \n",
    "        foutput_name = os.path.join(path, '', output_name)\n",
    "              \n",
    "        return foutput_name"
   ]
  },
  {
   "cell_type": "code",
   "execution_count": 12,
   "metadata": {
    "collapsed": true
   },
   "outputs": [],
   "source": [
    "# set working directory\n",
    "#curPath = os.path.dirname(os.path.abspath(inspect.getfile(inspect.currentframe()))) # script directory\n",
    "#parentDir = os.path.split(curPath)[0];\n",
    "parentDir = 'C:/Users/E154709/Desktop/Mohawk/Claims'\n",
    "os.chdir(parentDir)\n",
    "\n",
    "outputPath = parentDir + '/Output/'\n",
    "if not os.path.exists(outputPath):\n",
    "    os.mkdir(outputPath)\n",
    "    \n",
    "codePath = parentDir + '/Code/'\n",
    "if not os.path.exists(codePath):\n",
    "    os.mkdir(codePath)\n",
    "    \n",
    "dataPath = parentDir + '/Data/'\n",
    "if not os.path.exists(dataPath):\n",
    "    os.mkdir(dataPath)\n"
   ]
  },
  {
   "cell_type": "code",
   "execution_count": 101,
   "metadata": {},
   "outputs": [
    {
     "name": "stdout",
     "output_type": "stream",
     "text": [
      "C:/Users/E154709/Desktop/Mohawk/Claims/Data/rawData_con.csv\n",
      "C:/Users/E154709/Desktop/Mohawk/Claims/Data/modelData.csv\n"
     ]
    }
   ],
   "source": [
    "#create data file\n",
    "    \n",
    "fname = 'rawData_con'\n",
    "frawData = _create_filename(dataPath,fname)\n",
    "print(frawData)\n",
    "\n",
    "fname = 'modelData'\n",
    "fmodelData = _create_filename(dataPath,fname)\n",
    "print(fmodelData)"
   ]
  },
  {
   "cell_type": "markdown",
   "metadata": {},
   "source": [
    "# Import and Consolidate Claim Data \n",
    "\n",
    "Run this section only if you have not consolidated the raw data. Otherwise, directly go to the section of claim data processing"
   ]
  },
  {
   "cell_type": "code",
   "execution_count": 102,
   "metadata": {
    "collapsed": true
   },
   "outputs": [],
   "source": [
    "# Read Claims Data\n",
    "import chardet\n",
    "    \n",
    "Claim_dataPath = 'C:/Users/E154709/Desktop/Mohawk/Claims/Data/Claims.csv'\n",
    "ClaimsData = pd.read_csv(Claim_dataPath, encoding='latin1')  # Read the claims data\n",
    "\n",
    "ClaimReason_dataPath = 'C:/Users/E154709/Desktop/Mohawk/Claims/Data/Claims_Reason.csv'\n",
    "ClaimReason = pd.read_csv(ClaimReason_dataPath, encoding='utf-8')  # Read the claimReason data\n",
    "\n",
    "ClaimStatus_dataPath = 'C:/Users/E154709/Desktop/Mohawk/Claims/Data/Claims_Status.csv'\n",
    "ClaimStatus = pd.read_csv(ClaimStatus_dataPath, encoding='utf-8')  # Read the claimReason data\n",
    "\n",
    "ClaimType_dataPath = 'C:/Users/E154709/Desktop/Mohawk/Claims/Data/Claims_Type.csv'\n",
    "ClaimType = pd.read_csv(ClaimType_dataPath, encoding='utf-8')  # Read the claimReason data\n",
    "\n",
    "ClaimCustomer_dataPath = 'C:/Users/E154709/Desktop/Mohawk/Claims/Data/SLS_Customer.csv'\n",
    "ClaimCustomer = pd.read_csv(ClaimCustomer_dataPath, encoding='latin1')  # Read the claimReason data"
   ]
  },
  {
   "cell_type": "code",
   "execution_count": 15,
   "metadata": {},
   "outputs": [
    {
     "name": "stdout",
     "output_type": "stream",
     "text": [
      "       FACT_CUSTOMER_CLAIMS_PK  DIM_DIVISION_CUSTOMER_PK  \\\n",
      "count             3.114910e+05              3.114910e+05   \n",
      "mean              1.238682e+07              2.042229e+06   \n",
      "std               7.553653e+05              2.644398e+05   \n",
      "min               1.747000e+03              1.257705e+06   \n",
      "25%               1.235823e+07              1.984710e+06   \n",
      "50%               1.244263e+07              2.155343e+06   \n",
      "75%               1.252643e+07              2.212648e+06   \n",
      "max               1.261002e+07              2.318022e+06   \n",
      "\n",
      "       DIM_DIVISION_CUSTOMER_GK  CLAIM_DATE_PK  CLAIM_STATUS_DATE_PK  \\\n",
      "count             311491.000000   3.114910e+05          3.114910e+05   \n",
      "mean              282254.679564   2.017000e+07          2.017061e+07   \n",
      "std                69499.110024   3.625091e+04          3.353591e+02   \n",
      "min                54987.000000  -1.000000e+00          2.010052e+07   \n",
      "25%               242550.000000   2.017030e+07          2.017040e+07   \n",
      "50%               268953.000000   2.017052e+07          2.017062e+07   \n",
      "75%               325933.000000   2.017080e+07          2.017083e+07   \n",
      "max               414119.000000   2.020051e+07          2.017102e+07   \n",
      "\n",
      "       CLAIM_ENTRY_DATE_PK  INVOICE_DATE_PK  CREDIT_MEMO_DATE_PK  \\\n",
      "count         3.114910e+05     3.114910e+05         3.114910e+05   \n",
      "mean          2.017056e+07     2.000230e+07         1.357936e+07   \n",
      "std           2.893040e+02     1.813312e+06         9.460693e+06   \n",
      "min           2.017010e+07    -1.000000e+00        -1.000000e+00   \n",
      "25%           2.017032e+07     2.016123e+07        -1.000000e+00   \n",
      "50%           2.017060e+07     2.017032e+07         2.017033e+07   \n",
      "75%           2.017082e+07     2.017062e+07         2.017071e+07   \n",
      "max           2.020051e+07     2.026122e+07         2.017102e+07   \n",
      "\n",
      "       DEBIT_MEMO_DATE_PK  DIM_CLAIM_COMMENTS_PK           ...             \\\n",
      "count        3.114910e+05           3.114910e+05           ...              \n",
      "mean         1.073157e+07           1.147411e+06           ...              \n",
      "std          1.006399e+07           6.406224e+05           ...              \n",
      "min         -1.000000e+00          -1.000000e+00           ...              \n",
      "25%         -1.000000e+00           6.751950e+05           ...              \n",
      "50%          2.016113e+07           1.221183e+06           ...              \n",
      "75%          2.017052e+07           1.708252e+06           ...              \n",
      "max          2.026112e+07           2.069302e+06           ...              \n",
      "\n",
      "       CURRENT_SALES_ORG_PK  CURRENT_SALES_ORG_GK  PRIMARY_CUSTOMER_PK  \\\n",
      "count         311491.000000         311491.000000         3.114910e+05   \n",
      "mean          264515.959427           3047.373764         2.050886e+06   \n",
      "std            58437.848107           1463.417314         2.411459e+05   \n",
      "min              687.000000            454.000000         1.270075e+06   \n",
      "25%           223076.000000           1754.000000         1.988962e+06   \n",
      "50%           275817.000000           3093.000000         2.149692e+06   \n",
      "75%           304966.000000           3868.000000         2.211288e+06   \n",
      "max           354876.000000           6445.000000         2.318022e+06   \n",
      "\n",
      "       PRIMARY_CUSTOMER_GK     CLAIM_NUM  CLAIM_SEQUENCE_NUM   INVOICE_NUM  \\\n",
      "count        311491.000000  3.114910e+05       311491.000000  3.114910e+05   \n",
      "mean         272967.943385  7.029022e+06            5.072201  7.540063e+06   \n",
      "std           64444.930963  4.896830e+04           10.125960  2.851259e+06   \n",
      "min           54987.000000  3.824959e+06            1.000000  0.000000e+00   \n",
      "25%          241206.000000  6.998505e+06            1.000000  7.685948e+06   \n",
      "50%          264193.000000  7.030880e+06            2.000000  8.623290e+06   \n",
      "75%          312722.000000  7.064003e+06            4.000000  9.280933e+06   \n",
      "max          414119.000000  7.097971e+06          229.000000  9.999999e+06   \n",
      "\n",
      "       INVOICE_SEQUENCE_NUM  CREDIT_MEMO_NUM  TOTAL_CLAIMS_DOLLAR_AMT  \n",
      "count         311491.000000     3.114910e+05            311491.000000  \n",
      "mean               9.129692     5.121303e+06               579.259881  \n",
      "std              163.191593     4.434544e+06              6118.321293  \n",
      "min                0.000000     0.000000e+00            -12752.680000  \n",
      "25%                2.000000     0.000000e+00                16.240000  \n",
      "50%                3.000000     8.486321e+06                65.170000  \n",
      "75%                6.000000     9.255762e+06               409.400000  \n",
      "max             9999.000000     9.993839e+06            904647.560000  \n",
      "\n",
      "[8 rows x 29 columns]\n",
      "(311491, 40)\n",
      "['FACT_CUSTOMER_CLAIMS_PK' 'TRX_CUSTOMER_CLAIMS_ID'\n",
      " 'DIM_DIVISION_CUSTOMER_PK' 'DIM_DIVISION_CUSTOMER_GK' 'CLAIM_DATE_PK'\n",
      " 'CLAIM_STATUS_DATE_PK' 'CLAIM_ENTRY_DATE_PK' 'INVOICE_DATE_PK'\n",
      " 'CREDIT_MEMO_DATE_PK' 'DEBIT_MEMO_DATE_PK' 'DIM_CLAIM_COMMENTS_PK'\n",
      " 'DIM_CLAIM_TYPE_PK' 'DIM_CLAIM_STATUS_PK' 'DIM_CLAIM_REASON_PK'\n",
      " 'DIM_FINISHED_PRODUCT_SELL_PK' 'DIM_FINISHED_PRODUCT_SELL_GK'\n",
      " 'PRODUCT_TYPE_PK' 'DIM_MISC_CHARGE_PK' 'DIM_SALES_ORG_PK'\n",
      " 'DIM_SALES_ORG_GK' 'CURRENT_SALES_ORG_PK' 'CURRENT_SALES_ORG_GK'\n",
      " 'PRIMARY_CUSTOMER_PK' 'PRIMARY_CUSTOMER_GK'\n",
      " 'SECURITY_TERRITORY_MANAGER_CD' 'CLAIM_NUM' 'CLAIM_SEQUENCE_NUM'\n",
      " 'INVOICE_NUM' 'INVOICE_SEQUENCE_NUM' 'CREDIT_MEMO_NUM'\n",
      " 'CUSTOMER_CONTACT_NAME' 'CLAIMS_ANALYST_CD' 'ENTERED_BY_TXT'\n",
      " 'TOTAL_CLAIMS_DOLLAR_AMT' 'ENTERPRISE_ENTITY_CD' 'SOURCE_SYSTEM_CD'\n",
      " 'CREATE_DTM' 'UPDATE_DTM' 'SOURCE_DTM' 'LANDING_DTM']\n"
     ]
    }
   ],
   "source": [
    "#check the claim data\n",
    "print(ClaimsData.describe())\n",
    "print(ClaimsData.shape)\n",
    "print(ClaimsData.columns.values)"
   ]
  },
  {
   "cell_type": "code",
   "execution_count": 103,
   "metadata": {},
   "outputs": [
    {
     "name": "stdout",
     "output_type": "stream",
     "text": [
      "       DIM_CLAIM_REASON_PK  DIM_CLAIM_REASON_GK\n",
      "count             566.0000           566.000000\n",
      "mean              280.5000           281.496466\n",
      "std               163.5344           163.540515\n",
      "min                -2.0000            -2.000000\n",
      "25%               139.2500           140.250000\n",
      "50%               280.5000           281.500000\n",
      "75%               421.7500           422.750000\n",
      "max               563.0000           564.000000\n",
      "(566, 13)\n",
      "['DIM_CLAIM_REASON_PK' 'DIM_CLAIM_REASON_GK' 'CLAIM_REASON_CD'\n",
      " 'CLAIM_REASON_DESC' 'CLAIM_REASON_SHORT_DESC' 'CLAIM_DEPARTMENT_CD'\n",
      " 'QUALITY_RELATED_CD' 'ENTERPRISE_ENTITY_CD' 'SOURCE_SYSTEM_CD'\n",
      " 'DELETE_IND' 'CREATE_DTM' 'UPDATE_DTM' 'LANDING_DTM']\n"
     ]
    }
   ],
   "source": [
    "#check the claim data\n",
    "print(ClaimReason.describe())\n",
    "print(ClaimReason.shape)\n",
    "print(ClaimReason.columns.values)"
   ]
  },
  {
   "cell_type": "code",
   "execution_count": 104,
   "metadata": {},
   "outputs": [
    {
     "name": "stdout",
     "output_type": "stream",
     "text": [
      "                     DIM_CLAIM_REASON_GK       CLAIM_REASON_CD  \\\n",
      "DIM_CLAIM_REASON_PK                                              \n",
      " 64                                   65                   463   \n",
      "-2                                    -2  Not Applicable (N/A)   \n",
      "\n",
      "                         CLAIM_REASON_DESC CLAIM_REASON_SHORT_DESC  \\\n",
      "DIM_CLAIM_REASON_PK                                                  \n",
      " 64                  CUT SHORTAGE - POLICY                CUTPOLCY   \n",
      "-2                    Not Applicable (N/A)    Not Applicable (N/A)   \n",
      "\n",
      "                      CLAIM_DEPARTMENT_CD    QUALITY_RELATED_CD  \\\n",
      "DIM_CLAIM_REASON_PK                                               \n",
      " 64                                   NaN                     N   \n",
      "-2                   Not Applicable (N/A)  Not Applicable (N/A)   \n",
      "\n",
      "                     ENTERPRISE_ENTITY_CD      SOURCE_SYSTEM_CD DELETE_IND  \\\n",
      "DIM_CLAIM_REASON_PK                                                          \n",
      " 64                                   MHK                  CAMS          N   \n",
      "-2                   Not Applicable (N/A)  Not Applicable (N/A)          N   \n",
      "\n",
      "                          CREATE_DTM       UPDATE_DTM      LANDING_DTM  \n",
      "DIM_CLAIM_REASON_PK                                                     \n",
      " 64                  11/29/2016 8:49   5/10/2017 5:24   5/9/2017 18:01  \n",
      "-2                   10/20/2017 5:17  10/20/2017 5:17  10/20/2017 5:17  \n"
     ]
    }
   ],
   "source": [
    "ClaimReason=ClaimReason.set_index('DIM_CLAIM_REASON_PK')\n",
    "print(ClaimReason.head(2))"
   ]
  },
  {
   "cell_type": "code",
   "execution_count": 105,
   "metadata": {},
   "outputs": [
    {
     "name": "stdout",
     "output_type": "stream",
     "text": [
      "                     FACT_CUSTOMER_CLAIMS_PK TRX_CUSTOMER_CLAIMS_ID  \\\n",
      "DIM_CLAIM_REASON_PK                                                   \n",
      "492                                 12375985            R-7009810-1   \n",
      "101                                 12404445            R-7020309-1   \n",
      "\n",
      "                     DIM_DIVISION_CUSTOMER_PK  DIM_DIVISION_CUSTOMER_GK  \\\n",
      "DIM_CLAIM_REASON_PK                                                       \n",
      "492                                   1843099                    270298   \n",
      "101                                   1977635                    286706   \n",
      "\n",
      "                     CLAIM_DATE_PK  CLAIM_STATUS_DATE_PK  CLAIM_ENTRY_DATE_PK  \\\n",
      "DIM_CLAIM_REASON_PK                                                             \n",
      "492                       20170330              20170330             20170330   \n",
      "101                       20170426              20170426             20170426   \n",
      "\n",
      "                     INVOICE_DATE_PK  CREDIT_MEMO_DATE_PK  DEBIT_MEMO_DATE_PK  \\\n",
      "DIM_CLAIM_REASON_PK                                                             \n",
      "492                         20170330             20170330                  -1   \n",
      "101                         20170426             20170426                  -1   \n",
      "\n",
      "                          ...        CUSTOMER_CONTACT_NAME  CLAIMS_ANALYST_CD  \\\n",
      "DIM_CLAIM_REASON_PK       ...                                                   \n",
      "492                       ...                          NaN                BJG   \n",
      "101                       ...                          NaN                BJG   \n",
      "\n",
      "                     ENTERED_BY_TXT  TOTAL_CLAIMS_DOLLAR_AMT  \\\n",
      "DIM_CLAIM_REASON_PK                                            \n",
      "492                             BJG                   2500.0   \n",
      "101                             BJG                    250.0   \n",
      "\n",
      "                     ENTERPRISE_ENTITY_CD  SOURCE_SYSTEM_CD      CREATE_DTM  \\\n",
      "DIM_CLAIM_REASON_PK                                                           \n",
      "492                                   MHK              CAMS  3/31/2017 5:18   \n",
      "101                                   MHK              CAMS  4/27/2017 5:50   \n",
      "\n",
      "                         UPDATE_DTM      SOURCE_DTM     LANDING_DTM  \n",
      "DIM_CLAIM_REASON_PK                                                  \n",
      "492                  3/31/2017 5:18  3/31/2017 5:09  3/31/2017 4:33  \n",
      "101                  4/27/2017 5:50  4/27/2017 5:46  4/27/2017 4:32  \n",
      "\n",
      "[2 rows x 39 columns]\n"
     ]
    }
   ],
   "source": [
    "ClaimsData=ClaimsData.set_index('DIM_CLAIM_REASON_PK')\n",
    "print(ClaimsData.head(2))"
   ]
  },
  {
   "cell_type": "code",
   "execution_count": 106,
   "metadata": {},
   "outputs": [
    {
     "name": "stdout",
     "output_type": "stream",
     "text": [
      "                     FACT_CUSTOMER_CLAIMS_PK TRX_CUSTOMER_CLAIMS_ID  \\\n",
      "DIM_CLAIM_REASON_PK                                                   \n",
      "492                                 12375985            R-7009810-1   \n",
      "101                                 12404445            R-7020309-1   \n",
      "\n",
      "                     DIM_DIVISION_CUSTOMER_PK  DIM_DIVISION_CUSTOMER_GK  \\\n",
      "DIM_CLAIM_REASON_PK                                                       \n",
      "492                                   1843099                    270298   \n",
      "101                                   1977635                    286706   \n",
      "\n",
      "                     CLAIM_DATE_PK  CLAIM_STATUS_DATE_PK  CLAIM_ENTRY_DATE_PK  \\\n",
      "DIM_CLAIM_REASON_PK                                                             \n",
      "492                       20170330              20170330             20170330   \n",
      "101                       20170426              20170426             20170426   \n",
      "\n",
      "                     INVOICE_DATE_PK  CREDIT_MEMO_DATE_PK  DEBIT_MEMO_DATE_PK  \\\n",
      "DIM_CLAIM_REASON_PK                                                             \n",
      "492                         20170330             20170330                  -1   \n",
      "101                         20170426             20170426                  -1   \n",
      "\n",
      "                          ...               CLAIM_REASON_DESC  \\\n",
      "DIM_CLAIM_REASON_PK       ...                                   \n",
      "492                       ...         LTD DIST VOLUME REBATES   \n",
      "101                       ...                           OTHER   \n",
      "\n",
      "                     CLAIM_REASON_SHORT_DESC  CLAIM_DEPARTMENT_CD  \\\n",
      "DIM_CLAIM_REASON_PK                                                 \n",
      "492                                 LTDVOLRB                  NaN   \n",
      "101                                    OTHER                  NaN   \n",
      "\n",
      "                     QUALITY_RELATED_CD  ENTERPRISE_ENTITY_CD  \\\n",
      "DIM_CLAIM_REASON_PK                                             \n",
      "492                                   N                   MHK   \n",
      "101                                   N                   MHK   \n",
      "\n",
      "                     SOURCE_SYSTEM_CD  DELETE_IND       CREATE_DTM  \\\n",
      "DIM_CLAIM_REASON_PK                                                  \n",
      "492                              CAMS           N  11/29/2016 8:49   \n",
      "101                              CAMS           N  11/29/2016 8:49   \n",
      "\n",
      "                          UPDATE_DTM      LANDING_DTM  \n",
      "DIM_CLAIM_REASON_PK                                    \n",
      "492                  11/29/2016 8:49  9/30/2013 12:01  \n",
      "101                  11/29/2016 8:49  9/30/2013 12:01  \n",
      "\n",
      "[2 rows x 51 columns] (311491, 51)\n"
     ]
    }
   ],
   "source": [
    "#Claims_Reason = ClaimsData.join(ClaimReason, rsuffix = '_reason')\n",
    "Claims_Reason = pd.concat([ClaimsData, ClaimReason], axis=1, join_axes = [ClaimsData.index])\n",
    "print(Claims_Reason.head(2), Claims_Reason.shape)"
   ]
  },
  {
   "cell_type": "code",
   "execution_count": 107,
   "metadata": {},
   "outputs": [
    {
     "name": "stdout",
     "output_type": "stream",
     "text": [
      "   DIM_CLAIM_REASON_PK  FACT_CUSTOMER_CLAIMS_PK TRX_CUSTOMER_CLAIMS_ID  \\\n",
      "0                  492                 12375985            R-7009810-1   \n",
      "1                  101                 12404445            R-7020309-1   \n",
      "\n",
      "   DIM_DIVISION_CUSTOMER_PK  DIM_DIVISION_CUSTOMER_GK  CLAIM_DATE_PK  \\\n",
      "0                   1843099                    270298       20170330   \n",
      "1                   1977635                    286706       20170426   \n",
      "\n",
      "   CLAIM_STATUS_DATE_PK  CLAIM_ENTRY_DATE_PK  INVOICE_DATE_PK  \\\n",
      "0              20170330             20170330         20170330   \n",
      "1              20170426             20170426         20170426   \n",
      "\n",
      "   CREDIT_MEMO_DATE_PK       ...               CLAIM_REASON_DESC  \\\n",
      "0             20170330       ...         LTD DIST VOLUME REBATES   \n",
      "1             20170426       ...                           OTHER   \n",
      "\n",
      "   CLAIM_REASON_SHORT_DESC  CLAIM_DEPARTMENT_CD  QUALITY_RELATED_CD  \\\n",
      "0                 LTDVOLRB                  NaN                   N   \n",
      "1                    OTHER                  NaN                   N   \n",
      "\n",
      "   ENTERPRISE_ENTITY_CD  SOURCE_SYSTEM_CD  DELETE_IND       CREATE_DTM  \\\n",
      "0                   MHK              CAMS           N  11/29/2016 8:49   \n",
      "1                   MHK              CAMS           N  11/29/2016 8:49   \n",
      "\n",
      "        UPDATE_DTM      LANDING_DTM  \n",
      "0  11/29/2016 8:49  9/30/2013 12:01  \n",
      "1  11/29/2016 8:49  9/30/2013 12:01  \n",
      "\n",
      "[2 rows x 52 columns]\n"
     ]
    }
   ],
   "source": [
    "Claims_Reason.reset_index(inplace=True)\n",
    "print(Claims_Reason.head(2))"
   ]
  },
  {
   "cell_type": "code",
   "execution_count": 108,
   "metadata": {},
   "outputs": [
    {
     "name": "stdout",
     "output_type": "stream",
     "text": [
      "                     DIM_CLAIM_REASON_PK  FACT_CUSTOMER_CLAIMS_PK  \\\n",
      "DIM_CLAIM_STATUS_PK                                                 \n",
      "37                                   492                 12375985   \n",
      "37                                   101                 12404445   \n",
      "\n",
      "                    TRX_CUSTOMER_CLAIMS_ID  DIM_DIVISION_CUSTOMER_PK  \\\n",
      "DIM_CLAIM_STATUS_PK                                                    \n",
      "37                             R-7009810-1                   1843099   \n",
      "37                             R-7020309-1                   1977635   \n",
      "\n",
      "                     DIM_DIVISION_CUSTOMER_GK  CLAIM_DATE_PK  \\\n",
      "DIM_CLAIM_STATUS_PK                                            \n",
      "37                                     270298       20170330   \n",
      "37                                     286706       20170426   \n",
      "\n",
      "                     CLAIM_STATUS_DATE_PK  CLAIM_ENTRY_DATE_PK  \\\n",
      "DIM_CLAIM_STATUS_PK                                              \n",
      "37                               20170330             20170330   \n",
      "37                               20170426             20170426   \n",
      "\n",
      "                     INVOICE_DATE_PK  CREDIT_MEMO_DATE_PK       ...         \\\n",
      "DIM_CLAIM_STATUS_PK                                             ...          \n",
      "37                          20170330             20170330       ...          \n",
      "37                          20170426             20170426       ...          \n",
      "\n",
      "                     CLAIM_DECLINED_IND  CLAIM_OPEN_IND  \\\n",
      "DIM_CLAIM_STATUS_PK                                       \n",
      "37                                    N               N   \n",
      "37                                    N               N   \n",
      "\n",
      "                     CLAIM_EXPIRATION_AGE_AMT  CLAIM_EXPIRATION_STATUS_CD  \\\n",
      "DIM_CLAIM_STATUS_PK                                                         \n",
      "37                                        0.0                         0.0   \n",
      "37                                        0.0                         0.0   \n",
      "\n",
      "                     ENTERPRISE_ENTITY_CD  SOURCE_SYSTEM_CD  DELETE_IND  \\\n",
      "DIM_CLAIM_STATUS_PK                                                       \n",
      "37                                    MHK              CAMS           N   \n",
      "37                                    MHK              CAMS           N   \n",
      "\n",
      "                          CREATE_DTM       UPDATE_DTM      LANDING_DTM  \n",
      "DIM_CLAIM_STATUS_PK                                                     \n",
      "37                   11/29/2016 8:49  11/29/2016 8:49  11/29/2016 5:32  \n",
      "37                   11/29/2016 8:49  11/29/2016 8:49  11/29/2016 5:32  \n",
      "\n",
      "[2 rows x 68 columns] (311491, 68)\n"
     ]
    }
   ],
   "source": [
    "ClaimStatus=ClaimStatus.set_index('DIM_CLAIM_STATUS_PK')\n",
    "Claims_Reason = Claims_Reason.set_index('DIM_CLAIM_STATUS_PK')\n",
    "Claims_Status = pd.concat([Claims_Reason, ClaimStatus], axis=1, join_axes = [Claims_Reason.index])\n",
    "print(Claims_Status.head(2), Claims_Status.shape)"
   ]
  },
  {
   "cell_type": "code",
   "execution_count": 109,
   "metadata": {},
   "outputs": [
    {
     "name": "stdout",
     "output_type": "stream",
     "text": [
      "(311491, 69)\n"
     ]
    }
   ],
   "source": [
    "#Claims_Status = Claims_Reason.join(ClaimStatus, rsuffix = '_status')\n",
    "Claims_Status.reset_index(inplace=True)\n",
    "print(Claims_Status.shape)"
   ]
  },
  {
   "cell_type": "code",
   "execution_count": 110,
   "metadata": {},
   "outputs": [
    {
     "name": "stdout",
     "output_type": "stream",
     "text": [
      "                   DIM_CLAIM_STATUS_PK  DIM_CLAIM_REASON_PK  \\\n",
      "DIM_CLAIM_TYPE_PK                                             \n",
      "10                                  37                  492   \n",
      "8                                   37                  101   \n",
      "\n",
      "                   FACT_CUSTOMER_CLAIMS_PK TRX_CUSTOMER_CLAIMS_ID  \\\n",
      "DIM_CLAIM_TYPE_PK                                                   \n",
      "10                                12375985            R-7009810-1   \n",
      "8                                 12404445            R-7020309-1   \n",
      "\n",
      "                   DIM_DIVISION_CUSTOMER_PK  DIM_DIVISION_CUSTOMER_GK  \\\n",
      "DIM_CLAIM_TYPE_PK                                                       \n",
      "10                                  1843099                    270298   \n",
      "8                                   1977635                    286706   \n",
      "\n",
      "                   CLAIM_DATE_PK  CLAIM_STATUS_DATE_PK  CLAIM_ENTRY_DATE_PK  \\\n",
      "DIM_CLAIM_TYPE_PK                                                             \n",
      "10                      20170330              20170330             20170330   \n",
      "8                       20170426              20170426             20170426   \n",
      "\n",
      "                   INVOICE_DATE_PK       ...         CLAIM_INCL_LENGTH_IND  \\\n",
      "DIM_CLAIM_TYPE_PK                        ...                                 \n",
      "10                        20170330       ...                             N   \n",
      "8                         20170426       ...                             N   \n",
      "\n",
      "                   CLAIM_INCL_DOLLARS_IND  CLAIM_ALLOWANCE_IND  \\\n",
      "DIM_CLAIM_TYPE_PK                                                \n",
      "10                                      Y                    Y   \n",
      "8                                       N                    Y   \n",
      "\n",
      "                   CLAIM_PRODUCT_RETURN_IND  ENTERPRISE_ENTITY_CD  \\\n",
      "DIM_CLAIM_TYPE_PK                                                   \n",
      "10                                        N                   MHK   \n",
      "8                                         N                   MHK   \n",
      "\n",
      "                   SOURCE_SYSTEM_CD  DELETE_IND       CREATE_DTM  \\\n",
      "DIM_CLAIM_TYPE_PK                                                  \n",
      "10                             CAMS           N  11/29/2016 8:49   \n",
      "8                              CAMS           N  11/29/2016 8:49   \n",
      "\n",
      "                        UPDATE_DTM      LANDING_DTM  \n",
      "DIM_CLAIM_TYPE_PK                                    \n",
      "10                 11/29/2016 8:49  9/30/2013 12:01  \n",
      "8                  11/29/2016 8:49  10/22/2013 0:00  \n",
      "\n",
      "[2 rows x 82 columns] (311491, 82)\n"
     ]
    }
   ],
   "source": [
    "ClaimType=ClaimType.set_index('DIM_CLAIM_TYPE_PK')\n",
    "Claims_Status = Claims_Status.set_index('DIM_CLAIM_TYPE_PK')\n",
    "Claims_Type = pd.concat([Claims_Status, ClaimType], axis=1, join_axes = [Claims_Status.index])\n",
    "print(Claims_Type.head(2), Claims_Type.shape)"
   ]
  },
  {
   "cell_type": "code",
   "execution_count": 111,
   "metadata": {},
   "outputs": [
    {
     "name": "stdout",
     "output_type": "stream",
     "text": [
      "(311491, 83)\n"
     ]
    }
   ],
   "source": [
    "#Claims_Type = Claims_Status.join(ClaimType, rsuffix = '_type')\n",
    "Claims_Type.reset_index(inplace=True)\n",
    "print(Claims_Type.shape)"
   ]
  },
  {
   "cell_type": "code",
   "execution_count": 112,
   "metadata": {},
   "outputs": [
    {
     "name": "stdout",
     "output_type": "stream",
     "text": [
      "['FISCAL_YR_NUM', 'FISCAL_MONTH_NUM', 'SOLD_TO_CUSTOMER_PK', 'PRIMARY_CUSTOMER_GK', 'CUSTOMER_NUM', 'CUSTOMER_SUFFIX_NUM', 'CUSTOMER_NAME', 'DIVISION_CD', 'SLS']\n"
     ]
    }
   ],
   "source": [
    "#ClaimCustomer = ClaimCustomer.rename(columns = {'SOLD_TO_CUSTOMER_GK':'PRIMARY_CUSTOMER_GK', 'SOLD_TO_CUSTOMER_PK':'PRIMARY_CUSTOMER_PK'})\n",
    "ClaimCustomer = ClaimCustomer.rename(columns = {'SOLD_TO_CUSTOMER_GK':'PRIMARY_CUSTOMER_GK'})\n",
    "tagList = list(ClaimCustomer.head(1).columns.values)\n",
    "print(tagList)"
   ]
  },
  {
   "cell_type": "code",
   "execution_count": 113,
   "metadata": {},
   "outputs": [
    {
     "name": "stdout",
     "output_type": "stream",
     "text": [
      "(235505, 9)\n"
     ]
    }
   ],
   "source": [
    "print(ClaimCustomer.shape)"
   ]
  },
  {
   "cell_type": "code",
   "execution_count": 114,
   "metadata": {
    "collapsed": true
   },
   "outputs": [],
   "source": [
    "ClaimCustomer=ClaimCustomer.set_index('PRIMARY_CUSTOMER_GK')\n",
    "Claims_Type = Claims_Type.set_index('PRIMARY_CUSTOMER_GK')"
   ]
  },
  {
   "cell_type": "markdown",
   "metadata": {},
   "source": [
    "# Customer data cleaning and group"
   ]
  },
  {
   "cell_type": "code",
   "execution_count": 115,
   "metadata": {},
   "outputs": [
    {
     "name": "stdout",
     "output_type": "stream",
     "text": [
      "(205765, 8)                      FISCAL_YR_NUM  FISCAL_MONTH_NUM  SOLD_TO_CUSTOMER_PK  \\\n",
      "PRIMARY_CUSTOMER_GK                                                         \n",
      "230524                        2017                 2              1352468   \n",
      "379277                        2017                 3              2114829   \n",
      "\n",
      "                     CUSTOMER_NUM  CUSTOMER_SUFFIX_NUM  \\\n",
      "PRIMARY_CUSTOMER_GK                                      \n",
      "230524                     100668                 1832   \n",
      "379277                     406721                    0   \n",
      "\n",
      "                                      CUSTOMER_NAME DIVISION_CD        SLS  \n",
      "PRIMARY_CUSTOMER_GK                                                         \n",
      "230524               LOWES OF OSAGE BEACH     #1147           R    9573.83  \n",
      "379277                        WEITZ SUPLY CHAIN LLC           C  100700.24  \n"
     ]
    }
   ],
   "source": [
    "claimCustomer_na = ClaimCustomer.dropna(axis=0, how = 'any')\n",
    "print(claimCustomer_na.shape, claimCustomer_na.head(2))"
   ]
  },
  {
   "cell_type": "code",
   "execution_count": 116,
   "metadata": {
    "collapsed": true
   },
   "outputs": [],
   "source": [
    "customerData = claimCustomer_na\n",
    "customerData.reset_index(inplace=True)"
   ]
  },
  {
   "cell_type": "code",
   "execution_count": 117,
   "metadata": {},
   "outputs": [
    {
     "name": "stdout",
     "output_type": "stream",
     "text": [
      "(35271, 7)                       CUSTOMER_NAME  FISCAL_YR_NUM  FISCAL_MONTH_NUM  \\\n",
      "PRIMARY_CUSTOMER_GK                                                    \n",
      "408823               067 / STERLING           4034                15   \n",
      "320643                072366 BC LTD          12102                39   \n",
      "\n",
      "                     SOLD_TO_CUSTOMER_PK  CUSTOMER_NUM  CUSTOMER_SUFFIX_NUM  \\\n",
      "PRIMARY_CUSTOMER_GK                                                           \n",
      "408823                           4535826        830570                    0   \n",
      "320643                          12437032       1353966                    0   \n",
      "\n",
      "                          SLS  \n",
      "PRIMARY_CUSTOMER_GK            \n",
      "408823                 533.46  \n",
      "320643               16411.23  \n"
     ]
    }
   ],
   "source": [
    "customerName = customerData.groupby(['CUSTOMER_NAME', 'PRIMARY_CUSTOMER_GK']).sum()\n",
    "customerName.reset_index(inplace=True)\n",
    "customerName = customerName.set_index('PRIMARY_CUSTOMER_GK')\n",
    "print(customerName.shape,customerName.head(2))"
   ]
  },
  {
   "cell_type": "code",
   "execution_count": 54,
   "metadata": {},
   "outputs": [
    {
     "name": "stdout",
     "output_type": "stream",
     "text": [
      "                     FISCAL_YR_NUM  FISCAL_MONTH_NUM  SOLD_TO_CUSTOMER_PK  \\\n",
      "PRIMARY_CUSTOMER_GK                                                         \n",
      "54991                        12102                37             13357297   \n",
      "54992                         2017                 4              2201280   \n",
      "54995                         8068                24              8834412   \n",
      "55004                         2017                 7              2268861   \n",
      "55013                         2017                 6              2102177   \n",
      "55033                         2017                10              2102182   \n",
      "55034                         2017                 6              2191472   \n",
      "55082                         2017                 4              2074718   \n",
      "55105                         6051                11              6584072   \n",
      "55115                         2017                 3              2211072   \n",
      "55116                        20170                55             21947200   \n",
      "55121                        20170                55             22103230   \n",
      "55139                         4034                12              4499885   \n",
      "55146                         6051                 9              6647667   \n",
      "55164                         2017                10              2211073   \n",
      "55213                        16136                43             17022204   \n",
      "55217                         4034                 9              4382960   \n",
      "55252                         6051                 9              6529290   \n",
      "55259                        10085                30             10963187   \n",
      "55266                         8068                19              8408876   \n",
      "\n",
      "                     CUSTOMER_NUM  CUSTOMER_SUFFIX_NUM        SLS  \n",
      "PRIMARY_CUSTOMER_GK                                                \n",
      "54991                       61080                    0   28080.44  \n",
      "54992                       10838                    0     264.98  \n",
      "54995                       45472                    0   25622.77  \n",
      "55004                       12522                    0    4273.93  \n",
      "55013                       13053                    0     171.48  \n",
      "55033                       15910                    0     313.10  \n",
      "55034                       15955                    0     374.85  \n",
      "55082                       18332                    0     596.76  \n",
      "55105                       59547                    0    6604.34  \n",
      "55115                       20951                    0    8742.65  \n",
      "55116                      210150                    0  241296.53  \n",
      "55121                      210220                    0  112419.43  \n",
      "55139                       42794                    0   10622.43  \n",
      "55146                       64566                    0   27276.88  \n",
      "55164                       22262                    0    3395.72  \n",
      "55213                      202392                    0   42637.88  \n",
      "55217                       51008                    0   37360.88  \n",
      "55252                       82362                    0   22158.83  \n",
      "55259                      140100                    0    5765.52  \n",
      "55266                      112620                    0  115340.13   (35271, 6)\n"
     ]
    }
   ],
   "source": [
    "saleDollar = customerData.groupby(['PRIMARY_CUSTOMER_GK']).sum()\n",
    "print(saleDollar.head(20), saleDollar.shape)"
   ]
  },
  {
   "cell_type": "code",
   "execution_count": 118,
   "metadata": {},
   "outputs": [
    {
     "name": "stdout",
     "output_type": "stream",
     "text": [
      "                     numSales\n",
      "PRIMARY_CUSTOMER_GK          \n",
      "54991                     6.0\n",
      "54992                     1.0\n",
      "54995                     4.0\n",
      "55004                     1.0\n",
      "55013                     1.0\n",
      "55033                     1.0\n",
      "55034                     1.0\n",
      "55082                     1.0\n",
      "55105                     3.0\n",
      "55115                     1.0\n",
      "55116                    10.0\n",
      "55121                    10.0\n",
      "55139                     2.0\n",
      "55146                     3.0\n",
      "55164                     1.0\n",
      "55213                     8.0\n",
      "55217                     2.0\n",
      "55252                     3.0\n",
      "55259                     5.0\n",
      "55266                     4.0 (35271, 1)\n"
     ]
    }
   ],
   "source": [
    "saleNumber = customerData.pivot_table(index='PRIMARY_CUSTOMER_GK', values='SLS', aggfunc=len)\n",
    "saleNumber = saleNumber.rename(columns={\"SLS\": \"numSales\"})\n",
    "print(saleNumber.head(20), saleNumber.shape)"
   ]
  },
  {
   "cell_type": "code",
   "execution_count": 119,
   "metadata": {},
   "outputs": [
    {
     "name": "stdout",
     "output_type": "stream",
     "text": [
      "                     dollarSales\n",
      "PRIMARY_CUSTOMER_GK             \n",
      "54991                   28080.44\n",
      "54992                     264.98\n",
      "54995                   25622.77\n",
      "55004                    4273.93\n",
      "55013                     171.48\n",
      "55033                     313.10\n",
      "55034                     374.85\n",
      "55082                     596.76\n",
      "55105                    6604.34\n",
      "55115                    8742.65\n",
      "55116                  241296.53\n",
      "55121                  112419.43\n",
      "55139                   10622.43\n",
      "55146                   27276.88\n",
      "55164                    3395.72\n",
      "55213                   42637.88\n",
      "55217                   37360.88\n",
      "55252                   22158.83\n",
      "55259                    5765.52\n",
      "55266                  115340.13 (35271, 1)\n"
     ]
    }
   ],
   "source": [
    "saleDollar2 = customerData.pivot_table(index='PRIMARY_CUSTOMER_GK', values='SLS', aggfunc=sum)\n",
    "saleDollar = saleDollar2.rename(columns={\"SLS\": \"dollarSales\"})\n",
    "print(saleDollar.head(20), saleDollar.shape)"
   ]
  },
  {
   "cell_type": "code",
   "execution_count": 120,
   "metadata": {},
   "outputs": [
    {
     "name": "stdout",
     "output_type": "stream",
     "text": [
      "                     numSales  dollarSales\n",
      "PRIMARY_CUSTOMER_GK                       \n",
      "54991                     6.0     28080.44\n",
      "54992                     1.0       264.98 (35271, 2)\n"
     ]
    }
   ],
   "source": [
    "customerSale = pd.concat([saleNumber, saleDollar], axis=1)\n",
    "print(customerSale.head(2), customerSale.shape)"
   ]
  },
  {
   "cell_type": "markdown",
   "metadata": {},
   "source": [
    "# Claim Data Cleaning and Group"
   ]
  },
  {
   "cell_type": "code",
   "execution_count": 121,
   "metadata": {},
   "outputs": [
    {
     "name": "stdout",
     "output_type": "stream",
     "text": [
      "                     DIM_CLAIM_TYPE_PK  DIM_CLAIM_STATUS_PK  \\\n",
      "PRIMARY_CUSTOMER_GK                                           \n",
      "270298                              10                   37   \n",
      "286705                               8                   37   \n",
      "\n",
      "                     DIM_CLAIM_REASON_PK  FACT_CUSTOMER_CLAIMS_PK  \\\n",
      "PRIMARY_CUSTOMER_GK                                                 \n",
      "270298                               492                 12375985   \n",
      "286705                               101                 12404445   \n",
      "\n",
      "                    TRX_CUSTOMER_CLAIMS_ID  DIM_DIVISION_CUSTOMER_PK  \\\n",
      "PRIMARY_CUSTOMER_GK                                                    \n",
      "270298                         R-7009810-1                   1843099   \n",
      "286705                         R-7020309-1                   1977635   \n",
      "\n",
      "                     DIM_DIVISION_CUSTOMER_GK  CLAIM_DATE_PK  \\\n",
      "PRIMARY_CUSTOMER_GK                                            \n",
      "270298                                 270298       20170330   \n",
      "286705                                 286706       20170426   \n",
      "\n",
      "                     CLAIM_STATUS_DATE_PK  CLAIM_ENTRY_DATE_PK  \\\n",
      "PRIMARY_CUSTOMER_GK                                              \n",
      "270298                           20170330             20170330   \n",
      "286705                           20170426             20170426   \n",
      "\n",
      "                          ...         CLAIM_INCL_LENGTH_IND  \\\n",
      "PRIMARY_CUSTOMER_GK       ...                                 \n",
      "270298                    ...                             N   \n",
      "286705                    ...                             N   \n",
      "\n",
      "                     CLAIM_INCL_DOLLARS_IND  CLAIM_ALLOWANCE_IND  \\\n",
      "PRIMARY_CUSTOMER_GK                                                \n",
      "270298                                    Y                    Y   \n",
      "286705                                    N                    Y   \n",
      "\n",
      "                     CLAIM_PRODUCT_RETURN_IND  ENTERPRISE_ENTITY_CD  \\\n",
      "PRIMARY_CUSTOMER_GK                                                   \n",
      "270298                                      N                   MHK   \n",
      "286705                                      N                   MHK   \n",
      "\n",
      "                     SOURCE_SYSTEM_CD  DELETE_IND       CREATE_DTM  \\\n",
      "PRIMARY_CUSTOMER_GK                                                  \n",
      "270298                           CAMS           N  11/29/2016 8:49   \n",
      "286705                           CAMS           N  11/29/2016 8:49   \n",
      "\n",
      "                          UPDATE_DTM      LANDING_DTM  \n",
      "PRIMARY_CUSTOMER_GK                                    \n",
      "270298               11/29/2016 8:49  9/30/2013 12:01  \n",
      "286705               11/29/2016 8:49  10/22/2013 0:00  \n",
      "\n",
      "[2 rows x 82 columns] (311491, 82)\n"
     ]
    }
   ],
   "source": [
    "print(Claims_Type.head(2), Claims_Type.shape)"
   ]
  },
  {
   "cell_type": "code",
   "execution_count": 122,
   "metadata": {},
   "outputs": [
    {
     "name": "stdout",
     "output_type": "stream",
     "text": [
      "52 {'32', '17', '73', '28', '30', '45', '47', '23', '35', '53', 'Unknown', '49', '3', '29', '80', '36', '31', '50', '18', '13', '38', '19', '46', '22', '51', '11', '93', '43', '52', '21', '97', '54', '10', '9', '90', '6', '14', '44', '75', '83', '4', '12', '33', '81', '16', '63', '8', '89', '20', '48', '7', '15'}\n"
     ]
    }
   ],
   "source": [
    "type_unique = set(Claims_Type.CLAIM_STATUS_TYPE_CD)\n",
    "uniqueCnt = len(type_unique)\n",
    "print(uniqueCnt, type_unique) "
   ]
  },
  {
   "cell_type": "code",
   "execution_count": 123,
   "metadata": {},
   "outputs": [
    {
     "name": "stdout",
     "output_type": "stream",
     "text": [
      "4 {'V', 'Unknown', 'Y', 'N'}\n"
     ]
    }
   ],
   "source": [
    "quality_unique = set(Claims_Type.QUALITY_RELATED_CD)\n",
    "uniqueCnt = len(quality_unique)\n",
    "print(uniqueCnt, quality_unique) "
   ]
  },
  {
   "cell_type": "code",
   "execution_count": 163,
   "metadata": {
    "collapsed": true
   },
   "outputs": [],
   "source": [
    "def class_info(classes):\n",
    "    counts = Counter(classes)\n",
    "    total = sum(list(counts.values()))\n",
    "    \n",
    "    cper = []\n",
    "    for cls in counts.keys():\n",
    "        print(\"%6s: % 7d  =  % 5.1f%%\" % (cls, counts[cls], counts[cls]/total*100))\n",
    "        cper.append(counts[cls]/total)\n",
    "    \n",
    "    return counts, cper"
   ]
  },
  {
   "cell_type": "code",
   "execution_count": 164,
   "metadata": {},
   "outputs": [
    {
     "name": "stdout",
     "output_type": "stream",
     "text": [
      "     N:  190705  =   61.2%\n",
      "     Y:   97446  =   31.3%\n",
      "Unknown:   17599  =    5.6%\n",
      "     V:    5741  =    1.8%\n",
      "Counter({'N': 190705, 'Y': 97446, 'Unknown': 17599, 'V': 5741}) [0.6122327771909943, 0.3128372890388486, 0.056499224696700705, 0.018430709073456376]\n"
     ]
    }
   ],
   "source": [
    "ctype = Claims_Type.QUALITY_RELATED_CD\n",
    "qcount, qper = class_info(ctype)\n",
    "print(qcount, qper)"
   ]
  },
  {
   "cell_type": "code",
   "execution_count": 165,
   "metadata": {},
   "outputs": [
    {
     "name": "stdout",
     "output_type": "stream",
     "text": [
      "[190705, 97446, 17599, 5741]\n"
     ]
    },
    {
     "data": {
      "image/png": "[encoded data removed]",
      "text/plain": [
       "<matplotlib.figure.Figure at 0x2d419b465f8>"
      ]
     },
     "metadata": {},
     "output_type": "display_data"
    }
   ],
   "source": [
    "# Data to plot\n",
    "labels = list(qcounts.keys())\n",
    "sizes = list(qcounts.values())\n",
    "print(sizes)\n",
    "colors = ['gold', 'yellowgreen', 'lightcoral', 'lightskyblue']\n",
    "explode = (0.1, 0, 0, 0)  # explode 1st slice\n",
    " \n",
    "# Plot\n",
    "plt.pie(sizes, explode=explode, labels=labels, colors=colors,\n",
    "        autopct='%1.1f%%', shadow=True, startangle=140)\n",
    " \n",
    "plt.axis('equal')\n",
    "plt.show()"
   ]
  },
  {
   "cell_type": "code",
   "execution_count": 143,
   "metadata": {},
   "outputs": [
    {
     "name": "stdout",
     "output_type": "stream",
     "text": [
      "(97446, 82)                      DIM_CLAIM_TYPE_PK  DIM_CLAIM_STATUS_PK  \\\n",
      "PRIMARY_CUSTOMER_GK                                           \n",
      "252233                               1                   22   \n",
      "252029                              38                   22   \n",
      "\n",
      "                     DIM_CLAIM_REASON_PK  FACT_CUSTOMER_CLAIMS_PK  \\\n",
      "PRIMARY_CUSTOMER_GK                                                 \n",
      "252233                                70                 12583533   \n",
      "252029                               371                 12290438   \n",
      "\n",
      "                    TRX_CUSTOMER_CLAIMS_ID  DIM_DIVISION_CUSTOMER_PK  \\\n",
      "PRIMARY_CUSTOMER_GK                                                    \n",
      "252233                         R-7089121-1                   1371696   \n",
      "252029                         R-6973589-2                   2128664   \n",
      "\n",
      "                     DIM_DIVISION_CUSTOMER_GK  CLAIM_DATE_PK  \\\n",
      "PRIMARY_CUSTOMER_GK                                            \n",
      "252233                                 253875       20170928   \n",
      "252029                                 252036       20170111   \n",
      "\n",
      "                     CLAIM_STATUS_DATE_PK  CLAIM_ENTRY_DATE_PK  \\\n",
      "PRIMARY_CUSTOMER_GK                                              \n",
      "252233                           20170928             20170928   \n",
      "252029                           20170111             20170111   \n",
      "\n",
      "                          ...         CLAIM_INCL_LENGTH_IND  \\\n",
      "PRIMARY_CUSTOMER_GK       ...                                 \n",
      "252233                    ...                             N   \n",
      "252029                    ...                             N   \n",
      "\n",
      "                     CLAIM_INCL_DOLLARS_IND  CLAIM_ALLOWANCE_IND  \\\n",
      "PRIMARY_CUSTOMER_GK                                                \n",
      "252233                                    Y                    Y   \n",
      "252029                                    N                    Y   \n",
      "\n",
      "                     CLAIM_PRODUCT_RETURN_IND  ENTERPRISE_ENTITY_CD  \\\n",
      "PRIMARY_CUSTOMER_GK                                                   \n",
      "252233                                      N                   MHK   \n",
      "252029                                      N                   MHK   \n",
      "\n",
      "                     SOURCE_SYSTEM_CD  DELETE_IND       CREATE_DTM  \\\n",
      "PRIMARY_CUSTOMER_GK                                                  \n",
      "252233                           CAMS           N  11/29/2016 8:49   \n",
      "252029                           CAMS           N  11/29/2016 8:49   \n",
      "\n",
      "                          UPDATE_DTM      LANDING_DTM  \n",
      "PRIMARY_CUSTOMER_GK                                    \n",
      "252233               11/29/2016 8:49  9/30/2013 12:01  \n",
      "252029               11/29/2016 8:49    4/7/2015 0:00  \n",
      "\n",
      "[2 rows x 82 columns]\n"
     ]
    }
   ],
   "source": [
    "# kee\n",
    "tag = 'QUALITY_RELATED_CD'\n",
    "thred = 'Y'\n",
    "Claims_Quality = Claims_Type.loc[lambda Claims_Type: Claims_Type[tag] == thred, :]\n",
    "print(Claims_Quality.shape, Claims_Quality.head(2))"
   ]
  },
  {
   "cell_type": "code",
   "execution_count": 144,
   "metadata": {},
   "outputs": [
    {
     "name": "stdout",
     "output_type": "stream",
     "text": [
      "    30:   24929  =   25.6%\n",
      "    50:   56337  =   57.8%\n",
      "    80:    1214  =    1.2%\n",
      "    97:    1872  =    1.9%\n",
      "    45:     792  =    0.8%\n",
      "    17:     238  =    0.2%\n",
      "    22:     399  =    0.4%\n",
      "     6:     644  =    0.7%\n",
      "    48:     558  =    0.6%\n",
      "    15:     534  =    0.5%\n",
      "    33:     207  =    0.2%\n",
      "    51:    6253  =    6.4%\n",
      "    21:     153  =    0.2%\n",
      "    14:     446  =    0.5%\n",
      "    31:      67  =    0.1%\n",
      "    12:      61  =    0.1%\n",
      "    49:     130  =    0.1%\n",
      "     8:     250  =    0.3%\n",
      "    18:      69  =    0.1%\n",
      "    89:     165  =    0.2%\n",
      "    16:     163  =    0.2%\n",
      "    46:      69  =    0.1%\n",
      "    81:      21  =    0.0%\n",
      "    93:      26  =    0.0%\n",
      "    10:     123  =    0.1%\n",
      "    32:      60  =    0.1%\n",
      "    47:      48  =    0.0%\n",
      "    52:      33  =    0.0%\n",
      "    36:     732  =    0.8%\n",
      "    28:      24  =    0.0%\n",
      "    19:     117  =    0.1%\n",
      "    35:     104  =    0.1%\n",
      "    13:      20  =    0.0%\n",
      "    38:      33  =    0.0%\n",
      "     9:       2  =    0.0%\n",
      "    73:      28  =    0.0%\n",
      "    83:      16  =    0.0%\n",
      "     7:       2  =    0.0%\n",
      "    63:      47  =    0.0%\n",
      "    23:      19  =    0.0%\n",
      "    90:       1  =    0.0%\n",
      "    20:     423  =    0.4%\n",
      "    11:       9  =    0.0%\n",
      "    53:       1  =    0.0%\n",
      "     4:       6  =    0.0%\n",
      "    54:       1  =    0.0%\n"
     ]
    },
    {
     "data": {
      "text/plain": [
       "Counter({'10': 123,\n",
       "         '11': 9,\n",
       "         '12': 61,\n",
       "         '13': 20,\n",
       "         '14': 446,\n",
       "         '15': 534,\n",
       "         '16': 163,\n",
       "         '17': 238,\n",
       "         '18': 69,\n",
       "         '19': 117,\n",
       "         '20': 423,\n",
       "         '21': 153,\n",
       "         '22': 399,\n",
       "         '23': 19,\n",
       "         '28': 24,\n",
       "         '30': 24929,\n",
       "         '31': 67,\n",
       "         '32': 60,\n",
       "         '33': 207,\n",
       "         '35': 104,\n",
       "         '36': 732,\n",
       "         '38': 33,\n",
       "         '4': 6,\n",
       "         '45': 792,\n",
       "         '46': 69,\n",
       "         '47': 48,\n",
       "         '48': 558,\n",
       "         '49': 130,\n",
       "         '50': 56337,\n",
       "         '51': 6253,\n",
       "         '52': 33,\n",
       "         '53': 1,\n",
       "         '54': 1,\n",
       "         '6': 644,\n",
       "         '63': 47,\n",
       "         '7': 2,\n",
       "         '73': 28,\n",
       "         '8': 250,\n",
       "         '80': 1214,\n",
       "         '81': 21,\n",
       "         '83': 16,\n",
       "         '89': 165,\n",
       "         '9': 2,\n",
       "         '90': 1,\n",
       "         '93': 26,\n",
       "         '97': 1872})"
      ]
     },
     "execution_count": 144,
     "metadata": {},
     "output_type": "execute_result"
    }
   ],
   "source": [
    "class_info(Claims_Quality.CLAIM_STATUS_TYPE_CD)"
   ]
  },
  {
   "cell_type": "code",
   "execution_count": 145,
   "metadata": {},
   "outputs": [
    {
     "name": "stdout",
     "output_type": "stream",
     "text": [
      "     0:   25765  =   26.4%\n",
      "     1:   63278  =   64.9%\n",
      "    80:    1214  =    1.2%\n",
      "    97:    1872  =    1.9%\n",
      "    45:     792  =    0.8%\n",
      "    17:     238  =    0.2%\n",
      "    22:     399  =    0.4%\n",
      "     6:     644  =    0.7%\n",
      "    15:     534  =    0.5%\n",
      "    33:     207  =    0.2%\n",
      "    21:     153  =    0.2%\n",
      "    14:     446  =    0.5%\n",
      "    31:      67  =    0.1%\n",
      "    12:      61  =    0.1%\n",
      "     8:     250  =    0.3%\n",
      "    18:      69  =    0.1%\n",
      "    89:     165  =    0.2%\n",
      "    16:     163  =    0.2%\n",
      "    46:      69  =    0.1%\n",
      "    81:      21  =    0.0%\n",
      "    93:      26  =    0.0%\n",
      "    10:     123  =    0.1%\n",
      "    32:      60  =    0.1%\n",
      "    47:      48  =    0.0%\n",
      "    52:      33  =    0.0%\n",
      "    28:      24  =    0.0%\n",
      "    19:     117  =    0.1%\n",
      "    13:      20  =    0.0%\n",
      "    38:      33  =    0.0%\n",
      "     9:       2  =    0.0%\n",
      "    73:      28  =    0.0%\n",
      "    83:      16  =    0.0%\n",
      "     7:       2  =    0.0%\n",
      "    63:      47  =    0.0%\n",
      "    23:      19  =    0.0%\n",
      "    90:       1  =    0.0%\n",
      "    20:     423  =    0.4%\n",
      "    11:       9  =    0.0%\n",
      "    53:       1  =    0.0%\n",
      "     4:       6  =    0.0%\n",
      "    54:       1  =    0.0%\n"
     ]
    },
    {
     "name": "stderr",
     "output_type": "stream",
     "text": [
      "C:\\anaconda35\\lib\\site-packages\\ipykernel_launcher.py:2: SettingWithCopyWarning: \n",
      "A value is trying to be set on a copy of a slice from a DataFrame.\n",
      "Try using .loc[row_indexer,col_indexer] = value instead\n",
      "\n",
      "See the caveats in the documentation: http://pandas.pydata.org/pandas-docs/stable/indexing.html#indexing-view-versus-copy\n",
      "  \n",
      "C:\\anaconda35\\lib\\site-packages\\ipykernel_launcher.py:4: SettingWithCopyWarning: \n",
      "A value is trying to be set on a copy of a slice from a DataFrame.\n",
      "Try using .loc[row_indexer,col_indexer] = value instead\n",
      "\n",
      "See the caveats in the documentation: http://pandas.pydata.org/pandas-docs/stable/indexing.html#indexing-view-versus-copy\n",
      "  after removing the cwd from sys.path.\n"
     ]
    },
    {
     "data": {
      "text/plain": [
       "Counter({'0': 25765,\n",
       "         '1': 63278,\n",
       "         '10': 123,\n",
       "         '11': 9,\n",
       "         '12': 61,\n",
       "         '13': 20,\n",
       "         '14': 446,\n",
       "         '15': 534,\n",
       "         '16': 163,\n",
       "         '17': 238,\n",
       "         '18': 69,\n",
       "         '19': 117,\n",
       "         '20': 423,\n",
       "         '21': 153,\n",
       "         '22': 399,\n",
       "         '23': 19,\n",
       "         '28': 24,\n",
       "         '31': 67,\n",
       "         '32': 60,\n",
       "         '33': 207,\n",
       "         '38': 33,\n",
       "         '4': 6,\n",
       "         '45': 792,\n",
       "         '46': 69,\n",
       "         '47': 48,\n",
       "         '52': 33,\n",
       "         '53': 1,\n",
       "         '54': 1,\n",
       "         '6': 644,\n",
       "         '63': 47,\n",
       "         '7': 2,\n",
       "         '73': 28,\n",
       "         '8': 250,\n",
       "         '80': 1214,\n",
       "         '81': 21,\n",
       "         '83': 16,\n",
       "         '89': 165,\n",
       "         '9': 2,\n",
       "         '90': 1,\n",
       "         '93': 26,\n",
       "         '97': 1872})"
      ]
     },
     "execution_count": 145,
     "metadata": {},
     "output_type": "execute_result"
    }
   ],
   "source": [
    "# Paid = 1\n",
    "Claims_Quality['CLAIM_STATUS_TYPE_CD'] = Claims_Quality['CLAIM_STATUS_TYPE_CD'].replace(['48', '49', '50','51'], '1')\n",
    "# Declined = 0\n",
    "Claims_Quality['CLAIM_STATUS_TYPE_CD'] = Claims_Quality['CLAIM_STATUS_TYPE_CD'].replace(['30', '35', '36'], '0')\n",
    "class_info(Claims_Quality.CLAIM_STATUS_TYPE_CD)"
   ]
  },
  {
   "cell_type": "code",
   "execution_count": 146,
   "metadata": {},
   "outputs": [
    {
     "name": "stderr",
     "output_type": "stream",
     "text": [
      "C:\\anaconda35\\lib\\site-packages\\pandas\\core\\indexing.py:517: SettingWithCopyWarning: \n",
      "A value is trying to be set on a copy of a slice from a DataFrame.\n",
      "Try using .loc[row_indexer,col_indexer] = value instead\n",
      "\n",
      "See the caveats in the documentation: http://pandas.pydata.org/pandas-docs/stable/indexing.html#indexing-view-versus-copy\n",
      "  self.obj[item] = s\n"
     ]
    }
   ],
   "source": [
    "statusType = Claims_Quality.loc[:,'CLAIM_STATUS_TYPE_CD']\n",
    "statusTypeInt = [int(y) for y in statusType]\n",
    "Claims_Quality.loc[:,'CLAIM_STATUS_TYPE_CD'] = statusTypeInt"
   ]
  },
  {
   "cell_type": "code",
   "execution_count": 166,
   "metadata": {},
   "outputs": [
    {
     "name": "stdout",
     "output_type": "stream",
     "text": [
      "     0:   25765  =   28.9%\n",
      "     1:   63278  =   71.1%\n",
      "Counter({1: 63278, 0: 25765}) [0.2893545814943342, 0.7106454185056658]\n"
     ]
    }
   ],
   "source": [
    "tag = 'CLAIM_STATUS_TYPE_CD'\n",
    "upperThred = 1\n",
    "Claims_Status = Claims_Quality.loc[lambda Claims_Quality: Claims_Quality[tag] <= upperThred,:]\n",
    "csType = Claims_Status.CLAIM_STATUS_TYPE_CD\n",
    "csClaim, pclaim = class_info(csType)\n",
    "print(csClaim, pclaim)"
   ]
  },
  {
   "cell_type": "code",
   "execution_count": 174,
   "metadata": {},
   "outputs": [
    {
     "name": "stdout",
     "output_type": "stream",
     "text": [
      "89043\n"
     ]
    }
   ],
   "source": [
    "print(sum(csClaim.values()))"
   ]
  },
  {
   "cell_type": "code",
   "execution_count": 173,
   "metadata": {},
   "outputs": [
    {
     "data": {
      "image/png": "[encoded data removed]",
      "text/plain": [
       "<matplotlib.figure.Figure at 0x2d416dc4240>"
      ]
     },
     "metadata": {},
     "output_type": "display_data"
    }
   ],
   "source": [
    "objects = ('Declined', 'Paid')\n",
    "y_pos = np.arange(len(objects))\n",
    "x_claims = list(csClaim.values())\n",
    "fig, ax = plt.subplots()\n",
    "\n",
    "ax.bar(y_pos, x_claims, align='center', color=['red', 'blue'])\n",
    "\n",
    "tsum = sum(x_claims)\n",
    "tp = tsum/tsum\n",
    "for i, (v, p) in enumerate(zip(x_claims, pclaim)):\n",
    "    ax.text(i, v-5, str(v), color='black', fontweight='bold')\n",
    "\n",
    "ax.set_xticks(y_pos, objects)\n",
    "plt.ylabel('#Claims')\n",
    "plt.title('Claims Type')\n",
    "\n",
    "plt.show()"
   ]
  },
  {
   "cell_type": "code",
   "execution_count": 86,
   "metadata": {},
   "outputs": [
    {
     "name": "stdout",
     "output_type": "stream",
     "text": [
      "(89043, 83)    PRIMARY_CUSTOMER_GK  DIM_CLAIM_TYPE_PK  DIM_CLAIM_STATUS_PK  \\\n",
      "0               252233                  1                   22   \n",
      "1               252029                 38                   22   \n",
      "2               404730                 21                   37   \n",
      "3               313024                 38                   22   \n",
      "4               252233                 21                   22   \n",
      "5               270825                 21                   37   \n",
      "6               270825                 21                   37   \n",
      "7               294734                 21                   37   \n",
      "8               279920                 21                   37   \n",
      "9               283685                 21                   37   \n",
      "\n",
      "   DIM_CLAIM_REASON_PK  FACT_CUSTOMER_CLAIMS_PK TRX_CUSTOMER_CLAIMS_ID  \\\n",
      "0                   70                 12583533            R-7089121-1   \n",
      "1                  371                 12290438            R-6973589-2   \n",
      "2                   73                 12589452            R-7091409-1   \n",
      "3                   13                 12349406            R-6999633-2   \n",
      "4                   51                 12589498            R-7074910-2   \n",
      "5                   73                 12589516            R-7091353-1   \n",
      "6                   13                 12589540            R-7091359-1   \n",
      "7                  251                 12560475            R-7081157-1   \n",
      "8                   73                 12578873            R-7087744-1   \n",
      "9                   13                 12578874            R-7087969-1   \n",
      "\n",
      "   DIM_DIVISION_CUSTOMER_PK  DIM_DIVISION_CUSTOMER_GK  CLAIM_DATE_PK  \\\n",
      "0                   1371696                    253875       20170928   \n",
      "1                   2128664                    252036       20170111   \n",
      "2                   2150086                    404730       20171004   \n",
      "3                   1979543                    313024       20170303   \n",
      "4                   1370189                    252368       20170823   \n",
      "5                   2055402                    270826       20171004   \n",
      "6                   2055402                    270826       20171004   \n",
      "7                   2215380                    294734       20170911   \n",
      "8                   2220529                    279924       20170926   \n",
      "9                   2163005                    283685       20170926   \n",
      "\n",
      "   CLAIM_STATUS_DATE_PK       ...         CLAIM_INCL_LENGTH_IND  \\\n",
      "0              20170928       ...                             N   \n",
      "1              20170111       ...                             N   \n",
      "2              20171004       ...                             N   \n",
      "3              20170303       ...                             N   \n",
      "4              20171004       ...                             N   \n",
      "5              20171004       ...                             N   \n",
      "6              20171004       ...                             N   \n",
      "7              20171004       ...                             N   \n",
      "8              20171004       ...                             N   \n",
      "9              20171004       ...                             N   \n",
      "\n",
      "   CLAIM_INCL_DOLLARS_IND  CLAIM_ALLOWANCE_IND  CLAIM_PRODUCT_RETURN_IND  \\\n",
      "0                       Y                    Y                         N   \n",
      "1                       N                    Y                         N   \n",
      "2                       Y                    Y                         N   \n",
      "3                       N                    Y                         N   \n",
      "4                       Y                    Y                         N   \n",
      "5                       Y                    Y                         N   \n",
      "6                       Y                    Y                         N   \n",
      "7                       Y                    Y                         N   \n",
      "8                       Y                    Y                         N   \n",
      "9                       Y                    Y                         N   \n",
      "\n",
      "   ENTERPRISE_ENTITY_CD  SOURCE_SYSTEM_CD  DELETE_IND       CREATE_DTM  \\\n",
      "0                   MHK              CAMS           N  11/29/2016 8:49   \n",
      "1                   MHK              CAMS           N  11/29/2016 8:49   \n",
      "2                   MHK              CAMS           N  11/29/2016 8:49   \n",
      "3                   MHK              CAMS           N  11/29/2016 8:49   \n",
      "4                   MHK              CAMS           N  11/29/2016 8:49   \n",
      "5                   MHK              CAMS           N  11/29/2016 8:49   \n",
      "6                   MHK              CAMS           N  11/29/2016 8:49   \n",
      "7                   MHK              CAMS           N  11/29/2016 8:49   \n",
      "8                   MHK              CAMS           N  11/29/2016 8:49   \n",
      "9                   MHK              CAMS           N  11/29/2016 8:49   \n",
      "\n",
      "        UPDATE_DTM      LANDING_DTM  \n",
      "0  11/29/2016 8:49  9/30/2013 12:01  \n",
      "1  11/29/2016 8:49    4/7/2015 0:00  \n",
      "2  11/29/2016 8:49  9/30/2013 12:01  \n",
      "3  11/29/2016 8:49    4/7/2015 0:00  \n",
      "4  11/29/2016 8:49  9/30/2013 12:01  \n",
      "5  11/29/2016 8:49  9/30/2013 12:01  \n",
      "6  11/29/2016 8:49  9/30/2013 12:01  \n",
      "7  11/29/2016 8:49  9/30/2013 12:01  \n",
      "8  11/29/2016 8:49  9/30/2013 12:01  \n",
      "9  11/29/2016 8:49  9/30/2013 12:01  \n",
      "\n",
      "[10 rows x 83 columns]\n"
     ]
    }
   ],
   "source": [
    "Claims_Status.reset_index(inplace=True)\n",
    "print(Claims_Status.shape, Claims_Status.head(10))"
   ]
  },
  {
   "cell_type": "code",
   "execution_count": 91,
   "metadata": {},
   "outputs": [
    {
     "name": "stdout",
     "output_type": "stream",
     "text": [
      "(84584, 83)\n"
     ]
    }
   ],
   "source": [
    "Claims_AMT = Claims_Status[Claims_Status['TOTAL_CLAIMS_DOLLAR_AMT']>0]\n",
    "print(Claims_AMT.shape)"
   ]
  },
  {
   "cell_type": "code",
   "execution_count": 126,
   "metadata": {},
   "outputs": [
    {
     "name": "stdout",
     "output_type": "stream",
     "text": [
      "(10324, 3)     PRIMARY_CUSTOMER_GK  CLAIM_STATUS_TYPE_CD  numClaims\n",
      "0                 55116                     1          1\n",
      "1                 55121                     1          2\n",
      "2                 55213                     1         12\n",
      "3                 55310                     0          1\n",
      "4                 55490                     1          7\n",
      "5                 55602                     1          1\n",
      "6                 55642                     1          3\n",
      "7                 55769                     0          4\n",
      "8                 56229                     0          5\n",
      "9                 56229                     1          1\n",
      "10                58684                     1          6\n",
      "11                58695                     1          7\n",
      "12                58696                     1          4\n",
      "13                58700                     1          3\n",
      "14                58726                     1          5\n",
      "15                58730                     1          4\n",
      "16                58774                     1          5\n",
      "17                58797                     0          1\n",
      "18                58797                     1          3\n",
      "19                58851                     1         26\n"
     ]
    }
   ],
   "source": [
    "Claims_Class = pd.DataFrame({'numClaims': Claims_AMT.groupby( [ \"PRIMARY_CUSTOMER_GK\", \"CLAIM_STATUS_TYPE_CD\"] ).size()}).reset_index()\n",
    "print(Claims_Class.shape, Claims_Class.head(20))"
   ]
  },
  {
   "cell_type": "code",
   "execution_count": 128,
   "metadata": {},
   "outputs": [
    {
     "name": "stdout",
     "output_type": "stream",
     "text": [
      "(10324, 2)     PRIMARY_CUSTOMER_GK  dollarClaims\n",
      "0                 55116         46.00\n",
      "1                 55121       4675.67\n",
      "2                 55213      13445.83\n",
      "3                 55310       2278.70\n",
      "4                 55490      11372.89\n",
      "5                 55602        815.52\n",
      "6                 55642       1217.15\n",
      "7                 55769       5619.85\n",
      "8                 56229       6947.98\n",
      "9                 56229       1977.57\n",
      "10                58684      25772.64\n",
      "11                58695       7499.55\n",
      "12                58696       1164.10\n",
      "13                58700        203.39\n",
      "14                58726       3510.15\n",
      "15                58730        577.52\n",
      "16                58774       3792.23\n",
      "17                58797        751.00\n",
      "18                58797        243.37\n",
      "19                58851      33444.99\n"
     ]
    }
   ],
   "source": [
    "Claims_Dollar = pd.DataFrame({'dollarClaims': Claims_AMT.groupby([\"PRIMARY_CUSTOMER_GK\", \"CLAIM_STATUS_TYPE_CD\"])['TOTAL_CLAIMS_DOLLAR_AMT'].sum()}).reset_index()\n",
    "Claims_Dollar = Claims_Dollar.drop(\"CLAIM_STATUS_TYPE_CD\", axis=1)\n",
    "print(Claims_Dollar.shape, Claims_Dollar.head(20))"
   ]
  },
  {
   "cell_type": "code",
   "execution_count": 129,
   "metadata": {},
   "outputs": [
    {
     "name": "stdout",
     "output_type": "stream",
     "text": [
      "                     CLAIM_STATUS_TYPE_CD  numClaims  dollarClaims\n",
      "PRIMARY_CUSTOMER_GK                                               \n",
      "55116                                   1          1         46.00\n",
      "55121                                   1          2       4675.67 (10324, 3)\n"
     ]
    }
   ],
   "source": [
    "Claims_Dollar = Claims_Dollar.set_index('PRIMARY_CUSTOMER_GK')\n",
    "Claims_Class = Claims_Class.set_index('PRIMARY_CUSTOMER_GK')\n",
    "Claims_Con = pd.concat([Claims_Class, Claims_Dollar], axis=1)\n",
    "print(Claims_Con.head(2), Claims_Con.shape)"
   ]
  },
  {
   "cell_type": "code",
   "execution_count": 130,
   "metadata": {},
   "outputs": [
    {
     "name": "stdout",
     "output_type": "stream",
     "text": [
      "35271\n"
     ]
    }
   ],
   "source": [
    "customer_unique = set(customerSale.index)\n",
    "uniqueCnt = len(customer_unique)\n",
    "print(uniqueCnt) "
   ]
  },
  {
   "cell_type": "code",
   "execution_count": 131,
   "metadata": {},
   "outputs": [
    {
     "name": "stdout",
     "output_type": "stream",
     "text": [
      "7698\n"
     ]
    }
   ],
   "source": [
    "claims_unique = set(Claims_Con.index)\n",
    "uniqueCnt = len(claims_unique)\n",
    "print(uniqueCnt) "
   ]
  },
  {
   "cell_type": "markdown",
   "metadata": {},
   "source": [
    "# Combine Claims and Sales data"
   ]
  },
  {
   "cell_type": "code",
   "execution_count": 137,
   "metadata": {},
   "outputs": [
    {
     "name": "stdout",
     "output_type": "stream",
     "text": [
      "(10324, 13)                      Claims  numClaims  dollarClaims  numSales  dollarSales  \\\n",
      "PRIMARY_CUSTOMER_GK                                                           \n",
      "55116                     1          1         46.00      10.0    241296.53   \n",
      "55121                     1          2       4675.67      10.0    112419.43   \n",
      "55213                     1         12      13445.83       8.0     42637.88   \n",
      "55310                     0          1       2278.70      11.0    633067.71   \n",
      "55490                     1          7      11372.89       3.0    -10863.68   \n",
      "\n",
      "                                      CUSTOMER_NAME      index  FISCAL_YR_NUM  \\\n",
      "PRIMARY_CUSTOMER_GK                                                             \n",
      "55116                               CB FLOORING LLC   990654.0        20170.0   \n",
      "55121                               CB FLOORING LLC   970688.0        20170.0   \n",
      "55213                COMMERCIAL CPTS OF AMERICA INC   685727.0        16136.0   \n",
      "55310                      FAMILY CARPET OUTLET INC  1090804.0        22187.0   \n",
      "55490                      LUMBER DEALER SUPPLY INC   275260.0         6051.0   \n",
      "\n",
      "                     FISCAL_MONTH_NUM  SOLD_TO_CUSTOMER_PK  CUSTOMER_NUM  \\\n",
      "PRIMARY_CUSTOMER_GK                                                        \n",
      "55116                            55.0           21947200.0      210150.0   \n",
      "55121                            55.0           22103230.0      210220.0   \n",
      "55213                            43.0           17022204.0      202392.0   \n",
      "55310                            61.0           23969691.0      352440.0   \n",
      "55490                            14.0            6306966.0      165876.0   \n",
      "\n",
      "                     CUSTOMER_SUFFIX_NUM        SLS  \n",
      "PRIMARY_CUSTOMER_GK                                  \n",
      "55116                                0.0  241296.53  \n",
      "55121                                0.0  112419.43  \n",
      "55213                                0.0   42637.88  \n",
      "55310                                0.0  633067.71  \n",
      "55490                                0.0  -10863.68  \n"
     ]
    }
   ],
   "source": [
    "#Claims_Customer = Claims_Type.join(ClaimCustomer, rsuffix = '_customer')\n",
    "Claims_Customer = pd.concat([Claims_Con, customerSale, customerName], axis=1, join_axes = [Claims_Con.index])\n",
    "Claims_Customer = Claims_Customer.rename(columns={\"CLAIM_STATUS_TYPE_CD\": \"Claims\"})\n",
    "print(Claims_Customer.shape, Claims_Customer.head(5))"
   ]
  },
  {
   "cell_type": "code",
   "execution_count": 138,
   "metadata": {},
   "outputs": [
    {
     "name": "stdout",
     "output_type": "stream",
     "text": [
      "['Claims', 'numClaims', 'dollarClaims', 'numSales', 'dollarSales', 'CUSTOMER_NAME', 'index', 'FISCAL_YR_NUM', 'FISCAL_MONTH_NUM', 'SOLD_TO_CUSTOMER_PK', 'CUSTOMER_NUM', 'CUSTOMER_SUFFIX_NUM', 'SLS'] 13\n"
     ]
    }
   ],
   "source": [
    "tagList = list(Claims_Customer.head(1).columns.values)\n",
    "print(tagList, len(tagList))"
   ]
  },
  {
   "cell_type": "code",
   "execution_count": 139,
   "metadata": {},
   "outputs": [
    {
     "name": "stdout",
     "output_type": "stream",
     "text": [
      "['Claims', 'numClaims', 'dollarClaims', 'numSales', 'dollarSales', 'CUSTOMER_NAME', 'index', 'FISCAL_YR_NUM', 'FISCAL_MONTH_NUM', 'SOLD_TO_CUSTOMER_PK', 'CUSTOMER_NUM', 'CUSTOMER_SUFFIX_NUM', 'SLS'] 13\n"
     ]
    }
   ],
   "source": [
    "tagList1 = [x for x in tagList if \"_reason\" not in x]\n",
    "tagList2 = [x for x in tagList1 if \"_status\" not in x]\n",
    "tagList3 = [x for x in tagList2 if \"_type\" not in x]\n",
    "tagList = [x for x in tagList3 if \"_customer\" not in x]\n",
    "print(tagList, len(tagList))"
   ]
  },
  {
   "cell_type": "code",
   "execution_count": 140,
   "metadata": {},
   "outputs": [
    {
     "name": "stdout",
     "output_type": "stream",
     "text": [
      "(10324, 13)\n"
     ]
    }
   ],
   "source": [
    "# save data into csv file\n",
    "ClaimData = Claims_Customer[tagList]\n",
    "ClaimData.to_csv(frawData)\n",
    "print(ClaimData.shape)"
   ]
  },
  {
   "cell_type": "markdown",
   "metadata": {},
   "source": [
    "# Claim Data Processing\n",
    "Building the recommendation/scoring model from Customer angle. Factors used in the modeling:\n",
    "- Customer Name\n",
    "- SLS = Sales\n",
    "- TOTAL_CLAIMS_DOLLAR_AMT = $Claims\n",
    "\n",
    "Derivated variables:\n",
    " - Total claims each customer in past year = #claim\n",
    " - Dollars each claim each customer = $/claim\n",
    " \n",
    " - Total sales each customer = SLS\n",
    " - Dollars per sale each customer = $/sale\n",
    " - Claim to sale ratio = claim/SLS"
   ]
  },
  {
   "cell_type": "code",
   "execution_count": 14,
   "metadata": {},
   "outputs": [
    {
     "name": "stdout",
     "output_type": "stream",
     "text": [
      "Index(['PRIMARY_CUSTOMER_GK', 'Claims', 'numClaims', 'dollarClaims',\n",
      "       'numSales', 'dollarSales', 'CUSTOMER_NAME', 'index', 'FISCAL_YR_NUM',\n",
      "       'FISCAL_MONTH_NUM', 'SOLD_TO_CUSTOMER_PK', 'CUSTOMER_NUM',\n",
      "       'CUSTOMER_SUFFIX_NUM', 'SLS'],\n",
      "      dtype='object')\n"
     ]
    }
   ],
   "source": [
    "# read consildated claim data\n",
    "ClaimData = pd.read_csv(frawData, encoding='latin1') # Read the data\n",
    "print(ClaimData.columns)"
   ]
  },
  {
   "cell_type": "code",
   "execution_count": 15,
   "metadata": {},
   "outputs": [
    {
     "name": "stdout",
     "output_type": "stream",
     "text": [
      "(10324, 7)    PRIMARY_CUSTOMER_GK  Claims  numClaims  dollarClaims  numSales  \\\n",
      "0                55116       1          1         46.00      10.0   \n",
      "1                55121       1          2       4675.67      10.0   \n",
      "\n",
      "   dollarSales    CUSTOMER_NAME  \n",
      "0    241296.53  CB FLOORING LLC  \n",
      "1    112419.43  CB FLOORING LLC  \n"
     ]
    }
   ],
   "source": [
    "remove_list = ['index', 'FISCAL_YR_NUM',\n",
    "       'FISCAL_MONTH_NUM', 'SOLD_TO_CUSTOMER_PK', 'CUSTOMER_NUM',\n",
    "       'CUSTOMER_SUFFIX_NUM', 'SLS']\n",
    "for item in remove_list:\n",
    "    ClaimData = ClaimData.drop(item, axis=1)\n",
    "    \n",
    "print(ClaimData.shape, ClaimData.head(2))"
   ]
  },
  {
   "cell_type": "code",
   "execution_count": 16,
   "metadata": {},
   "outputs": [
    {
     "name": "stdout",
     "output_type": "stream",
     "text": [
      "(10019, 7)\n"
     ]
    },
    {
     "data": {
      "image/png": "[encoded data removed]",
      "text/plain": [
       "<matplotlib.figure.Figure at 0x2d40b3a9c18>"
      ]
     },
     "metadata": {},
     "output_type": "display_data"
    }
   ],
   "source": [
    "# filter data to have SLS > 10\n",
    "customerData_SLS = ClaimData[ClaimData[\"dollarSales\"]>100]\n",
    "sns.distplot(customerData_SLS[\"dollarSales\"])\n",
    "print(customerData_SLS.shape)"
   ]
  },
  {
   "cell_type": "code",
   "execution_count": 17,
   "metadata": {},
   "outputs": [
    {
     "data": {
      "text/plain": [
       "<matplotlib.axes._subplots.AxesSubplot at 0x2d40b5e30b8>"
      ]
     },
     "execution_count": 17,
     "metadata": {},
     "output_type": "execute_result"
    },
    {
     "data": {
      "image/png": "[encoded data removed]",
      "text/plain": [
       "<matplotlib.figure.Figure at 0x2d40b3a98d0>"
      ]
     },
     "metadata": {},
     "output_type": "display_data"
    }
   ],
   "source": [
    "sns.distplot(customerData_SLS[\"dollarClaims\"])"
   ]
  },
  {
   "cell_type": "code",
   "execution_count": 18,
   "metadata": {},
   "outputs": [
    {
     "name": "stdout",
     "output_type": "stream",
     "text": [
      "(10019, 7)\n"
     ]
    },
    {
     "name": "stderr",
     "output_type": "stream",
     "text": [
      "C:\\anaconda35\\lib\\site-packages\\ipykernel_launcher.py:2: UserWarning: Boolean Series key will be reindexed to match DataFrame index.\n",
      "  \n"
     ]
    },
    {
     "data": {
      "image/png": "[encoded data removed]",
      "text/plain": [
       "<matplotlib.figure.Figure at 0x2d40b3a9e48>"
      ]
     },
     "metadata": {},
     "output_type": "display_data"
    }
   ],
   "source": [
    "# filter data to have TOTAL_CLAIMS_DOLLAR_AMT > 1\n",
    "customerData_AMT = customerData_SLS[ClaimData['dollarClaims']>0]\n",
    "sns.distplot(customerData_AMT['dollarClaims'])\n",
    "print(customerData_AMT.shape)"
   ]
  },
  {
   "cell_type": "code",
   "execution_count": 19,
   "metadata": {},
   "outputs": [
    {
     "data": {
      "image/png": "[encoded data removed]",
      "text/plain": [
       "<matplotlib.figure.Figure at 0x2d40bc85be0>"
      ]
     },
     "metadata": {},
     "output_type": "display_data"
    }
   ],
   "source": [
    "def _plot_scatter(data, xTag, yTag):\n",
    "    # Set style of scatterplot\n",
    "    #sns.set_context(\"notebook\", font_scale=1.1)\n",
    "    #sns.set_style(\"ticks\")\n",
    "    from itertools import cycle\n",
    "    color_gen = cycle(('blue', 'lightgreen', 'red', 'purple', 'gray', 'cyan'))\n",
    "\n",
    "    # Create scatterplot of dataframe\n",
    "    fig = plt.figure(figsize=(11,4)) \n",
    "    plt.scatter(data[xTag], # Horizontal axis\n",
    "               data[yTag], # Vertical axis\n",
    "               c = next(color_gen))\n",
    "\n",
    "    # Set title\n",
    "    plt.title(yTag + ' vs ' + xTag)\n",
    "\n",
    "    # Set x-axis label\n",
    "    plt.xlabel(xTag)\n",
    "\n",
    "    # Set y-axis label\n",
    "    plt.ylabel(yTag)\n",
    "    plt.show()\n",
    "\n",
    "xTag = 'dollarClaims'\n",
    "yTag = 'dollarSales'\n",
    "_plot_scatter(ClaimData, xTag, yTag)"
   ]
  },
  {
   "cell_type": "code",
   "execution_count": 20,
   "metadata": {},
   "outputs": [
    {
     "data": {
      "image/png": "[encoded data removed]",
      "text/plain": [
       "<matplotlib.figure.Figure at 0x2d40bc74668>"
      ]
     },
     "metadata": {},
     "output_type": "display_data"
    }
   ],
   "source": [
    "_plot_scatter(customerData_SLS, xTag, yTag)"
   ]
  },
  {
   "cell_type": "code",
   "execution_count": 21,
   "metadata": {},
   "outputs": [
    {
     "data": {
      "image/png": "[encoded data removed]",
      "text/plain": [
       "<matplotlib.figure.Figure at 0x2d40bd20588>"
      ]
     },
     "metadata": {},
     "output_type": "display_data"
    }
   ],
   "source": [
    "_plot_scatter(customerData_AMT, xTag, yTag)"
   ]
  },
  {
   "cell_type": "code",
   "execution_count": 22,
   "metadata": {},
   "outputs": [
    {
     "name": "stdout",
     "output_type": "stream",
     "text": [
      "(424,)\n"
     ]
    }
   ],
   "source": [
    "index_nan = ClaimData['dollarClaims'].index[ClaimData['dollarClaims']<100]\n",
    "print(index_nan.shape)"
   ]
  },
  {
   "cell_type": "code",
   "execution_count": 23,
   "metadata": {},
   "outputs": [
    {
     "name": "stdout",
     "output_type": "stream",
     "text": [
      "(0,)\n"
     ]
    }
   ],
   "source": [
    "index_nan2 = customerData_SLS['dollarClaims'].index[customerData_SLS['dollarClaims']<0]\n",
    "print(index_nan2.shape)"
   ]
  },
  {
   "cell_type": "code",
   "execution_count": 24,
   "metadata": {},
   "outputs": [
    {
     "name": "stdout",
     "output_type": "stream",
     "text": [
      "(10003, 5)\n"
     ]
    }
   ],
   "source": [
    "customerData = customerData_AMT.groupby(['CUSTOMER_NAME', 'dollarClaims']).sum()\n",
    "print(customerData.shape)"
   ]
  },
  {
   "cell_type": "code",
   "execution_count": 25,
   "metadata": {},
   "outputs": [
    {
     "name": "stdout",
     "output_type": "stream",
     "text": [
      "                  dollarClaims\n",
      "CUSTOMER_NAME                 \n",
      "067 / STERLING          609.68\n",
      "1089322 B.C. LTD        955.37 (6929, 1)\n"
     ]
    }
   ],
   "source": [
    "ClaimData = customerData_AMT\n",
    "#create a pivot table to reshape the data, using sum or count function\n",
    "claimDollar = ClaimData.pivot_table(index='CUSTOMER_NAME', values='dollarClaims', aggfunc=sum)\n",
    "print(claimDollar.head(2), claimDollar.shape)"
   ]
  },
  {
   "cell_type": "code",
   "execution_count": 26,
   "metadata": {},
   "outputs": [
    {
     "name": "stdout",
     "output_type": "stream",
     "text": [
      "(6929, 1)\n"
     ]
    }
   ],
   "source": [
    "claimDollar_na = claimDollar.dropna(axis=0, how = 'any')\n",
    "print(claimDollar_na.shape)"
   ]
  },
  {
   "cell_type": "code",
   "execution_count": 154,
   "metadata": {},
   "outputs": [
    {
     "data": {
      "text/plain": [
       "\"\\nsaleNumber = ClaimData.pivot_table(index='CUSTOMER_NAME', values='SLS', aggfunc=len)\\nsaleNumber = saleNumber.rename(columns = {'SLS':'NumberSales'})\\nsaleDollar = ClaimData.pivot_table(index='CUSTOMER_NAME', values='SLS', aggfunc=sum)\\nprint(saleDollar.head(2), saleDollar.shape)\\n\""
      ]
     },
     "execution_count": 154,
     "metadata": {},
     "output_type": "execute_result"
    }
   ],
   "source": [
    "#create a pivot table to reshape the data, using sum or count function\n",
    "\"\"\"\n",
    "saleNumber = ClaimData.pivot_table(index='CUSTOMER_NAME', values='SLS', aggfunc=len)\n",
    "saleNumber = saleNumber.rename(columns = {'SLS':'NumberSales'})\n",
    "saleDollar = ClaimData.pivot_table(index='CUSTOMER_NAME', values='SLS', aggfunc=sum)\n",
    "print(saleDollar.head(2), saleDollar.shape)\n",
    "\"\"\""
   ]
  },
  {
   "cell_type": "code",
   "execution_count": 155,
   "metadata": {
    "collapsed": true
   },
   "outputs": [],
   "source": [
    "#saleDollar_na = saleDollar.dropna(axis = 0, how = 'any')\n",
    "#print(saleDollar_na.shape)"
   ]
  },
  {
   "cell_type": "code",
   "execution_count": 156,
   "metadata": {
    "collapsed": true
   },
   "outputs": [],
   "source": [
    "#saleData = pd.concat([saleDollar_na, saleNumber], axis=1, join_axes=[saleDollar_na.index])\n",
    "#saleData['DollarPerSale'] = saleData['SLS']/saleData['NumberSales']\n",
    "#print(saleData.shape, saleData.head(2))"
   ]
  },
  {
   "cell_type": "code",
   "execution_count": 157,
   "metadata": {
    "collapsed": true
   },
   "outputs": [],
   "source": [
    "#customerData = pd.concat([saleData, claimDollar_na], axis=1, join_axes=[saleData.index])\n",
    "#customerData['ClaimRatio'] = customerData['TOTAL_CLAIMS_DOLLAR_AMT']/customerData['SLS']\n",
    "#print(customerData.shape, customerData.head(2))"
   ]
  },
  {
   "cell_type": "code",
   "execution_count": 158,
   "metadata": {
    "collapsed": true
   },
   "outputs": [],
   "source": [
    "#create a pivot table to reshape the data, using sum or count function\n",
    "#claimCnt = ClaimData.pivot_table(index='CUSTOMER_NAME', values='TOTAL_CLAIMS_DOLLAR_AMT', aggfunc=len)\n",
    "#claimCnt = claimCnt.rename(columns = {'TOTAL_CLAIMS_DOLLAR_AMT':'Total_Claims'})\n",
    "#print(claimCnt.head(2), claimCnt.shape)"
   ]
  },
  {
   "cell_type": "code",
   "execution_count": 27,
   "metadata": {},
   "outputs": [
    {
     "name": "stdout",
     "output_type": "stream",
     "text": [
      "(10019, 10)    PRIMARY_CUSTOMER_GK  Claims  numClaims  dollarClaims  numSales  \\\n",
      "0                55116       1          1         46.00      10.0   \n",
      "1                55121       1          2       4675.67      10.0   \n",
      "\n",
      "   dollarSales    CUSTOMER_NAME  dollarPerClaim  dollarPerSale  claimRatio  \n",
      "0    241296.53  CB FLOORING LLC          46.000      24129.653    0.000191  \n",
      "1    112419.43  CB FLOORING LLC        2337.835      11241.943    0.041591  \n"
     ]
    }
   ],
   "source": [
    "# join count claim\n",
    "#modelData = pd.concat([customerData, claimCnt], axis=1, join_axes=[customerData.index])\n",
    "modelData = ClaimData\n",
    "modelData['dollarPerClaim'] = modelData['dollarClaims']/modelData['numClaims']\n",
    "modelData['dollarPerSale'] = modelData['dollarSales']/modelData['numSales']\n",
    "modelData['claimRatio'] = modelData['dollarClaims']/modelData['dollarSales']\n",
    "print(modelData.shape, modelData.head(2))"
   ]
  },
  {
   "cell_type": "code",
   "execution_count": 28,
   "metadata": {},
   "outputs": [
    {
     "name": "stdout",
     "output_type": "stream",
     "text": [
      "    index  PRIMARY_CUSTOMER_GK  Claims  numClaims  dollarClaims  numSales  \\\n",
      "0       0                55116       1          1         46.00      10.0   \n",
      "1       1                55121       1          2       4675.67      10.0   \n",
      "2       2                55213       1         12      13445.83       8.0   \n",
      "3       3                55310       0          1       2278.70      11.0   \n",
      "4       5                55602       1          1        815.52      10.0   \n",
      "5       6                55642       1          3       1217.15       4.0   \n",
      "6       7                55769       0          4       5619.85       6.0   \n",
      "7      10                58684       1          6      25772.64       6.0   \n",
      "8      11                58695       1          7       7499.55       4.0   \n",
      "9      12                58696       1          4       1164.10      11.0   \n",
      "10     13                58700       1          3        203.39      12.0   \n",
      "11     15                58730       1          4        577.52      10.0   \n",
      "12     16                58774       1          5       3792.23       9.0   \n",
      "13     17                58797       0          1        751.00       9.0   \n",
      "14     18                58797       1          3        243.37       9.0   \n",
      "15     19                58851       1         26      33444.99       9.0   \n",
      "16     20                58863       1         13       6129.03      10.0   \n",
      "17     21                58892       0          1       7599.36      10.0   \n",
      "18     22                58892       1          1         87.59      10.0   \n",
      "19     23                58914       0         16      30596.62       8.0   \n",
      "\n",
      "    dollarSales                   CUSTOMER_NAME  dollarPerClaim  \\\n",
      "0     241296.53                 CB FLOORING LLC       46.000000   \n",
      "1     112419.43                 CB FLOORING LLC     2337.835000   \n",
      "2      42637.88  COMMERCIAL CPTS OF AMERICA INC     1120.485833   \n",
      "3     633067.71        FAMILY CARPET OUTLET INC     2278.700000   \n",
      "4    1088677.47                  NORDSTROMS INC      815.520000   \n",
      "5      19098.38                 JOHN HERBERT CO      405.716667   \n",
      "6      75900.16        THE EVANGELICAL LUTHERAN     1404.962500   \n",
      "7      36261.22          ART FLOCK & SCREEN INC     4295.440000   \n",
      "8       9704.94   ASSOCIATED DESIGN CONSULTANTS     1071.364286   \n",
      "9      72568.44                CARPET TIME INC.      291.025000   \n",
      "10    373806.66   ATLANTA FLRING DESIGN CTR INC       67.796667   \n",
      "11    142614.68              BASTIAN OWEN M INC      144.380000   \n",
      "12     20882.79        BUILDERS SPECIALTIES INC      758.446000   \n",
      "13     59076.59               CARPET BROKER THE      751.000000   \n",
      "14     59076.59               CARPET BROKER THE       81.123333   \n",
      "15     56540.62  CARPET CONCEPTS OF ATLANTA INC     1286.345769   \n",
      "16    419188.40                 CARPET FAIR INC      471.463846   \n",
      "17    139800.12           CARPET SHOPPE THE INC     7599.360000   \n",
      "18    139800.12           CARPET SHOPPE THE INC       87.590000   \n",
      "19     88273.73      CENTRAL TILE & TERRAZZO CO     1912.288750   \n",
      "\n",
      "    dollarPerSale  claimRatio  \n",
      "0    24129.653000    0.000191  \n",
      "1    11241.943000    0.041591  \n",
      "2     5329.735000    0.315349  \n",
      "3    57551.610000    0.003599  \n",
      "4   108867.747000    0.000749  \n",
      "5     4774.595000    0.063731  \n",
      "6    12650.026667    0.074043  \n",
      "7     6043.536667    0.710749  \n",
      "8     2426.235000    0.772756  \n",
      "9     6597.130909    0.016041  \n",
      "10   31150.555000    0.000544  \n",
      "11   14261.468000    0.004050  \n",
      "12    2320.310000    0.181596  \n",
      "13    6564.065556    0.012712  \n",
      "14    6564.065556    0.004120  \n",
      "15    6282.291111    0.591521  \n",
      "16   41918.840000    0.014621  \n",
      "17   13980.012000    0.054359  \n",
      "18   13980.012000    0.000627  \n",
      "19   11034.216250    0.346611   (10019, 11)\n"
     ]
    }
   ],
   "source": [
    "modelData.reset_index(inplace=True)\n",
    "print(modelData.head(20), modelData.shape)"
   ]
  },
  {
   "cell_type": "code",
   "execution_count": 29,
   "metadata": {},
   "outputs": [
    {
     "data": {
      "image/png": "[encoded data removed]",
      "text/plain": [
       "<matplotlib.figure.Figure at 0x2d40bd6b5c0>"
      ]
     },
     "metadata": {},
     "output_type": "display_data"
    }
   ],
   "source": [
    "xTag = 'numSales'\n",
    "yTag = 'numClaims'\n",
    "_plot_scatter(modelData, xTag, yTag)"
   ]
  },
  {
   "cell_type": "code",
   "execution_count": 30,
   "metadata": {},
   "outputs": [
    {
     "data": {
      "image/png": "[encoded data removed]",
      "text/plain": [
       "<matplotlib.figure.Figure at 0x2d40bc74ac8>"
      ]
     },
     "metadata": {},
     "output_type": "display_data"
    }
   ],
   "source": [
    " ax = sns.regplot(x=xTag, y=yTag, data=modelData)"
   ]
  },
  {
   "cell_type": "markdown",
   "metadata": {},
   "source": [
    "# Visualization of modeling data"
   ]
  },
  {
   "cell_type": "code",
   "execution_count": 31,
   "metadata": {},
   "outputs": [
    {
     "name": "stdout",
     "output_type": "stream",
     "text": [
      "(10019, 11)    index  PRIMARY_CUSTOMER_GK  Claims  numClaims  dollarClaims  numSales  \\\n",
      "0      0                55116       1          1         46.00      10.0   \n",
      "1      1                55121       1          2       4675.67      10.0   \n",
      "\n",
      "   dollarSales    CUSTOMER_NAME  dollarPerClaim  dollarPerSale  claimRatio  \n",
      "0    241296.53  CB FLOORING LLC          46.000      24129.653    0.000191  \n",
      "1    112419.43  CB FLOORING LLC        2337.835      11241.943    0.041591  \n"
     ]
    }
   ],
   "source": [
    "print(modelData.shape, modelData.head(2))"
   ]
  },
  {
   "cell_type": "code",
   "execution_count": 32,
   "metadata": {},
   "outputs": [
    {
     "data": {
      "image/png": "[encoded data removed]",
      "text/plain": [
       "<matplotlib.figure.Figure at 0x2d40ce18550>"
      ]
     },
     "metadata": {},
     "output_type": "display_data"
    },
    {
     "name": "stdout",
     "output_type": "stream",
     "text": [
      "Number of above upper limit points =  131.0\n",
      "Above upperlimit points: [40, 44, 52, 67, 81, 94, 99, 100, 124, 152, 245, 260, 262, 302, 328, 353, 425, 426, 488, 509, 533, 583, 623, 630, 654, 673, 698, 709, 711, 723, 730, 737, 742, 753, 771, 786, 814, 824, 837, 841, 851, 856, 860, 883, 892, 917, 935, 944, 945, 946, 948, 963, 964, 973, 974, 1039, 1040, 1066, 1072, 1093, 1101, 1118, 1201, 1209, 1220, 1268, 1269, 1335, 1366, 1551, 1552, 1703, 1747, 2014, 2171, 2391, 2699, 2901, 2924, 3082, 3316, 3318, 3374, 3375, 3457, 3547, 4611, 4714, 4828, 4874, 4906, 5052, 5147, 5357, 5488, 5531, 5571, 5728, 5797, 5894, 5897, 5899, 5900, 5906, 5908, 5912, 6959, 7393, 7600, 7674, 7810, 7811, 7888, 8055, 8056, 9100, 9148, 9328, 9405, 9434, 9538, 9539, 9769, 9803, 9804, 9834, 9863, 9928, 9974, 10008, 10011]\n"
     ]
    }
   ],
   "source": [
    "#sns.lmplot(x=\"SLS\", y=\"ClaimRatio\", data=modelData, hue=\"ClaimRatio\", fit_reg=False, size = 8);\n",
    "#series plot over three sigma\n",
    "\n",
    "yName = \"dollarClaims\"\n",
    "dt = modelData.index #pd.to_datetime(modelData['CREATE_DTM'])\n",
    "ifactor = 3\n",
    "xd = modelData[yName]\n",
    "_plot_value_series(xd, dt, ifactor,yName,1)"
   ]
  },
  {
   "cell_type": "code",
   "execution_count": 33,
   "metadata": {},
   "outputs": [
    {
     "data": {
      "image/png": "[encoded data removed]",
      "text/plain": [
       "<matplotlib.figure.Figure at 0x2d40b713668>"
      ]
     },
     "metadata": {},
     "output_type": "display_data"
    },
    {
     "name": "stdout",
     "output_type": "stream",
     "text": [
      "Number of above upper limit points =  48.0\n",
      "Above upperlimit points: [97, 134, 140, 141, 142, 336, 338, 400, 445, 519, 624, 673, 708, 792, 826, 838, 841, 886, 899, 900, 948, 1707, 2609, 4637, 4661, 4695, 4796, 4813, 5809, 5949, 6267, 6943, 7788, 7789, 8040, 8833, 9069, 9074, 9170, 9321, 9330, 9331, 9520, 9536, 9582, 9832, 9834, 9896]\n"
     ]
    }
   ],
   "source": [
    "yName = \"claimRatio\"\n",
    "dt = modelData.index #pd.to_datetime(modelData['CREATE_DTM'])\n",
    "ifactor = 3\n",
    "xd = modelData[yName]\n",
    "_plot_value_series(xd, dt, ifactor,yName,1)"
   ]
  },
  {
   "cell_type": "code",
   "execution_count": 34,
   "metadata": {},
   "outputs": [
    {
     "name": "stdout",
     "output_type": "stream",
     "text": [
      "(0, 11)\n"
     ]
    }
   ],
   "source": [
    "# ClaimAMT = 0\n",
    "CR0 = modelData[modelData[\"claimRatio\"]==0]\n",
    "print(CR0.shape)"
   ]
  },
  {
   "cell_type": "code",
   "execution_count": 35,
   "metadata": {},
   "outputs": [
    {
     "name": "stdout",
     "output_type": "stream",
     "text": [
      "(142, 11)\n"
     ]
    }
   ],
   "source": [
    "LargeCR = modelData[modelData[\"claimRatio\"] > 1]\n",
    "print(LargeCR.shape)"
   ]
  },
  {
   "cell_type": "code",
   "execution_count": 36,
   "metadata": {},
   "outputs": [
    {
     "data": {
      "image/png": "[encoded data removed]",
      "text/plain": [
       "<matplotlib.figure.Figure at 0x2d40b8c32b0>"
      ]
     },
     "metadata": {},
     "output_type": "display_data"
    }
   ],
   "source": [
    "modelData_tmp = modelData[modelData['claimRatio'] < 1]\n",
    "data = modelData_tmp['claimRatio']\n",
    "sns.distplot(data, bins=30)\n",
    "plt.show()"
   ]
  },
  {
   "cell_type": "code",
   "execution_count": 37,
   "metadata": {},
   "outputs": [
    {
     "name": "stdout",
     "output_type": "stream",
     "text": [
      "(9586, 11)\n"
     ]
    }
   ],
   "source": [
    "LargeDPS= modelData[modelData[\"dollarPerSale\"] > 1000]\n",
    "print(LargeDPS.shape)"
   ]
  },
  {
   "cell_type": "code",
   "execution_count": 38,
   "metadata": {},
   "outputs": [
    {
     "data": {
      "image/png": "[encoded data removed]",
      "text/plain": [
       "<matplotlib.figure.Figure at 0x2d40ce18dd8>"
      ]
     },
     "metadata": {},
     "output_type": "display_data"
    }
   ],
   "source": [
    "tag = 'dollarPerSale'\n",
    "modelData_tmp = modelData[modelData[tag] < 10000]\n",
    "data = modelData_tmp[tag]\n",
    "sns.distplot(data, bins=30)\n",
    "plt.show()"
   ]
  },
  {
   "cell_type": "code",
   "execution_count": 39,
   "metadata": {},
   "outputs": [
    {
     "name": "stdout",
     "output_type": "stream",
     "text": [
      "(2152, 11)\n"
     ]
    },
    {
     "data": {
      "image/png": "[encoded data removed]",
      "text/plain": [
       "<matplotlib.figure.Figure at 0x2d40bc45940>"
      ]
     },
     "metadata": {},
     "output_type": "display_data"
    }
   ],
   "source": [
    "tag = 'numSales'\n",
    "LargeS= modelData[modelData[tag] > 10]\n",
    "print(LargeS.shape)\n",
    "\n",
    "modelData_tmp = modelData[modelData[tag] < 40]\n",
    "data = modelData_tmp[tag]\n",
    "sns.distplot(data, bins=30)\n",
    "plt.show()"
   ]
  },
  {
   "cell_type": "code",
   "execution_count": 40,
   "metadata": {},
   "outputs": [
    {
     "name": "stdout",
     "output_type": "stream",
     "text": [
      "(2105, 11)\n"
     ]
    }
   ],
   "source": [
    "LargeDPC= modelData[modelData[\"dollarPerClaim\"] > 1000]\n",
    "print(LargeDPC.shape)"
   ]
  },
  {
   "cell_type": "code",
   "execution_count": 41,
   "metadata": {},
   "outputs": [
    {
     "data": {
      "image/png": "[encoded data removed]",
      "text/plain": [
       "<matplotlib.figure.Figure at 0x2d40b71e1d0>"
      ]
     },
     "metadata": {},
     "output_type": "display_data"
    }
   ],
   "source": [
    "tag = 'dollarPerClaim'\n",
    "modelData_tmp = modelData[modelData[tag] < 1000]\n",
    "data = modelData_tmp[tag]\n",
    "sns.distplot(data, bins=30)\n",
    "plt.show()"
   ]
  },
  {
   "cell_type": "code",
   "execution_count": 42,
   "metadata": {},
   "outputs": [
    {
     "name": "stdout",
     "output_type": "stream",
     "text": [
      "(10006, 11)\n"
     ]
    },
    {
     "data": {
      "image/png": "[encoded data removed]",
      "text/plain": [
       "<matplotlib.figure.Figure at 0x2d40d09cb38>"
      ]
     },
     "metadata": {},
     "output_type": "display_data"
    }
   ],
   "source": [
    "tag = 'dollarClaims'\n",
    "LargeC= modelData[modelData[tag] > 10]\n",
    "print(LargeC.shape)\n",
    "\n",
    "modelData_tmp = modelData[modelData[tag] < 40]\n",
    "data = modelData_tmp[tag]\n",
    "sns.distplot(data, bins=30)\n",
    "plt.show()"
   ]
  },
  {
   "cell_type": "code",
   "execution_count": 43,
   "metadata": {},
   "outputs": [
    {
     "data": {
      "image/png": "[encoded data removed]",
      "text/plain": [
       "<matplotlib.figure.Figure at 0x2d40d1d1a90>"
      ]
     },
     "metadata": {},
     "output_type": "display_data"
    },
    {
     "name": "stdout",
     "output_type": "stream",
     "text": [
      "Number of above upper limit points =  103.0\n",
      "Above upperlimit points: [458, 459, 860, 861, 943, 944, 945, 946, 967, 968, 973, 974, 1039, 1040, 1071, 1072, 1092, 1093, 1105, 1106, 1268, 1269, 1702, 1703, 2094, 2095, 2390, 2391, 2413, 2414, 2621, 2622, 2741, 2742, 2839, 2840, 2923, 2924, 3137, 3138, 3148, 3149, 3315, 3316, 3317, 3318, 3546, 3547, 3743, 3744, 3752, 3753, 3761, 3762, 4654, 4655, 4665, 4714, 4715, 4828, 4829, 4906, 4945, 4946, 5356, 5357, 5358, 5530, 5531, 5899, 5900, 5905, 5906, 5907, 5908, 5909, 5910, 5911, 5912, 6120, 6121, 6468, 6469, 6939, 6940, 7373, 7374, 7810, 7811, 7862, 7863, 7864, 7865, 7887, 7888, 7975, 7976, 8055, 8056, 9463, 9464, 9538, 9539]\n"
     ]
    }
   ],
   "source": [
    "yName = \"dollarSales\"\n",
    "dt = modelData.index #pd.to_datetime(modelData['CREATE_DTM'])\n",
    "ifactor = 3\n",
    "xd = modelData[yName]\n",
    "_plot_value_series(xd, dt, ifactor,yName,1)"
   ]
  },
  {
   "cell_type": "code",
   "execution_count": 44,
   "metadata": {},
   "outputs": [
    {
     "data": {
      "image/png": "[encoded data removed]",
      "text/plain": [
       "<matplotlib.figure.Figure at 0x2d40bdf2fd0>"
      ]
     },
     "metadata": {},
     "output_type": "display_data"
    },
    {
     "name": "stdout",
     "output_type": "stream",
     "text": [
      "Number of above upper limit points =  113.0\n",
      "Above upperlimit points: [17, 25, 44, 54, 63, 74, 76, 77, 81, 93, 179, 204, 210, 217, 226, 245, 260, 262, 265, 266, 276, 278, 281, 302, 320, 327, 328, 336, 352, 353, 364, 365, 401, 411, 418, 420, 425, 445, 462, 465, 468, 471, 475, 486, 507, 509, 520, 527, 560, 630, 640, 642, 645, 656, 673, 701, 709, 711, 730, 737, 762, 768, 780, 784, 786, 801, 807, 812, 814, 819, 824, 840, 842, 859, 874, 900, 1055, 1536, 1747, 3073, 3265, 5147, 5243, 5791, 6076, 6249, 6600, 7188, 7542, 7627, 7674, 8590, 8652, 9100, 9148, 9284, 9330, 9334, 9405, 9615, 9665, 9716, 9719, 9803, 9834, 9863, 9896, 9928, 9951, 9974, 9984, 10008, 10011]\n"
     ]
    }
   ],
   "source": [
    "yName = \"dollarPerClaim\"\n",
    "dt = modelData.index #pd.to_datetime(modelData['CREATE_DTM'])\n",
    "ifactor = 3\n",
    "xd = modelData[yName]\n",
    "_plot_value_series(xd, dt, ifactor,yName,1)"
   ]
  },
  {
   "cell_type": "code",
   "execution_count": 45,
   "metadata": {},
   "outputs": [
    {
     "name": "stdout",
     "output_type": "stream",
     "text": [
      "count    10019.000000\n",
      "mean       851.077054\n",
      "std       1941.380551\n",
      "min          1.000000\n",
      "25%        210.136667\n",
      "50%        432.555556\n",
      "75%        868.403929\n",
      "max      58925.440000\n",
      "Name: dollarPerClaim, dtype: float64\n"
     ]
    },
    {
     "data": {
      "image/png": "[encoded data removed]",
      "text/plain": [
       "<matplotlib.figure.Figure at 0x2d40d2687b8>"
      ]
     },
     "metadata": {},
     "output_type": "display_data"
    }
   ],
   "source": [
    "n, bins, patches = plt.hist(xd, bins='auto', facecolor='green', alpha=0.75)\n",
    "print(xd.describe())"
   ]
  },
  {
   "cell_type": "code",
   "execution_count": 46,
   "metadata": {},
   "outputs": [
    {
     "data": {
      "image/png": "[encoded data removed]",
      "text/plain": [
       "<matplotlib.figure.Figure at 0x2d40d1c7518>"
      ]
     },
     "metadata": {},
     "output_type": "display_data"
    }
   ],
   "source": [
    "# box plot\n",
    "plt.hist(np.array(modelData['claimRatio']), color=['r'], alpha=0.5, label='claimRatio')\n",
    "plt.legend(loc='upper right')\n",
    "plt.show()"
   ]
  },
  {
   "cell_type": "code",
   "execution_count": 47,
   "metadata": {},
   "outputs": [
    {
     "data": {
      "image/png": "[encoded data removed]",
      "text/plain": [
       "<matplotlib.figure.Figure at 0x2d40d742128>"
      ]
     },
     "metadata": {},
     "output_type": "display_data"
    }
   ],
   "source": [
    "_plot_boxplot(np.array(modelData['claimRatio']))"
   ]
  },
  {
   "cell_type": "code",
   "execution_count": 48,
   "metadata": {},
   "outputs": [
    {
     "data": {
      "image/png": "[encoded data removed]",
      "text/plain": [
       "<matplotlib.figure.Figure at 0x2d40d843518>"
      ]
     },
     "metadata": {},
     "output_type": "display_data"
    }
   ],
   "source": [
    "#series plot over three sigma\n",
    "yName = \"claimRatio\"\n",
    "ifactor = 3\n",
    "xd = modelData[yName]\n",
    "_plot_QQ(xd) "
   ]
  },
  {
   "cell_type": "code",
   "execution_count": 49,
   "metadata": {
    "collapsed": true
   },
   "outputs": [],
   "source": [
    "import pandas as pd\n",
    "#pd.set_option('display.height', 1000)\n",
    "pd.set_option('display.max_rows', 500)\n",
    "pd.set_option('display.max_columns', 20)\n",
    "#pd.set_option('display.width', 1000)"
   ]
  },
  {
   "cell_type": "code",
   "execution_count": 50,
   "metadata": {},
   "outputs": [
    {
     "name": "stdout",
     "output_type": "stream",
     "text": [
      "(10019, 11)    index  PRIMARY_CUSTOMER_GK  Claims  numClaims  dollarClaims  numSales  \\\n",
      "0      0                55116       1          1         46.00      10.0   \n",
      "1      1                55121       1          2       4675.67      10.0   \n",
      "\n",
      "   dollarSales    CUSTOMER_NAME  dollarPerClaim  dollarPerSale  claimRatio  \n",
      "0    241296.53  CB FLOORING LLC          46.000      24129.653    0.000191  \n",
      "1    112419.43  CB FLOORING LLC        2337.835      11241.943    0.041591  \n",
      "     1:    6358  =   63.5%\n",
      "     0:    3661  =   36.5%\n"
     ]
    }
   ],
   "source": [
    "# save data into csv file\n",
    "modelData.to_csv(fmodelData)\n",
    "print(modelData.shape, modelData.head(2))\n",
    "class_info(modelData.Claims)"
   ]
  },
  {
   "cell_type": "code",
   "execution_count": 182,
   "metadata": {},
   "outputs": [
    {
     "name": "stdout",
     "output_type": "stream",
     "text": [
      "   PRIMARY_CUSTOMER_GK  Claims  numClaims  dollarClaims  numSales  \\\n",
      "0                55116       1          1         46.00      10.0   \n",
      "1                55121       1          2       4675.67      10.0   \n",
      "2                55213       1         12      13445.83       8.0   \n",
      "3                55310       0          1       2278.70      11.0   \n",
      "4                55602       1          1        815.52      10.0   \n",
      "\n",
      "   dollarSales                   CUSTOMER_NAME  dollarPerClaim  dollarPerSale  \\\n",
      "0    241296.53                 CB FLOORING LLC       46.000000      24129.653   \n",
      "1    112419.43                 CB FLOORING LLC     2337.835000      11241.943   \n",
      "2     42637.88  COMMERCIAL CPTS OF AMERICA INC     1120.485833       5329.735   \n",
      "3    633067.71        FAMILY CARPET OUTLET INC     2278.700000      57551.610   \n",
      "4   1088677.47                  NORDSTROMS INC      815.520000     108867.747   \n",
      "\n",
      "   claimRatio  \n",
      "0    0.000191  \n",
      "1    0.041591  \n",
      "2    0.315349  \n",
      "3    0.003599  \n",
      "4    0.000749  \n"
     ]
    }
   ],
   "source": [
    "modelData.drop(['Unnamed: 0', 'index'], inplace=True, axis = 1)\n",
    "print(modelData.head(5))"
   ]
  },
  {
   "cell_type": "code",
   "execution_count": 183,
   "metadata": {},
   "outputs": [
    {
     "name": "stdout",
     "output_type": "stream",
     "text": [
      "                     Claims  numClaims  dollarClaims  numSales  dollarSales  \\\n",
      "PRIMARY_CUSTOMER_GK                                                           \n",
      "55116                     1          1         46.00      10.0    241296.53   \n",
      "55121                     1          2       4675.67      10.0    112419.43   \n",
      "55213                     1         12      13445.83       8.0     42637.88   \n",
      "55310                     0          1       2278.70      11.0    633067.71   \n",
      "55602                     1          1        815.52      10.0   1088677.47   \n",
      "\n",
      "                                      CUSTOMER_NAME  dollarPerClaim  \\\n",
      "PRIMARY_CUSTOMER_GK                                                   \n",
      "55116                               CB FLOORING LLC       46.000000   \n",
      "55121                               CB FLOORING LLC     2337.835000   \n",
      "55213                COMMERCIAL CPTS OF AMERICA INC     1120.485833   \n",
      "55310                      FAMILY CARPET OUTLET INC     2278.700000   \n",
      "55602                                NORDSTROMS INC      815.520000   \n",
      "\n",
      "                     dollarPerSale  claimRatio  \n",
      "PRIMARY_CUSTOMER_GK                             \n",
      "55116                    24129.653    0.000191  \n",
      "55121                    11241.943    0.041591  \n",
      "55213                     5329.735    0.315349  \n",
      "55310                    57551.610    0.003599  \n",
      "55602                   108867.747    0.000749  \n"
     ]
    }
   ],
   "source": [
    "modelData_gk = modelData.set_index('PRIMARY_CUSTOMER_GK')\n",
    "print(modelData_gk.head(5))"
   ]
  },
  {
   "cell_type": "markdown",
   "metadata": {
    "collapsed": true
   },
   "source": [
    "# Preprocess inputs to model Claim Scoring\n",
    "\n",
    "Possible Inputs:\n",
    "- ClaimRatio\n",
    "- DollarPerClaim ($/claim)\n",
    "\n",
    "- DollarPerSale ($/sale)\n",
    "- #Sales\n",
    "- #Claims"
   ]
  },
  {
   "cell_type": "code",
   "execution_count": 51,
   "metadata": {},
   "outputs": [
    {
     "name": "stdout",
     "output_type": "stream",
     "text": [
      "Index(['Unnamed: 0', 'index', 'PRIMARY_CUSTOMER_GK', 'Claims', 'numClaims',\n",
      "       'dollarClaims', 'numSales', 'dollarSales', 'CUSTOMER_NAME',\n",
      "       'dollarPerClaim', 'dollarPerSale', 'claimRatio'],\n",
      "      dtype='object')    Unnamed: 0  index  PRIMARY_CUSTOMER_GK  Claims  numClaims  dollarClaims  \\\n",
      "0           0      0                55116       1          1         46.00   \n",
      "1           1      1                55121       1          2       4675.67   \n",
      "2           2      2                55213       1         12      13445.83   \n",
      "3           3      3                55310       0          1       2278.70   \n",
      "4           4      5                55602       1          1        815.52   \n",
      "\n",
      "   numSales  dollarSales                   CUSTOMER_NAME  dollarPerClaim  \\\n",
      "0      10.0    241296.53                 CB FLOORING LLC       46.000000   \n",
      "1      10.0    112419.43                 CB FLOORING LLC     2337.835000   \n",
      "2       8.0     42637.88  COMMERCIAL CPTS OF AMERICA INC     1120.485833   \n",
      "3      11.0    633067.71        FAMILY CARPET OUTLET INC     2278.700000   \n",
      "4      10.0   1088677.47                  NORDSTROMS INC      815.520000   \n",
      "\n",
      "   dollarPerSale  claimRatio  \n",
      "0      24129.653    0.000191  \n",
      "1      11241.943    0.041591  \n",
      "2       5329.735    0.315349  \n",
      "3      57551.610    0.003599  \n",
      "4     108867.747    0.000749  \n"
     ]
    }
   ],
   "source": [
    "# read consildated model data\n",
    "modelData = pd.read_csv(fmodelData, encoding='latin1') # Read the data\n",
    "print(modelData.columns, modelData.head(5))"
   ]
  },
  {
   "cell_type": "code",
   "execution_count": 52,
   "metadata": {
    "collapsed": true
   },
   "outputs": [],
   "source": [
    "# Normalize data\n",
    "    # manually selected tags -- no normalized or PCA\n",
    "def _read_inputTags():\n",
    "    inputTags = ['numClaims',\n",
    "               'numSales',\n",
    "               'dollarPerClaim',\n",
    "               'dollarPerSale',\n",
    "               'claimRatio'\n",
    "              ]\n",
    "    return inputTags\n",
    "\n",
    "inputTags = _read_inputTags()\n",
    "yTags = 'Claims'"
   ]
  },
  {
   "cell_type": "code",
   "execution_count": 53,
   "metadata": {},
   "outputs": [
    {
     "name": "stdout",
     "output_type": "stream",
     "text": [
      "   numClaims  numSales  dollarPerClaim  dollarPerSale  claimRatio\n",
      "0          1      10.0          46.000      24129.653    0.000191\n",
      "1          2      10.0        2337.835      11241.943    0.041591 (10019, 5)\n"
     ]
    }
   ],
   "source": [
    "customerID = modelData['CUSTOMER_NAME']\n",
    "X = modelData[inputTags]\n",
    "y = modelData[yTags]\n",
    "\n",
    "print(X.head(2), X.shape)"
   ]
  },
  {
   "cell_type": "code",
   "execution_count": 54,
   "metadata": {},
   "outputs": [
    {
     "name": "stdout",
     "output_type": "stream",
     "text": [
      "     1:    6358  =   63.5%\n",
      "     0:    3661  =   36.5%\n"
     ]
    }
   ],
   "source": [
    "class_info(y)"
   ]
  },
  {
   "cell_type": "code",
   "execution_count": 55,
   "metadata": {
    "collapsed": true
   },
   "outputs": [],
   "source": [
    "# split data\n",
    "ts = 0.3\n",
    "xTrain, xTest, yTrain, yTest = train_test_split(X, y, stratify=y, test_size=ts, random_state=531)  "
   ]
  },
  {
   "cell_type": "code",
   "execution_count": 56,
   "metadata": {
    "collapsed": true
   },
   "outputs": [],
   "source": [
    "# normalize data\n",
    "xvalue = xTrain.values \n",
    "normX_scaler = preprocessing.StandardScaler().fit(xvalue) \n",
    "xScaled = normX_scaler.transform(xvalue)   \n",
    "xScaled_test = normX_scaler.transform(xTest.values) \n",
    "xnTrain = pd.DataFrame(xScaled)\n",
    "xnTest = pd.DataFrame(xScaled_test)"
   ]
  },
  {
   "cell_type": "code",
   "execution_count": 57,
   "metadata": {
    "collapsed": true
   },
   "outputs": [],
   "source": [
    "xnTrain.index = xTrain.index\n",
    "xnTrain.columns = xTrain.columns\n",
    "xnTest.index = xTest.index\n",
    "xnTest.columns = xTest.columns"
   ]
  },
  {
   "cell_type": "code",
   "execution_count": 58,
   "metadata": {},
   "outputs": [
    {
     "name": "stdout",
     "output_type": "stream",
     "text": [
      "     0:    2563  =   36.5%\n",
      "     1:    4450  =   63.5%\n",
      "     0:    1098  =   36.5%\n",
      "     1:    1908  =   63.5%\n"
     ]
    }
   ],
   "source": [
    "class_info(yTrain)\n",
    "class_info(yTest)"
   ]
  },
  {
   "cell_type": "code",
   "execution_count": 59,
   "metadata": {},
   "outputs": [
    {
     "name": "stdout",
     "output_type": "stream",
     "text": [
      "     1:    3115  =   63.5%\n",
      "     0:    1794  =   36.5%\n",
      "     0:     769  =   36.5%\n",
      "     1:    1335  =   63.5%\n"
     ]
    }
   ],
   "source": [
    "#split the training data into modeling set and validation set\n",
    "nxModel, nxValid, yModel, yValid = train_test_split(xnTrain, yTrain, stratify=yTrain, test_size=ts, random_state=531)\n",
    "class_info(yModel)\n",
    "class_info(yValid)"
   ]
  },
  {
   "cell_type": "markdown",
   "metadata": {},
   "source": [
    "# Modeling using Different Methods"
   ]
  },
  {
   "cell_type": "code",
   "execution_count": 77,
   "metadata": {
    "collapsed": true
   },
   "outputs": [],
   "source": [
    "from sklearn.linear_model import LogisticRegression\n",
    "from sklearn.svm import SVC\n",
    "from sklearn.gaussian_process import GaussianProcessClassifier\n",
    "from sklearn.gaussian_process.kernels import RBF\n",
    "from sklearn import datasets\n",
    "from sklearn.utils.validation import column_or_1d\n",
    "from sklearn.metrics import accuracy_score"
   ]
  },
  {
   "cell_type": "code",
   "execution_count": 78,
   "metadata": {
    "collapsed": true
   },
   "outputs": [],
   "source": [
    "# <codecell>\n",
    "\n",
    "# let's switch to 2-dimensional curves; specifically, the ROC and precision-recall curves.\n",
    "# Define two functions to plot ROC and Precision-Recall curves.\n",
    "\n",
    "def plot_ROC_curve(classifier, X, y, pos_label=1, n_folds=5):\n",
    "    mean_tpr = 0.0\n",
    "    mean_fpr = np.linspace(0, 1, 100)\n",
    "    plt.figure()\n",
    "    aucs = []\n",
    "    all_tpr = []\n",
    "    for i, (train, test) in enumerate(StratifiedKFold(y, n_folds=n_folds)):\n",
    "        probas_ = classifier.fit(X.iloc[train,:], y[train]).predict_proba(X.iloc[test,:])\n",
    "        # Compute ROC curve and area under the curve\n",
    "        fpr, tpr, thresholds = roc_curve(y[test], probas_[:, 1], pos_label=1)\n",
    "        mean_tpr += interp(mean_fpr, fpr, tpr)\n",
    "        mean_tpr[0] = 0.0\n",
    "        roc_auc = auc(fpr, tpr)\n",
    "        aucs.append(roc_auc)\n",
    "        all_tpr.append(mean_tpr)\n",
    "        plt.plot(fpr, tpr, lw=1, alpha=0.3,\n",
    "                 label='ROC fold %d (area = %0.2f)' % (i, roc_auc))\n",
    "        \n",
    "    plt.plot([0, 1], [0, 1], '--', color=(0.6, 0.6, 0.6), label='Random', alpha=0.8)\n",
    "    \n",
    "    mean_tpr /= n_folds\n",
    "    mean_tpr[-1] = 1.0\n",
    "    mean_auc = auc(mean_fpr, mean_tpr)\n",
    "    std_auc = np.std(aucs)\n",
    "    plt.plot(mean_fpr, mean_tpr, 'k--',\n",
    "         label='Mean ROC (area = %0.2f $\\pm$ %0.2f)' % (mean_auc, std_auc), \n",
    "         lw=2, alpha=0.8)\n",
    "    \n",
    "    std_tpr = np.std(all_tpr, axis=0)\n",
    "    tprs_upper = np.minimum(mean_tpr + std_tpr, 1)\n",
    "    tprs_lower = np.maximum(mean_tpr - std_tpr, 0)\n",
    "    plt.fill_between(mean_fpr, tprs_lower, tprs_upper, color = 'grey', alpha=0.2,\n",
    "                     label = r'$\\pm$ 1 std. dev.')\n",
    "    plt.xlim([-0.05, 1.05])\n",
    "    plt.ylim([-0.05, 1.05])\n",
    "    plt.xlabel('False Positive Rate')\n",
    "    plt.ylabel('True Positive Rate')\n",
    "    plt.title('Receiver operating characteristic')\n",
    "    plt.legend(loc=\"lower right\")\n",
    "    plt.show()\n",
    "    \n",
    "    return classifier\n",
    "  "
   ]
  },
  {
   "cell_type": "code",
   "execution_count": 62,
   "metadata": {},
   "outputs": [
    {
     "name": "stdout",
     "output_type": "stream",
     "text": [
      "      dollarPerSale  claimRatio\n",
      "707       -0.031957   -0.182864\n",
      "2835      -0.208136   -0.153524\n"
     ]
    }
   ],
   "source": [
    "xm = nxModel.iloc[:, 3:5]\n",
    "#xm = pd.DataFrame(xm)\n",
    "print(xm.head(2))\n",
    "n_features = X.shape[1]\n",
    "\n",
    "C = 1.0\n",
    "kernel = 1.0 * RBF([1.0, 1.0])  # for GPC"
   ]
  },
  {
   "cell_type": "code",
   "execution_count": 226,
   "metadata": {},
   "outputs": [
    {
     "name": "stdout",
     "output_type": "stream",
     "text": [
      "             3         4\n",
      "1116 -0.031957 -0.182864\n",
      "3024 -0.208136 -0.153524\n"
     ]
    }
   ],
   "source": []
  },
  {
   "cell_type": "code",
   "execution_count": 67,
   "metadata": {
    "collapsed": true
   },
   "outputs": [],
   "source": [
    "# Create different classifiers. The logistic regression cannot do\n",
    "# multiclass out of the box.\n",
    "classifiers = {'L1 logistic': LogisticRegression(C=C, penalty='l1'),\n",
    "               'L2 logistic (OvR)': LogisticRegression(C=C, penalty='l2'),\n",
    "               'RBF SVC': SVC(kernel='rbf', C=C, class_weight='balanced',probability=True,\n",
    "                                 random_state=0),\n",
    "               'Linear SVC': SVC(kernel='linear', C=C, class_weight='balanced',probability=True,\n",
    "                                 random_state=0),\n",
    "               'L2 logistic (Multinomial)': LogisticRegression(\n",
    "                C=C, solver='lbfgs', multi_class='multinomial')\n",
    "               #'GPC': GaussianProcessClassifier(kernel)\n",
    "               }\n",
    "\n",
    "n_classifiers = len(classifiers)"
   ]
  },
  {
   "cell_type": "code",
   "execution_count": 68,
   "metadata": {},
   "outputs": [
    {
     "name": "stdout",
     "output_type": "stream",
     "text": [
      "classif_rate for L1 logistic : 63.454879 \n",
      "classif_rate for L2 logistic (OvR) : 63.475250 \n",
      "classif_rate for RBF SVC : 61.927073 \n",
      "classif_rate for Linear SVC : 63.169688 \n",
      "classif_rate for L2 logistic (Multinomial) : 63.475250 \n"
     ]
    },
    {
     "data": {
      "image/png": "[encoded data removed]",
      "text/plain": [
       "<matplotlib.figure.Figure at 0x2d40dbd5a20>"
      ]
     },
     "metadata": {},
     "output_type": "display_data"
    }
   ],
   "source": [
    "plt.figure(figsize=(3 * 2, n_classifiers * 2))\n",
    "plt.subplots_adjust(bottom=.2, top=.95)\n",
    "\n",
    "xx = np.linspace(3, 9, 100)\n",
    "yy = np.linspace(1, 5, 100).T\n",
    "xx, yy = np.meshgrid(xx, yy)\n",
    "Xfull = np.c_[xx.ravel(), yy.ravel()]\n",
    "\n",
    "for index, (name, classifier) in enumerate(classifiers.items()):\n",
    "    classifier.fit(xm, yModel)\n",
    "\n",
    "    y_pred = classifier.predict(xm)\n",
    "    classif_rate = np.mean(y_pred.ravel() == yModel.ravel()) * 100\n",
    "    print(\"classif_rate for %s : %f \" % (name, classif_rate))\n",
    "\n",
    "    # View probabilities=\n",
    "    probas = classifier.predict_proba(Xfull)\n",
    "    n_classes = np.unique(y_pred).size\n",
    "    for k in range(n_classes):\n",
    "        plt.subplot(n_classifiers, n_classes, index * n_classes + k + 1)\n",
    "        plt.title(\"Class %d\" % k)\n",
    "        if k == 0:\n",
    "            plt.ylabel(name)\n",
    "        imshow_handle = plt.imshow(probas[:, k].reshape((100, 100)),\n",
    "                                   extent=(3, 9, 1, 5), origin='lower')\n",
    "        plt.xticks(())\n",
    "        plt.yticks(())\n",
    "        idx = (y_pred == k)\n",
    "        if idx.any():\n",
    "            plt.scatter(xm.iloc[idx,0], xm.iloc[idx,1], marker='o', c='k')\n",
    "\n",
    "ax = plt.axes([0.15, 0.04, 0.7, 0.05])\n",
    "plt.title(\"Probability\")\n",
    "plt.colorbar(imshow_handle, cax=ax, orientation='horizontal')\n",
    "\n",
    "plt.show()"
   ]
  },
  {
   "cell_type": "code",
   "execution_count": 84,
   "metadata": {
    "collapsed": true
   },
   "outputs": [],
   "source": [
    "def _verify_claim(classifier, xValid, yValid):\n",
    "    \n",
    "    y_pred = classifier.predict(xValid)\n",
    "    classif_rate = np.mean(y_pred.ravel() == yValid.ravel()) * 100\n",
    "    print(\"classif_rate for %s : %f \\n\" % (name, classif_rate))\n",
    "\n",
    "    # Output probabilities\n",
    "    valFull = np.c_[xValid, yValid]\n",
    "    probas = classifier.predict_proba(xValid)\n",
    "    \n",
    "    test_results = [Declined', 'Paid']   \n",
    "    print (\"\\nModel Report\")\n",
    "    print(classification_report(yValid, y_pred, target_names= test_results))\n",
    "    print(\"Predicted Declined Claims = %s\" %sum(column_or_1d(y_pred)))\n",
    "    print (\"Accuracy : %.4g\" % accuracy_score(yValid.values, y_pred))\n",
    "    \n",
    "    # output results\n",
    "    proba = pd.DataFrame(data=probas[:,0], index = yValid.index, columns = ['Score'])\n",
    "    yPred = pd.DataFrame(data=y_pred, index = yValid.index, columns = ['Pred'])\n",
    "    res_pred = pd.concat([yValid, yPred, proba], axis=1)\n",
    "    return res_pred    "
   ]
  },
  {
   "cell_type": "code",
   "execution_count": 85,
   "metadata": {},
   "outputs": [
    {
     "name": "stdout",
     "output_type": "stream",
     "text": [
      "classif_rate for L1 logistic : 68.678707 \n",
      "\n",
      "\n",
      "Model Report\n",
      "             precision    recall  f1-score   support\n",
      "\n",
      "       Paid       0.69      0.26      0.38       769\n",
      "   Declined       0.69      0.93      0.79      1335\n",
      "\n",
      "avg / total       0.69      0.69      0.64      2104\n",
      "\n",
      "Predicted Declined Claims = 1818\n",
      "Accuracy : 0.6868\n",
      "classif_rate for L2 logistic (OvR) : 68.821293 \n",
      "\n",
      "\n",
      "Model Report\n",
      "             precision    recall  f1-score   support\n",
      "\n",
      "       Paid       0.70      0.26      0.38       769\n",
      "   Declined       0.69      0.94      0.79      1335\n",
      "\n",
      "avg / total       0.69      0.69      0.64      2104\n",
      "\n",
      "Predicted Declined Claims = 1819\n",
      "Accuracy : 0.6882\n",
      "classif_rate for RBF SVC : 71.435361 \n",
      "\n",
      "\n",
      "Model Report\n",
      "             precision    recall  f1-score   support\n",
      "\n",
      "       Paid       0.61      0.60      0.60       769\n",
      "   Declined       0.77      0.78      0.78      1335\n",
      "\n",
      "avg / total       0.71      0.71      0.71      2104\n",
      "\n",
      "Predicted Declined Claims = 1356\n",
      "Accuracy : 0.7144\n",
      "classif_rate for Linear SVC : 71.958175 \n",
      "\n",
      "\n",
      "Model Report\n",
      "             precision    recall  f1-score   support\n",
      "\n",
      "       Paid       0.66      0.47      0.55       769\n",
      "   Declined       0.74      0.86      0.80      1335\n",
      "\n",
      "avg / total       0.71      0.72      0.71      2104\n",
      "\n",
      "Predicted Declined Claims = 1559\n",
      "Accuracy : 0.7196\n",
      "classif_rate for L2 logistic (Multinomial) : 68.726236 \n",
      "\n",
      "\n",
      "Model Report\n",
      "             precision    recall  f1-score   support\n",
      "\n",
      "       Paid       0.69      0.26      0.38       769\n",
      "   Declined       0.69      0.93      0.79      1335\n",
      "\n",
      "avg / total       0.69      0.69      0.64      2104\n",
      "\n",
      "Predicted Declined Claims = 1817\n",
      "Accuracy : 0.6873\n"
     ]
    }
   ],
   "source": [
    "for index, (name, classifier) in enumerate(classifiers.items()):\n",
    "    classifier.fit(nxModel, yModel)\n",
    "    res_pred = _verify_claim(classifier, nxValid, yValid)"
   ]
  },
  {
   "cell_type": "code",
   "execution_count": 184,
   "metadata": {},
   "outputs": [
    {
     "name": "stdout",
     "output_type": "stream",
     "text": [
      "      Claims  Pred     Score\n",
      "6580       0     0  0.576681\n",
      "840        0     0  0.836356\n",
      "6219       0     1  0.482733\n",
      "3155       1     1  0.003144\n",
      "9585       1     0  0.634878\n",
      "6991       1     1  0.419064\n",
      "3457       1     1  0.011617\n",
      "228        1     1  0.476286\n",
      "3755       1     1  0.404435\n",
      "5043       1     1  0.395252\n",
      "4407       1     1  0.298046\n",
      "979        1     1  0.415023\n",
      "8040       0     0  0.549292\n",
      "5394       1     1  0.425130\n",
      "6844       1     1  0.361341\n",
      "1678       1     1  0.436160\n",
      "395        0     0  0.631535\n",
      "5757       0     0  0.701919\n",
      "3644       0     1  0.407578\n",
      "4458       1     1  0.371009 (2104, 3)\n"
     ]
    }
   ],
   "source": [
    "print(res_pred.head(20), res_pred.shape)"
   ]
  },
  {
   "cell_type": "markdown",
   "metadata": {
    "collapsed": true
   },
   "source": [
    "# Plot claim scoring data"
   ]
  },
  {
   "cell_type": "code",
   "execution_count": 230,
   "metadata": {},
   "outputs": [
    {
     "name": "stdout",
     "output_type": "stream",
     "text": [
      "   Item  Customer_GK  numClaims  numSales  dollarPerClaim  dollarPerSale  \\\n",
      "0     1         9911  -0.209033 -3.928868        0.919042      -0.119748   \n",
      "1     2          865  -0.302308 -3.928868        0.950694      -0.185358   \n",
      "2     3         7079  -0.302308 -3.458839        0.397372      -0.246493   \n",
      "3     4         7207  -0.209033 -3.928868        0.036118      -0.223279   \n",
      "4     5          748  -0.302308 -3.458839        0.793447      -0.235132   \n",
      "\n",
      "   claimRatio  Claims  Pred     Score Index  \n",
      "0    1.084738       0     0  0.108166   tst  \n",
      "1    0.631634       0     0  0.115440   val  \n",
      "2    1.234730       0     0  0.144704   tst  \n",
      "3    1.475528       0     0  0.146570   tst  \n",
      "4    0.927546       0     0  0.152926   val   (5110, 11)\n"
     ]
    }
   ],
   "source": [
    "# read consildated claim data\n",
    "fscoreData = 'C:/Users/E154709/Desktop/Mohawk/Claims/eclf_output.csv'\n",
    "claimScore = pd.read_csv(fscoreData, encoding='latin1') # Read the data\n",
    "print(claimScore.head(5), claimScore.shape)"
   ]
  },
  {
   "cell_type": "code",
   "execution_count": 231,
   "metadata": {},
   "outputs": [
    {
     "data": {
      "image/png": "[encoded data removed]",
      "text/plain": [
       "<matplotlib.figure.Figure at 0x2d419c13828>"
      ]
     },
     "metadata": {},
     "output_type": "display_data"
    },
    {
     "data": {
      "image/png": "[encoded data removed]",
      "text/plain": [
       "<matplotlib.figure.Figure at 0x2d40db23908>"
      ]
     },
     "metadata": {},
     "output_type": "display_data"
    }
   ],
   "source": [
    "claimScore = claimScore.rename(columns={\"Unnamed: 0\": \"Customer_GK\", \"Index\": \"Type\"})\n",
    "sortScore = claimScore.sort_values(by='Score')\n",
    "sortScore.reset_index(inplace = True)\n",
    "sns.lmplot(x=\"Item\", y=\"Score\", data=sortScore, hue=\"Pred\", fit_reg=False, size = 8);\n",
    "sns.lmplot(x=\"Item\", y=\"Score\", data=sortScore, hue=\"Claims\", fit_reg=False, size = 8);"
   ]
  },
  {
   "cell_type": "code",
   "execution_count": 232,
   "metadata": {},
   "outputs": [
    {
     "name": "stdout",
     "output_type": "stream",
     "text": [
      "   index  Item  Customer_GK  numClaims  numSales  dollarPerClaim  \\\n",
      "0      0     1         9911  -0.209033 -3.928868        0.919042   \n",
      "1      1     2          865  -0.302308 -3.928868        0.950694   \n",
      "2      2     3         7079  -0.302308 -3.458839        0.397372   \n",
      "3      3     4         7207  -0.209033 -3.928868        0.036118   \n",
      "4      4     5          748  -0.302308 -3.458839        0.793447   \n",
      "\n",
      "   dollarPerSale  claimRatio  Claims  Pred     Score Type  \n",
      "0      -0.119748    1.084738       0     0  0.108166  tst  \n",
      "1      -0.185358    0.631634       0     0  0.115440  val  \n",
      "2      -0.246493    1.234730       0     0  0.144704  tst  \n",
      "3      -0.223279    1.475528       0     0  0.146570  tst  \n",
      "4      -0.235132    0.927546       0     0  0.152926  val   (5110, 12)\n"
     ]
    }
   ],
   "source": [
    "#sortScore = sortScore.drop('level_0', axis = 1)\n",
    "print(sortScore.head(5), sortScore.shape)"
   ]
  },
  {
   "cell_type": "code",
   "execution_count": 238,
   "metadata": {},
   "outputs": [
    {
     "data": {
      "image/png": "[encoded data removed]",
      "text/plain": [
       "<matplotlib.figure.Figure at 0x2d41a5b3f98>"
      ]
     },
     "metadata": {},
     "output_type": "display_data"
    }
   ],
   "source": [
    "sns.lmplot(x = \"dollarPerSale\", y=\"Score\", data=sortScore, hue=\"Claims\", fit_reg=False, size = 8);"
   ]
  },
  {
   "cell_type": "code",
   "execution_count": 237,
   "metadata": {
    "collapsed": true
   },
   "outputs": [],
   "source": [
    "sns.set(style=\"whitegrid\", palette=\"pastel\", color_codes=False)"
   ]
  },
  {
   "cell_type": "code",
   "execution_count": 235,
   "metadata": {
    "scrolled": true
   },
   "outputs": [
    {
     "data": {
      "image/png": "[encoded data removed]",
      "text/plain": [
       "<matplotlib.figure.Figure at 0x2d40d8280b8>"
      ]
     },
     "metadata": {},
     "output_type": "display_data"
    }
   ],
   "source": [
    "# Draw a nested violinplot and split the violins for easier comparison\n",
    "sns.violinplot(x=\"Claims\", y=\"Score\", data=sortScore, hue=\"Pred\", split=True,\n",
    "               inner=\"quart\", palette={1: 'b', 0: 'r'})\n",
    "sns.despine(left=True)"
   ]
  },
  {
   "cell_type": "code",
   "execution_count": 236,
   "metadata": {},
   "outputs": [
    {
     "data": {
      "image/png": "[encoded data removed]",
      "text/plain": [
       "<matplotlib.figure.Figure at 0x2d40da50f28>"
      ]
     },
     "metadata": {},
     "output_type": "display_data"
    }
   ],
   "source": [
    "# Draw a nested boxplot to show bills by day and sex\n",
    "sns.boxplot(x=\"Claims\", y=\"Score\", data=sortScore, hue=\"Pred\", palette=\"PRGn\")\n",
    "sns.despine(offset=10, trim=True)"
   ]
  },
  {
   "cell_type": "code",
   "execution_count": null,
   "metadata": {
    "collapsed": true
   },
   "outputs": [],
   "source": []
  }
 ],
 "metadata": {
  "kernelspec": {
   "display_name": "Python 3",
   "language": "python",
   "name": "python3"
  },
  "language_info": {
   "codemirror_mode": {
    "name": "ipython",
    "version": 3
   },
   "file_extension": ".py",
   "mimetype": "text/x-python",
   "name": "python",
   "nbconvert_exporter": "python",
   "pygments_lexer": "ipython3",
   "version": "3.6.3"
  }
 },
 "nbformat": 4,
 "nbformat_minor": 2
}
