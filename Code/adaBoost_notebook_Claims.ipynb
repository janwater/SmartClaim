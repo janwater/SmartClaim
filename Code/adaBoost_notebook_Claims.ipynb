{
 "cells": [
  {
   "cell_type": "markdown",
   "metadata": {
    "_cell_guid": "7677b300-c13f-46c1-98fb-82ddb5a0d505",
    "_execution_state": "idle",
    "_uuid": "b7e98c5b8d403b477d388fdc219c6ce3ef1e6af6"
   },
   "source": [
    "*Ensemble Modeling with Skewed Datasets*\n",
    "==================================\n",
    "\n",
    "Here's a quick tutorial about how to use ensemble techniques with undersampling to get good results on an imbalanced data set. I'm going to stick with a very basic model (Adaboost with 100 Decision Tree Stumps) and just work on improving the model by changing the amount of training data I feed the model. The point of this kernel isn't to adjust the hyperparameters to find the best model, it's just to demonstrate how powerful ensembling can be on a skewed dataset.\n",
    "\n",
    "_________________________\n",
    "We'll look at three cases:\n",
    "1. Adaboost model with no undersampling.\n",
    "2. Adaboost model with undersampling.\n",
    "3. Ensembled model with undersampling."
   ]
  },
  {
   "cell_type": "code",
   "execution_count": 23,
   "metadata": {
    "_cell_guid": "6d3cf98d-b138-4904-ad89-129b57307115",
    "_execution_state": "idle",
    "_uuid": "a672e82a0d1b27cda90dafad1bfa261b90b26f51"
   },
   "outputs": [],
   "source": [
    "import numpy as np\n",
    "import pandas as pd\n",
    "import matplotlib.pyplot as plt\n",
    "import itertools\n",
    "\n",
    "from sklearn.metrics import confusion_matrix\n",
    "from sklearn.model_selection import train_test_split\n",
    "from sklearn.tree import DecisionTreeClassifier\n",
    "from sklearn.ensemble import AdaBoostClassifier\n",
    "from sklearn.calibration import calibration_curve"
   ]
  },
  {
   "cell_type": "code",
   "execution_count": 43,
   "metadata": {
    "_cell_guid": "3aee8e7a-aeff-4178-af9b-651969e688a1",
    "_execution_state": "idle",
    "_uuid": "74ac56d6e55be9481158a436f5c75cc115be39e1"
   },
   "outputs": [],
   "source": [
    "def load_fraud_data(filename):\n",
    "    df_data = pd.read_csv(filename)\n",
    "    return df_data\n",
    "\n",
    "df_data = load_fraud_data('C:/Users/E154709/Desktop/Mohawk/Claims/Data/modelData2.csv')"
   ]
  },
  {
   "cell_type": "code",
   "execution_count": 44,
   "metadata": {},
   "outputs": [
    {
     "name": "stdout",
     "output_type": "stream",
     "text": [
      "   Unnamed: 0  PRIMARY_CUSTOMER_GK  Claims  numClaims  INVENTORY_STYLE_CD  \\\n",
      "0           0                55116       1          2                1228   \n",
      "1           1                55121       1          2                1780   \n",
      "\n",
      "   INVENTORY_SIZE_CD  INVENTORY_BACKING_CD  INVENTORY_COLOR_CD  dollarClaims  \\\n",
      "0                 73                    84                1873   8098.559570   \n",
      "1                 34                    78                 681   4675.669922   \n",
      "\n",
      "   numSales  dollarSales    CUSTOMER_NAME  dollarPerClaim  dollarPerSale  \\\n",
      "0      10.0    241296.53  CB FLOORING LLC     4049.279785      24129.653   \n",
      "1      10.0    112419.43  CB FLOORING LLC     2337.834961      11241.943   \n",
      "\n",
      "   claimRatio  \n",
      "0    0.033563  \n",
      "1    0.041591  \n"
     ]
    }
   ],
   "source": [
    "print(df_data.head(2))"
   ]
  },
  {
   "cell_type": "markdown",
   "metadata": {
    "_cell_guid": "cb8f46e6-2bb6-482a-8467-3ef9ba49e415",
    "_execution_state": "idle",
    "_uuid": "a2f4994f90921c18e8c63adb5d9dde9620176567"
   },
   "source": [
    "So let's start with the normal setup of our X and y data. Don't worry about the 'Class' column being kept in X_data, I'll pass through the slice X_data[ls_features] when I fit my classifier later on. We'll also add a confusion matrix plotting function to visualize our model performance. "
   ]
  },
  {
   "cell_type": "code",
   "execution_count": 45,
   "metadata": {
    "_cell_guid": "6f6a2127-47bc-43b0-8394-7ebd323063aa",
    "_execution_state": "busy",
    "_uuid": "3f79c42de84d3f367b5a4c7f054c1281c6ce8e5e"
   },
   "outputs": [],
   "source": [
    "def plot_confusion_matrix(cm, classes,\n",
    "                          normalize=False,\n",
    "                          title='Confusion matrix',\n",
    "                          cmap=plt.cm.Blues):\n",
    "    \"\"\"\n",
    "    This function prints and plots the confusion matrix.\n",
    "    Normalization can be applied by setting `normalize=True`.\n",
    "    \"\"\"\n",
    "    if normalize:\n",
    "        cm = cm.astype('float') / cm.sum(axis=1)[:, np.newaxis]\n",
    "        print(\"Normalized confusion matrix\")\n",
    "    else:\n",
    "        print('Confusion matrix, without normalization')\n",
    "\n",
    "    print(cm)\n",
    "\n",
    "    plt.imshow(cm, interpolation='nearest', cmap=cmap)\n",
    "    plt.title(title)\n",
    "    plt.colorbar()\n",
    "    tick_marks = np.arange(len(classes))\n",
    "    plt.xticks(tick_marks, classes, rotation=45)\n",
    "    plt.yticks(tick_marks, classes)\n",
    "\n",
    "    fmt = '.2f' if normalize else 'd'\n",
    "    thresh = cm.max() / 2.\n",
    "    for i, j in itertools.product(range(cm.shape[0]), range(cm.shape[1])):\n",
    "        plt.text(j, i, format(cm[i, j], fmt),\n",
    "                 horizontalalignment=\"center\",\n",
    "                 color=\"white\" if cm[i, j] > thresh else \"black\")\n",
    "\n",
    "    plt.tight_layout()\n",
    "    plt.ylabel('True label')\n",
    "    plt.xlabel('Predicted label')\n",
    "    plt.show()\n",
    "\n",
    "def _replace_inf(X):\n",
    "    # replace inf and na\n",
    "    X_inf = X.replace(np.inf, np.nan)\n",
    "   # X_na =X_inf.dropna(axis=1, how=\"all\")    \n",
    "    X = X_inf.fillna(method='ffill')\n",
    "    X = X.fillna(method='pad')\n",
    "    return X\n",
    "\n",
    "def _read_inputTags():\n",
    "    # read input tags\n",
    "    inputTags = ['numClaims',\n",
    "               'numSales',\n",
    "               'dollarPerClaim',\n",
    "               'dollarPerSale',\n",
    "               'claimRatio',\n",
    "               'INVENTORY_STYLE_CD',\n",
    "               'INVENTORY_SIZE_CD',\n",
    "               'INVENTORY_BACKING_CD',\n",
    "               'INVENTORY_COLOR_CD'\n",
    "              ]\n",
    "    return inputTags\n",
    "\n",
    "def classification_setup(df_data):\n",
    "    '''Returns X_data, y_data, ls_features'''\n",
    "    inputTags = _read_inputTags()\n",
    "    yTags = 'Claims'\n",
    "    modelData_inf = _replace_inf(df_data)\n",
    "    X_data = modelData_inf[inputTags]\n",
    "    y_data = modelData_inf[yTags]\n",
    "    y_data = pd.DataFrame(y_data)\n",
    "\n",
    "    #X_data, y_data = df_data, df_data['Claims']\n",
    "    ls_features = list(X_data.keys())\n",
    "    #class_index = ls_features.index('Class')\n",
    "    #ls_features.pop(class_index)\n",
    "    return X_data, y_data, ls_features\n",
    "\n",
    "X_data, y_data, ls_features = classification_setup(df_data)"
   ]
  },
  {
   "cell_type": "code",
   "execution_count": 46,
   "metadata": {},
   "outputs": [
    {
     "name": "stdout",
     "output_type": "stream",
     "text": [
      "   Unnamed: 0  PRIMARY_CUSTOMER_GK  Claims  numClaims  INVENTORY_STYLE_CD  \\\n",
      "0           0                55116       1          2                1228   \n",
      "1           1                55121       1          2                1780   \n",
      "\n",
      "   INVENTORY_SIZE_CD  INVENTORY_BACKING_CD  INVENTORY_COLOR_CD  dollarClaims  \\\n",
      "0                 73                    84                1873   8098.559570   \n",
      "1                 34                    78                 681   4675.669922   \n",
      "\n",
      "   numSales  dollarSales    CUSTOMER_NAME  dollarPerClaim  dollarPerSale  \\\n",
      "0      10.0    241296.53  CB FLOORING LLC     4049.279785      24129.653   \n",
      "1      10.0    112419.43  CB FLOORING LLC     2337.834961      11241.943   \n",
      "\n",
      "   claimRatio  \n",
      "0    0.033563  \n",
      "1    0.041591      Claims\n",
      "0       1\n",
      "1       1\n",
      "['numClaims', 'numSales', 'dollarPerClaim', 'dollarPerSale', 'claimRatio', 'INVENTORY_STYLE_CD', 'INVENTORY_SIZE_CD', 'INVENTORY_BACKING_CD', 'INVENTORY_COLOR_CD']\n"
     ]
    }
   ],
   "source": [
    "print(df_data.head(2), y_data.head(2))\n",
    "print(ls_features)"
   ]
  },
  {
   "cell_type": "markdown",
   "metadata": {
    "_cell_guid": "f8f6f598-c73c-4b31-bf45-598f2bff5a83",
    "_execution_state": "idle",
    "_uuid": "d758c777da0068d8cebc4561d59a8700345bbcc7"
   },
   "source": [
    "**1. Adaboost model with no undersampling.**\n",
    "---------\n",
    "Now we're ready to try our first approach."
   ]
  },
  {
   "cell_type": "code",
   "execution_count": 27,
   "metadata": {
    "_cell_guid": "0c3e78be-ec21-4eb4-8f68-d24924e19387",
    "_execution_state": "idle",
    "_uuid": "a4cafe698da6736439b799c091efd1eea83c7fb2"
   },
   "outputs": [
    {
     "name": "stderr",
     "output_type": "stream",
     "text": [
      "C:\\anaconda35\\lib\\site-packages\\sklearn\\utils\\validation.py:578: DataConversionWarning: A column-vector y was passed when a 1d array was expected. Please change the shape of y to (n_samples, ), for example using ravel().\n",
      "  y = column_or_1d(y, warn=True)\n"
     ]
    },
    {
     "name": "stdout",
     "output_type": "stream",
     "text": [
      "Confusion matrix, without normalization\n",
      "[[ 523 1888]\n",
      " [ 281 5540]]\n"
     ]
    },
    {
     "data": {
      "image/png": "[encoded data removed]",
      "text/plain": [
       "<matplotlib.figure.Figure at 0x289b381e710>"
      ]
     },
     "metadata": {},
     "output_type": "display_data"
    }
   ],
   "source": [
    "def adaboost_no_undersample(X_data, y_data, ls_features):\n",
    "    X_train, X_test, y_train, y_test = train_test_split(X_data, y_data)\n",
    "    dt_clf = DecisionTreeClassifier(max_depth = 3)\n",
    "    ada_real = AdaBoostClassifier(base_estimator = dt_clf, \n",
    "                                  learning_rate = 0.1, \n",
    "                                  n_estimators = 100)\n",
    "    ada_real.fit(X_train[ls_features], y_train)\n",
    "    y_pred = ada_real.predict(X_test[ls_features])\n",
    "    test_conf = confusion_matrix(y_test, y_pred)\n",
    "    plot_confusion_matrix(test_conf, y_data)\n",
    "\n",
    "adaboost_no_undersample(X_data, y_data, ls_features)"
   ]
  },
  {
   "cell_type": "markdown",
   "metadata": {
    "_cell_guid": "8dc90801-a0a0-4f5b-b9f5-196e1a1f7735",
    "_execution_state": "idle",
    "_uuid": "b3c45318643a4e88e4e94c73ee73363449645b93"
   },
   "source": [
    "Not the worst, but it doesn't look too great. Though technically the \"accuracy\" of the model is >99%. There's a high amount of false negatives (bottom left), which are the most crucial mistakes for a fraud problem. The only plus is the model seems to have very little false positives (this trend won't continue.)"
   ]
  },
  {
   "cell_type": "markdown",
   "metadata": {
    "_cell_guid": "c826c5fd-f010-44c4-b1a1-0f3818d02bb7",
    "_execution_state": "idle",
    "_uuid": "7746cb3aa128a3a4206683af7f3500dec78e15e1"
   },
   "source": [
    "**2. Adaboost model with undersampling.**\n",
    "---------\n",
    "So let's try undersampling. We'll drastically reduce the size of the train and test set so that the proportions of fraud and non-fraud cases are equal. We'll also create 10 folds, to eyeball if there's any significant variance in our model on this limited data."
   ]
  },
  {
   "cell_type": "code",
   "execution_count": 51,
   "metadata": {
    "_cell_guid": "45719872-ce72-4f06-8fb6-640b9fb1880d",
    "_execution_state": "idle",
    "_uuid": "49c1e70ce1275fa4735cb48d19b0a1c90be7dbbb"
   },
   "outputs": [],
   "source": [
    "def under_sample_kfold(X_data, y_data, n_folds = 10):\n",
    "    '''Returns list of 10 (default) folds of\n",
    "    X_train, X_test, y_train, y_test data'''\n",
    "    #print(X_data.head(2))\n",
    "    pos_events = X_data[X_data['Claims'] == 1]\n",
    "    neg_events = X_data[X_data['Claims'] == 0]\n",
    "    \n",
    "    #Randomize and pick same n number of events\n",
    "    number_pos_events = len(pos_events)  \n",
    "    undersampled_folds = []\n",
    "\n",
    "    for fold in range(0, n_folds):\n",
    "        pos_events = pos_events.reindex(np.random.permutation(pos_events.index))\n",
    "        neg_events = neg_events.reindex(np.random.permutation(neg_events.index))\n",
    "        undersampled_events = pd.concat([neg_events.head(number_pos_events), pos_events])\n",
    "        X_data_u, y_data_u = undersampled_events, undersampled_events['Claims']\n",
    "        X_train_u, X_test_u, y_train_u, y_test_u = train_test_split(X_data_u, y_data_u, test_size=0.3)\n",
    "        X_train_u = pd.DataFrame(X_train_u)\n",
    "        X_test_u = pd.DataFrame(X_test_u)\n",
    "        undersampled_folds.append([X_train_u, X_test_u, y_train_u, y_test_u])\n",
    "    return undersampled_folds\n",
    "\n",
    "\n",
    "folds = under_sample_kfold(df_data, y_data)"
   ]
  },
  {
   "cell_type": "markdown",
   "metadata": {
    "_cell_guid": "e67d9a9d-e58e-468a-a589-75d8a96dbff4",
    "_execution_state": "idle",
    "_uuid": "900ba26cdb39fcf878b2442f1ddb52bbed59fa76"
   },
   "source": [
    "The following function can be run with the test set derived from the \"balanced\" undersampled test set, or from a test set that includes all of the data minus the train data. "
   ]
  },
  {
   "cell_type": "code",
   "execution_count": 49,
   "metadata": {
    "_cell_guid": "066ccd28-03f7-4c73-8fe7-821e3c5fe665",
    "_execution_state": "idle",
    "_uuid": "1bc99458ca62bd7993a9365a103897dee9e864bc"
   },
   "outputs": [],
   "source": [
    "def adaboost_undersample(folds, full_test_set = False):\n",
    "    \n",
    "    for fold in folds:\n",
    "        X_train, X_test, y_train, y_test = fold[0], fold[1], fold[2], fold[3]\n",
    "            \n",
    "        dt_clf = DecisionTreeClassifier(max_depth = 3)\n",
    "        ada_real = AdaBoostClassifier(base_estimator = dt_clf, \n",
    "                                      learning_rate = 0.1, \n",
    "                                      n_estimators = 100)\n",
    "        print(X_test.head(2))\n",
    "        ada_real.fit(X_train[ls_features], y_train)\n",
    "\n",
    "        if full_test_set == False:\n",
    "            y_pred = ada_real.predict(X_test[ls_features])\n",
    "            test_conf = confusion_matrix(y_test, y_pred)\n",
    "            print (test_conf)\n",
    "    \n",
    "        else:\n",
    "            X_train_and_test = pd.concat([X_train, df_data])\n",
    "            X_test_full = (X_train_and_test.reset_index()\n",
    "                                           .drop_duplicates(subset= 'index', keep= False)\n",
    "                                           .set_index('index'))\n",
    "            y_test_full = X_test_full['Claims']\n",
    "        \n",
    "            #Eval\n",
    "            y_pred = ada_real.predict(X_test_full[ls_features])\n",
    "            test_conf = confusion_matrix(y_test_full, y_pred)\n",
    "            print (test_conf)"
   ]
  },
  {
   "cell_type": "markdown",
   "metadata": {
    "_cell_guid": "56dc5405-f228-436a-bc72-c6f75da64a0c",
    "_execution_state": "idle",
    "_uuid": "2f430bf7dd80f4477071b188e97cf4640754f77b"
   },
   "source": [
    "2a. Undersampling with undersampled test set.\n",
    "----------------------------------------------------------\n",
    "Let's run this first with just the undersampled test set."
   ]
  },
  {
   "cell_type": "code",
   "execution_count": 50,
   "metadata": {
    "_cell_guid": "89a1fb5d-b7e8-403f-8684-f9a8ea844a40",
    "_execution_state": "idle",
    "_uuid": "da22d4dd0bb2621064f5c78c97df7f62dec7d38b"
   },
   "outputs": [
    {
     "name": "stdout",
     "output_type": "stream",
     "text": [
      "       Unnamed: 0  PRIMARY_CUSTOMER_GK  Claims  numClaims  INVENTORY_STYLE_CD  \\\n",
      "23429       26834               298490       1          1                 451   \n",
      "30170       33688               336270       1          1                 345   \n",
      "\n",
      "       INVENTORY_SIZE_CD  INVENTORY_BACKING_CD  INVENTORY_COLOR_CD  \\\n",
      "23429                 34                    32                1537   \n",
      "30170                 34                     4                1060   \n",
      "\n",
      "       dollarClaims  numSales  dollarSales                  CUSTOMER_NAME  \\\n",
      "23429   1023.400024       9.0     22909.14    SWAN'S FURN OF N PLATTE INC   \n",
      "30170    193.830002      10.0     15082.04  GENESEE STREET INDUSTRIES INC   \n",
      "\n",
      "       dollarPerClaim  dollarPerSale  claimRatio  \n",
      "23429     1023.400024       2545.460    0.044672  \n",
      "30170      193.830002       1508.204    0.012852  \n",
      "[[ 571 2289]\n",
      " [ 317 6701]]\n",
      "       Unnamed: 0  PRIMARY_CUSTOMER_GK  Claims  numClaims  INVENTORY_STYLE_CD  \\\n",
      "25946       29411               315697       1          2                1083   \n",
      "19109       22375               275493       0          1                  72   \n",
      "\n",
      "       INVENTORY_SIZE_CD  INVENTORY_BACKING_CD  INVENTORY_COLOR_CD  \\\n",
      "25946                  3                    65                1093   \n",
      "19109                 34                     4                1148   \n",
      "\n",
      "       dollarClaims  numSales  dollarSales                CUSTOMER_NAME  \\\n",
      "25946    648.390015       5.0      1728.71  TRICIA'S DESIGN GALLERY INC   \n",
      "19109    396.000000       9.0     70117.25  RICHARD GUMM FLOOR COVERING   \n",
      "\n",
      "       dollarPerClaim  dollarPerSale  claimRatio  \n",
      "25946      324.195007     345.742000    0.375072  \n",
      "19109      396.000000    7790.805556    0.005648  \n",
      "[[ 533 2269]\n",
      " [ 306 6770]]\n",
      "       Unnamed: 0  PRIMARY_CUSTOMER_GK  Claims  numClaims  INVENTORY_STYLE_CD  \\\n",
      "18638       21897               273057       1          1                 724   \n",
      "6549         7617               236506       0          1                 561   \n",
      "\n",
      "       INVENTORY_SIZE_CD  INVENTORY_BACKING_CD  INVENTORY_COLOR_CD  \\\n",
      "18638                 34                    31                1188   \n",
      "6549                  34                    31                1411   \n",
      "\n",
      "       dollarClaims  numSales  dollarSales                 CUSTOMER_NAME  \\\n",
      "18638    334.799988      10.0    140994.16  MADISON FLOORING & PAINT INC   \n",
      "6549    2031.780029      10.0     38553.66      COMMERCIAL CARPET & TILE   \n",
      "\n",
      "       dollarPerClaim  dollarPerSale  claimRatio  \n",
      "18638      334.799988      14099.416    0.002375  \n",
      "6549      2031.780029       3855.366    0.052700  \n",
      "[[ 543 2312]\n",
      " [ 335 6688]]\n",
      "       Unnamed: 0  PRIMARY_CUSTOMER_GK  Claims  numClaims  INVENTORY_STYLE_CD  \\\n",
      "3007         3224               229357       0          1                 284   \n",
      "18856       22118               274278       0          1                 283   \n",
      "\n",
      "       INVENTORY_SIZE_CD  INVENTORY_BACKING_CD  INVENTORY_COLOR_CD  \\\n",
      "3007                  34                    31                1572   \n",
      "18856                 34                    31                1405   \n",
      "\n",
      "       dollarClaims  numSales  dollarSales                   CUSTOMER_NAME  \\\n",
      "3007    1812.770020      10.0   3187304.29              KELLYS CARPETS LTD   \n",
      "18856   2267.120117      10.0    113204.31  CONNER'S FLOORING & DESIGN LLC   \n",
      "\n",
      "       dollarPerClaim  dollarPerSale  claimRatio  \n",
      "3007      1812.770020     318730.429    0.000569  \n",
      "18856     2267.120117      11320.431    0.020027  \n",
      "[[ 553 2291]\n",
      " [ 273 6761]]\n",
      "       Unnamed: 0  PRIMARY_CUSTOMER_GK  Claims  numClaims  INVENTORY_STYLE_CD  \\\n",
      "16886       20134               267241       1          1                 385   \n",
      "1635         1812               170767       0          2                1812   \n",
      "\n",
      "       INVENTORY_SIZE_CD  INVENTORY_BACKING_CD  INVENTORY_COLOR_CD  \\\n",
      "16886                 34                     4                 604   \n",
      "1635                  34                    18                 229   \n",
      "\n",
      "       dollarClaims  numSales  dollarSales                 CUSTOMER_NAME  \\\n",
      "16886    376.250000       8.0      5613.48                     GILTNER'S   \n",
      "1635   11022.150391       5.0    137061.36  RUTH'S CHRIS STEAK HOUSE INC   \n",
      "\n",
      "       dollarPerClaim  dollarPerSale  claimRatio  \n",
      "16886      376.250000        701.685    0.067026  \n",
      "1635      5511.075195      27412.272    0.080418  \n",
      "[[ 533 2342]\n",
      " [ 349 6654]]\n",
      "       Unnamed: 0  PRIMARY_CUSTOMER_GK  Claims  numClaims  INVENTORY_STYLE_CD  \\\n",
      "15262       18500               262255       1          2                 788   \n",
      "13838       17075               255676       1          1                 605   \n",
      "\n",
      "       INVENTORY_SIZE_CD  INVENTORY_BACKING_CD  INVENTORY_COLOR_CD  \\\n",
      "15262                 34                    31                1447   \n",
      "13838                 34                    31                1435   \n",
      "\n",
      "       dollarClaims  numSales  dollarSales         CUSTOMER_NAME  \\\n",
      "15262   2370.360107      10.0    264971.21  WRIGHT FURNITURE INC   \n",
      "13838    158.309998      13.0    382858.78  LEE APPLIANCE CO INC   \n",
      "\n",
      "       dollarPerClaim  dollarPerSale  claimRatio  \n",
      "15262     1185.180054   26497.121000    0.008946  \n",
      "13838      158.309998   29450.675385    0.000413  \n",
      "[[ 571 2280]\n",
      " [ 305 6722]]\n",
      "       Unnamed: 0  PRIMARY_CUSTOMER_GK  Claims  numClaims  INVENTORY_STYLE_CD  \\\n",
      "16661       19909               266611       1          1                 437   \n",
      "14865       18102               260544       1          1                 608   \n",
      "\n",
      "       INVENTORY_SIZE_CD  INVENTORY_BACKING_CD  INVENTORY_COLOR_CD  \\\n",
      "16661                 34                     4                1279   \n",
      "14865                 34                     4                1437   \n",
      "\n",
      "       dollarClaims  numSales  dollarSales                CUSTOMER_NAME  \\\n",
      "16661    421.920013      16.0    564096.32             SMART CARPET INC   \n",
      "14865    537.969971      10.0    161727.08  BUFFKIN CERAMIC TILE SUPPLY   \n",
      "\n",
      "       dollarPerClaim  dollarPerSale  claimRatio  \n",
      "16661      421.920013      35256.020    0.000748  \n",
      "14865      537.969971      16172.708    0.003326  \n",
      "[[ 540 2261]\n",
      " [ 376 6701]]\n",
      "       Unnamed: 0  PRIMARY_CUSTOMER_GK  Claims  numClaims  INVENTORY_STYLE_CD  \\\n",
      "22538       25938               293986       1          1                 123   \n",
      "1404         1563               109543       0          1                1229   \n",
      "\n",
      "       INVENTORY_SIZE_CD  INVENTORY_BACKING_CD  INVENTORY_COLOR_CD  \\\n",
      "22538                 34                     4                1250   \n",
      "1404                  73                    84                1952   \n",
      "\n",
      "       dollarClaims  numSales  dollarSales                 CUSTOMER_NAME  \\\n",
      "22538   1001.520020      10.0     82745.35                TARA HOSTETLER   \n",
      "1404    9902.879883      10.0    245700.43  COMMERCIAL FLOORING SERVICES   \n",
      "\n",
      "       dollarPerClaim  dollarPerSale  claimRatio  \n",
      "22538     1001.520020       8274.535    0.012104  \n",
      "1404      9902.879883      24570.043    0.040305  \n",
      "[[ 583 2292]\n",
      " [ 327 6676]]\n",
      "       Unnamed: 0  PRIMARY_CUSTOMER_GK  Claims  numClaims  INVENTORY_STYLE_CD  \\\n",
      "5840         6907               235270       1          1                 530   \n",
      "27403       30876               325444       0          1                 485   \n",
      "\n",
      "       INVENTORY_SIZE_CD  INVENTORY_BACKING_CD  INVENTORY_COLOR_CD  \\\n",
      "5840                  34                    31                1060   \n",
      "27403                 34                    31                1483   \n",
      "\n",
      "       dollarClaims  numSales  dollarSales               CUSTOMER_NAME  \\\n",
      "5840     319.410004      10.0     78317.81      CHORBA ENTERPRISES INC   \n",
      "27403    864.000000      10.0    463092.82  AFFORDABLE FLOORING & MORE   \n",
      "\n",
      "       dollarPerClaim  dollarPerSale  claimRatio  \n",
      "5840       319.410004       7831.781    0.004078  \n",
      "27403      864.000000      46309.282    0.001866  \n",
      "[[ 568 2229]\n",
      " [ 366 6715]]\n",
      "       Unnamed: 0  PRIMARY_CUSTOMER_GK  Claims  numClaims  INVENTORY_STYLE_CD  \\\n",
      "24910       28364               307807       1          1                1360   \n",
      "24103       27519               301365       1          2                 811   \n",
      "\n",
      "       INVENTORY_SIZE_CD  INVENTORY_BACKING_CD  INVENTORY_COLOR_CD  \\\n",
      "24910                 86                    70                1452   \n",
      "24103                 34                    31                1560   \n",
      "\n",
      "       dollarClaims  numSales  dollarSales                CUSTOMER_NAME  \\\n",
      "24910   1280.890015      10.0     33048.89  SWARTZENDRUBER CONSTRUCTION   \n",
      "24103    843.359985      11.0     78523.26    MONARCH FLOORS (1953) INC   \n",
      "\n",
      "       dollarPerClaim  dollarPerSale  claimRatio  \n",
      "24910     1280.890015    3304.889000    0.038757  \n",
      "24103      421.679993    7138.478182    0.010740  \n"
     ]
    },
    {
     "name": "stdout",
     "output_type": "stream",
     "text": [
      "[[ 535 2303]\n",
      " [ 318 6722]]\n"
     ]
    }
   ],
   "source": [
    "adaboost_undersample(folds)"
   ]
  },
  {
   "cell_type": "markdown",
   "metadata": {
    "_cell_guid": "91c3723d-a521-43fa-ac9b-0db755ddd627",
    "_execution_state": "idle",
    "_uuid": "fd38f03605ec6a27ade27398f8cb2a9056b44811"
   },
   "source": [
    "These initially look really good! But remember our test sets are 50/50 Fraud/Normal Transactions. A quick glance looks like our Class 1 (Fraud) accuracy went from ~66% to ~85% on our test set with very small False Positive Rate. However, this is a much different test set from what we will be encountering. Which brings us to...."
   ]
  },
  {
   "cell_type": "markdown",
   "metadata": {
    "_cell_guid": "7052ad74-3682-4514-a33c-ad9670b77f43",
    "_execution_state": "idle",
    "_uuid": "709c9348336611a5e327ad3194845846d6f41d33"
   },
   "source": [
    "2b. Undersampling with full test set.\n",
    "----------------------------------------------------------\n",
    "Let's run this now with a real test set, which thankfully has a much smaller fraud rate (~0.17%) than our balanced undersampled data."
   ]
  },
  {
   "cell_type": "code",
   "execution_count": 52,
   "metadata": {
    "_cell_guid": "b063ce4b-2a96-42fc-bdaa-53048023b0a6",
    "_execution_state": "idle",
    "_uuid": "02e28d9fe094c2bcb12691a8e6fe518af6470d9f"
   },
   "outputs": [
    {
     "name": "stdout",
     "output_type": "stream",
     "text": [
      "      Unnamed: 0  PRIMARY_CUSTOMER_GK  Claims  numClaims  INVENTORY_STYLE_CD  \\\n",
      "5160        6226               234108       0          1                 818   \n",
      "6126        7194               235701       1          1                 619   \n",
      "\n",
      "      INVENTORY_SIZE_CD  INVENTORY_BACKING_CD  INVENTORY_COLOR_CD  \\\n",
      "5160                 34                    31                1441   \n",
      "6126                 34                    32                 977   \n",
      "\n",
      "      dollarClaims  numSales  dollarSales               CUSTOMER_NAME  \\\n",
      "5160   1332.849976      10.0     50463.77    WHOLESALE CPT-FOX VALLEY   \n",
      "6126    450.329987      10.0   4031070.54  SOVEREIGN DISTRIBUTORS INC   \n",
      "\n",
      "      dollarPerClaim  dollarPerSale  claimRatio  \n",
      "5160     1332.849976       5046.377    0.026412  \n",
      "6126      450.329987     403107.054    0.000112  \n",
      "[[ 580 2185]\n",
      " [ 393 6720]]\n",
      "       Unnamed: 0  PRIMARY_CUSTOMER_GK  Claims  numClaims  INVENTORY_STYLE_CD  \\\n",
      "25931       29396               315537       1          1                1329   \n",
      "7313         8389               238332       0          1                 203   \n",
      "\n",
      "       INVENTORY_SIZE_CD  INVENTORY_BACKING_CD  INVENTORY_COLOR_CD  \\\n",
      "25931                 34                    81                1464   \n",
      "7313                  34                     4                 602   \n",
      "\n",
      "       dollarClaims  numSales  dollarSales        CUSTOMER_NAME  \\\n",
      "25931    202.619995      10.0     41109.21  MAGIC VALLEY CARPET   \n",
      "7313     537.500000      10.0   1262472.24          J & R SALES   \n",
      "\n",
      "       dollarPerClaim  dollarPerSale  claimRatio  \n",
      "25931      202.619995       4110.921    0.004929  \n",
      "7313       537.500000     126247.224    0.000426  \n",
      "[[ 546 2289]\n",
      " [ 282 6761]]\n",
      "      Unnamed: 0  PRIMARY_CUSTOMER_GK  Claims  numClaims  INVENTORY_STYLE_CD  \\\n",
      "8485        9568               241004       0          1                 656   \n",
      "554          639                78200       1          1                1626   \n",
      "\n",
      "      INVENTORY_SIZE_CD  INVENTORY_BACKING_CD  INVENTORY_COLOR_CD  \\\n",
      "8485                 34                    12                1249   \n",
      "554                  86                    24                1558   \n",
      "\n",
      "      dollarClaims  numSales  dollarSales              CUSTOMER_NAME  \\\n",
      "8485   1633.170044      10.0    435156.67  TOLIVERS HOUSE OF CARPETS   \n",
      "554     294.880005       8.0     15641.94            DO IT BEST CORP   \n",
      "\n",
      "      dollarPerClaim  dollarPerSale  claimRatio  \n",
      "8485     1633.170044     43515.6670    0.003753  \n",
      "554       294.880005      1955.2425    0.018852  \n",
      "[[ 562 2324]\n",
      " [ 270 6722]]\n",
      "       Unnamed: 0  PRIMARY_CUSTOMER_GK  Claims  numClaims  INVENTORY_STYLE_CD  \\\n",
      "14816       18053               260519       0          2                1073   \n",
      "2133         2349               226197       1          1                 204   \n",
      "\n",
      "       INVENTORY_SIZE_CD  INVENTORY_BACKING_CD  INVENTORY_COLOR_CD  \\\n",
      "14816                 13                    26                 946   \n",
      "2133                  34                     4                1571   \n",
      "\n",
      "       dollarClaims  numSales  dollarSales             CUSTOMER_NAME  \\\n",
      "14816   8147.959961      11.0   4069802.52           JUST FLOORS INC   \n",
      "2133     273.000000      10.0    314505.57  THE SHERWIN WILLIAMS HDQ   \n",
      "\n",
      "       dollarPerClaim  dollarPerSale  claimRatio  \n",
      "14816      4073.97998  369982.047273    0.002002  \n",
      "2133        273.00000   31450.557000    0.000868  \n",
      "[[ 557 2372]\n",
      " [ 326 6623]]\n",
      "       Unnamed: 0  PRIMARY_CUSTOMER_GK  Claims  numClaims  INVENTORY_STYLE_CD  \\\n",
      "14469       17706               259045       1          1                 707   \n",
      "2206         2422               226197       1          1                 867   \n",
      "\n",
      "       INVENTORY_SIZE_CD  INVENTORY_BACKING_CD  INVENTORY_COLOR_CD  \\\n",
      "14469                 34                     4                1516   \n",
      "2206                  34                     4                1313   \n",
      "\n",
      "       dollarClaims  numSales  dollarSales             CUSTOMER_NAME  \\\n",
      "14469     11.190000      11.0    189241.16              RAYS CARPETS   \n",
      "2206     436.779999      10.0    314505.57  THE SHERWIN WILLIAMS HDQ   \n",
      "\n",
      "       dollarPerClaim  dollarPerSale  claimRatio  \n",
      "14469       11.190000   17203.741818    0.000059  \n",
      "2206       436.779999   31450.557000    0.001389  \n",
      "[[ 524 2274]\n",
      " [ 318 6762]]\n",
      "       Unnamed: 0  PRIMARY_CUSTOMER_GK  Claims  numClaims  INVENTORY_STYLE_CD  \\\n",
      "11489       12585               249460       0          1                 431   \n",
      "22895       26296               295351       1          2                 363   \n",
      "\n",
      "       INVENTORY_SIZE_CD  INVENTORY_BACKING_CD  INVENTORY_COLOR_CD  \\\n",
      "11489                 34                    32                1460   \n",
      "22895                 34                    32                1447   \n",
      "\n",
      "       dollarClaims  numSales  dollarSales          CUSTOMER_NAME  \\\n",
      "11489    515.559998      12.0    411067.65  MC DONNELL JOSEPH ENT   \n",
      "22895   2000.000000      11.0   1011301.24    BUILDERS CARPET INC   \n",
      "\n",
      "       dollarPerClaim  dollarPerSale  claimRatio  \n",
      "11489      515.559998   34255.637500    0.001254  \n",
      "22895     1000.000000   91936.476364    0.001978  \n",
      "[[ 509 2307]\n",
      " [ 290 6772]]\n",
      "       Unnamed: 0  PRIMARY_CUSTOMER_GK  Claims  numClaims  INVENTORY_STYLE_CD  \\\n",
      "7863         8943               239474       1          1                 458   \n",
      "22807       26208               295298       0          1                 647   \n",
      "\n",
      "       INVENTORY_SIZE_CD  INVENTORY_BACKING_CD  INVENTORY_COLOR_CD  \\\n",
      "7863                  34                    32                1406   \n",
      "22807                 34                     4                1395   \n",
      "\n",
      "       dollarClaims  numSales  dollarSales           CUSTOMER_NAME  \\\n",
      "7863     498.369995      11.0    101228.02  MONTROSE MARKETING INC   \n",
      "22807   1679.729980      10.0   1731809.31                 50FLOOR   \n",
      "\n",
      "       dollarPerClaim  dollarPerSale  claimRatio  \n",
      "7863       498.369995    9202.547273    0.004923  \n",
      "22807     1679.729980  173180.931000    0.000970  \n",
      "[[ 579 2316]\n",
      " [ 337 6646]]\n",
      "       Unnamed: 0  PRIMARY_CUSTOMER_GK  Claims  numClaims  INVENTORY_STYLE_CD  \\\n",
      "21787       25182               290574       1          2                 603   \n",
      "19728       22999               279488       1          1                1090   \n",
      "\n",
      "       INVENTORY_SIZE_CD  INVENTORY_BACKING_CD  INVENTORY_COLOR_CD  \\\n",
      "21787                 34                    32                1547   \n",
      "19728                115                    26                 136   \n",
      "\n",
      "       dollarClaims  numSales  dollarSales          CUSTOMER_NAME  \\\n",
      "21787   3012.760010      11.0  11764235.83    OSF INVESTMENTS LLC   \n",
      "19728   1330.579956      10.0   2618856.25  CLOSS ENTERPRISES INC   \n",
      "\n",
      "       dollarPerClaim  dollarPerSale  claimRatio  \n",
      "21787     1506.380005   1.069476e+06    0.000256  \n",
      "19728     1330.579956   2.618856e+05    0.000508  \n",
      "[[ 525 2291]\n",
      " [ 319 6743]]\n",
      "       Unnamed: 0  PRIMARY_CUSTOMER_GK  Claims  numClaims  INVENTORY_STYLE_CD  \\\n",
      "5096         6162               234006       1          1                 780   \n",
      "22445       25841               293418       1          4                 466   \n",
      "\n",
      "       INVENTORY_SIZE_CD  INVENTORY_BACKING_CD  INVENTORY_COLOR_CD  \\\n",
      "5096                  34                    32                1400   \n",
      "22445                 34                     4                1417   \n",
      "\n",
      "       dollarClaims  numSales  dollarSales           CUSTOMER_NAME  \\\n",
      "5096    1161.709961      10.0     60027.13  SWANSON FLOOR COVERING   \n",
      "22445   2006.459961      10.0    110668.52        DESIGN IDEAS INC   \n",
      "\n",
      "       dollarPerClaim  dollarPerSale  claimRatio  \n",
      "5096      1161.709961       6002.713    0.019353  \n",
      "22445      501.614990      11066.852    0.018130  \n",
      "[[ 545 2324]\n",
      " [ 318 6691]]\n",
      "       Unnamed: 0  PRIMARY_CUSTOMER_GK  Claims  numClaims  INVENTORY_STYLE_CD  \\\n",
      "31994       35571               389390       1          1                1314   \n",
      "6098         7166               235701       1          1                 318   \n",
      "\n",
      "       INVENTORY_SIZE_CD  INVENTORY_BACKING_CD  INVENTORY_COLOR_CD  \\\n",
      "31994                 59                    81                1071   \n",
      "6098                  34                     4                1022   \n",
      "\n",
      "       dollarClaims  numSales  dollarSales               CUSTOMER_NAME  \\\n",
      "31994    434.799988       5.0      1993.75   BRANT FLOORING CO INC THE   \n",
      "6098     608.840027      10.0   4031070.54  SOVEREIGN DISTRIBUTORS INC   \n",
      "\n",
      "       dollarPerClaim  dollarPerSale  claimRatio  \n",
      "31994      434.799988        398.750    0.218081  \n",
      "6098       608.840027     403107.054    0.000151  \n"
     ]
    },
    {
     "name": "stdout",
     "output_type": "stream",
     "text": [
      "[[ 529 2365]\n",
      " [ 306 6678]]\n"
     ]
    }
   ],
   "source": [
    "adaboost_undersample(folds, full_test_set = True)"
   ]
  },
  {
   "cell_type": "markdown",
   "metadata": {
    "_cell_guid": "4a7f1dbd-eb8a-4c79-9864-ffc03601f3cd",
    "_execution_state": "idle",
    "_uuid": "2a255c664fc8559adda35b320fb5dfe98ec51afa"
   },
   "source": [
    "So what we see above is testing each fold's model on every data point that isn't included in the train set gives drastically different results. Now we have a problem where there's thousands of false positive flags. What's happening is adaboost is coming up with a great decision boundary for that area of the feature space. But we have a pretty vast 30 dimensional feature space to predict on.\n",
    "\n",
    "Let's try to lower that using..."
   ]
  },
  {
   "cell_type": "markdown",
   "metadata": {
    "_cell_guid": "2087b500-adf1-482b-a436-a3f540579d11",
    "_execution_state": "idle",
    "_uuid": "bbf72cc2064309c030e4d5d42ddf424ce9042283"
   },
   "source": [
    "3. Ensembled model with undersampling.\n",
    "----------------------------------------------------\n",
    "First before we start making an ensemble, we need to create a CV set. If we ensembled all of our models currently, we would have no Class 1 instances left (all of them are used once or likely multiple times in the 10 training sets). "
   ]
  },
  {
   "cell_type": "code",
   "execution_count": 55,
   "metadata": {
    "_cell_guid": "9130c44b-e2a2-4c7c-b1d3-2d093a7f3c96",
    "_execution_state": "idle",
    "_uuid": "ab533e2010014caf12cd6267e3735b7f1e2a1e17"
   },
   "outputs": [],
   "source": [
    "def cv_setup(X_data, y_data):\n",
    "    '''Returns X_data, y_data, X_cv, y_cv, ls_features\n",
    "    X_cv, y_cv are randomized 10% of data with same class\n",
    "    proportions'''\n",
    "    \n",
    "    \n",
    "    pos_events = X_data[X_data['Claims'] == 1]\n",
    "    neg_events = X_data[X_data['Claims'] == 0]\n",
    "    number_pos_events, number_neg_events, number_events = (len(pos_events), \n",
    "                                                           len(neg_events),\n",
    "                                                           len(X_data))\n",
    "    pos_events = pos_events.reindex(np.random.permutation(pos_events.index))\n",
    "    neg_events = neg_events.reindex(np.random.permutation(neg_events.index))\n",
    "    X_cv = pd.concat([neg_events.tail(number_neg_events//10), \n",
    "                      pos_events.tail(number_pos_events//10)])\n",
    "    y_cv = X_cv['Claims']\n",
    "\n",
    "    #Get rid of duplicates between CV and Test/Train bank of data\n",
    "    X_data = pd.concat([X_cv, X_data])\n",
    "    X_data = (X_data.reset_index()\n",
    "                    .drop_duplicates(subset= 'index', keep= False)\n",
    "                    .set_index('index'))\n",
    "    y_data = X_data['Claims']\n",
    "    \n",
    "    return X_data, y_data, X_cv, y_cv, ls_features"
   ]
  },
  {
   "cell_type": "code",
   "execution_count": 56,
   "metadata": {
    "_cell_guid": "95dc6daa-d250-4d3b-85f8-9aa75e3c110f",
    "_execution_state": "idle",
    "_uuid": "521a062da27ba34c4662f0505b20354fb51fb6e0"
   },
   "outputs": [],
   "source": [
    "#Remake our folds without including 10% of the data for a CV set\n",
    "X_data, y_data, X_cv, y_cv, ls_features = cv_setup(df_data, y_data)\n",
    "folds = under_sample_kfold(X_data, y_data)"
   ]
  },
  {
   "cell_type": "markdown",
   "metadata": {
    "_cell_guid": "5e083e1a-656d-487f-a198-f24c19f971b7",
    "_execution_state": "idle",
    "_uuid": "e7220d716cf3d13fd24bff5af24e248e668298e0"
   },
   "source": [
    "So let's see the results of an ensemble of 10 models (one derived from each fold of the data) tested on just the CV set."
   ]
  },
  {
   "cell_type": "code",
   "execution_count": 57,
   "metadata": {
    "_cell_guid": "208043d7-7994-4cb4-87b2-fd3680176045",
    "_execution_state": "idle",
    "_uuid": "9b50e1da6d453c37e1d540830c136f2f58362af7"
   },
   "outputs": [
    {
     "name": "stdout",
     "output_type": "stream",
     "text": [
      "[[  87  863]\n",
      " [  44 2297]]\n"
     ]
    }
   ],
   "source": [
    "def adaboost_undersample_ensemble(folds):\n",
    "    \n",
    "    X_train_all_folds = pd.DataFrame()\n",
    "    ada_ensemble = []\n",
    "    \n",
    "    for fold in folds:\n",
    "        X_train, X_test, y_train, y_test = fold[0], fold[1], fold[2], fold[3]\n",
    "    \n",
    "        dt_clf = DecisionTreeClassifier(max_depth = 1)\n",
    "        ada_real = AdaBoostClassifier(base_estimator = dt_clf, \n",
    "                                      learning_rate = 0.1, \n",
    "                                      n_estimators = 100)\n",
    "        ada_real.fit(X_train[ls_features], y_train)\n",
    "        #Concatenate all train sets and store each fold models\n",
    "        X_train_all_folds = pd.concat([X_train_all_folds, X_train])\n",
    "        ada_ensemble.append(ada_real)\n",
    "    \n",
    "    #Call scorer\n",
    "    ensemble_score(X_cv, y_cv, ada_ensemble)\n",
    "\n",
    "def ensemble_score(X_test, y_test, models, cutoff = 0.5, e_cutoff = 5):\n",
    "    '''Prints confusion matrix for an ensemble of models based on \n",
    "    probability cutoff (cutoff) of each model and voting cutoff \n",
    "    (e_cutoff) for an ensemble vote. Default is >50% probability\n",
    "    and > 5 votes out of 10'''\n",
    "    \n",
    "    for fold in range(0, len(models)):\n",
    "        X_test.loc[:, ('Prob fold ' + str(fold))] = models[fold].predict_proba(X_test[ls_features])[:,1]\n",
    "        X_test.loc[:, ('ADAPred fold ' + str(fold))] = (X_test[('Prob fold ' + str(fold))] >= cutoff).astype(int)\n",
    "    \n",
    "    X_test.loc[:, 'Ensemble Score'] = X_test[['ADAPred fold ' + str(i) for i in range(0, len(models))]].sum(axis = 1)\n",
    "    X_test.loc[:, 'Ensemble Pred'] = (X_test['Ensemble Score'] > e_cutoff).astype(int)\n",
    "\n",
    "    ensemble_conf = confusion_matrix(y_test, X_test[('Ensemble Pred')])\n",
    "    print (ensemble_conf)\n",
    "\n",
    "adaboost_undersample_ensemble(folds)"
   ]
  },
  {
   "cell_type": "markdown",
   "metadata": {
    "_cell_guid": "fbeddd30-1530-4b7a-98a4-f450b5e09cc8",
    "_execution_state": "idle",
    "_uuid": "f7c24dd4f396e6a981b16e901ccfeb8aa85cfef4"
   },
   "source": [
    "Everything looks pretty good! The amount of false positives has dropped significantly, and we haven't sacrificed the sensitivity (true positive rate) of our model at all. "
   ]
  },
  {
   "cell_type": "markdown",
   "metadata": {
    "_cell_guid": "13b64fc4-38bf-4fbb-9d6c-3c94c5148129",
    "_execution_state": "idle",
    "_uuid": "b41d9008e0224a457a01183a0be371855c5d9037"
   },
   "source": [
    "Ensemble Validation\n",
    "================\n",
    "Let's try some ensemble validation before we go with this ensemble technique.\n",
    "\n",
    "Validation on our ensemble technique is a bit tricky - we can change our ensemble parameters (probability cutoff, ensemble vote cutoff) but we can potentially overfit this technique to our CV set. To avoid this, we should reshuffle the data, redraw our CV set, retrain our kfold models, and retry our ensemble technique on the CV set."
   ]
  },
  {
   "cell_type": "code",
   "execution_count": 59,
   "metadata": {
    "_cell_guid": "60d8166b-52f0-46c5-9484-fc11f9b4103f",
    "_execution_state": "idle",
    "_uuid": "c30c92c904ea6a190721bfd14e7af8780beda45b"
   },
   "outputs": [
    {
     "name": "stdout",
     "output_type": "stream",
     "text": [
      "[[ 102  848]\n",
      " [  49 2292]]\n"
     ]
    }
   ],
   "source": [
    "X_data, y_data, ls_features = classification_setup(df_data)\n",
    "X_data, y_data, X_cv, y_cv, ls_features = cv_setup(df_data, y_data)\n",
    "folds = under_sample_kfold(X_data, y_data)\n",
    "adaboost_undersample_ensemble(folds)"
   ]
  },
  {
   "cell_type": "markdown",
   "metadata": {
    "_cell_guid": "78a4afc3-9f6d-4bf4-ae47-df17897f305c",
    "_execution_state": "idle",
    "_uuid": "f810b015528b478a00c79f8e152fbbd40e2ee442"
   },
   "source": [
    "Similar results! Again, this was meant to be an introduction to ensemble learning, a powerful technique for skewed data sets. Some key things to keep in mind:\n",
    "\n",
    "1. When undersampling to train a model, make sure to validate it with a real test set, not an \"undersampled\" test set.\n",
    "2. When developing an ensemble technique, use a CV set. It's very likely you'll run out of the minority class when you use slices of the data to create several unique models, even if the data for each model is chosen at random.\n",
    "3. Be sure to validate your ensemble technique by reshuffling your data and redrawing a new CV set.\n",
    "\n"
   ]
  }
 ],
 "metadata": {
  "kernelspec": {
   "display_name": "Python 3",
   "language": "python",
   "name": "python3"
  },
  "language_info": {
   "codemirror_mode": {
    "name": "ipython",
    "version": 3
   },
   "file_extension": ".py",
   "mimetype": "text/x-python",
   "name": "python",
   "nbconvert_exporter": "python",
   "pygments_lexer": "ipython3",
   "version": "3.6.3"
  }
 },
 "nbformat": 4,
 "nbformat_minor": 1
}
